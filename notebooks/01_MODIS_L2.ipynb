{
 "metadata": {
  "name": "",
  "signature": "sha256:4afa3c8a5566132b2c60c28cd21a920621413a849d959da0f420d6a8d82fc1e2"
 },
 "nbformat": 3,
 "nbformat_minor": 0,
 "worksheets": [
  {
   "cells": [
    {
     "cell_type": "markdown",
     "metadata": {},
     "source": [
      "#Objectives\n",
      "* The objectives of this notebook is to apply the steps we did in `01_MODIS_L1B.ipynb` to MODIS L2 (06) Cloud Product.\n",
      "* The files required for this notebook including: \n",
      "        MYD06_L2.A2006303.2220.051.2009072115006.hdf\n",
      "        MYD03.A2006303.2220.006.2012078135515.hdf\n",
      "        MYD06_L2.A2006303.2220.051.2009072115006.h5\n",
      "        MYD03.A2006303.2220.006.2012078135515.h5\n",
      "* `MYD06*` are **MODIS AQUA L2 Cloud Product**, observed on **Oct 30 2006**. The temporal and spatial info. is the same as what's in `01_MODIS_L1B.ipynb`.\n",
      "* `MYD03*` is the geolocation file.\n",
      "* \\*.hdf is the HDF4 file which can be downloaded from <a href='http://ladsweb.nascom.nasa.gov/data/search.html'>LAADS Web</a>.\n",
      "* \\*.h5 is the HDF5 file which can be <a href='#Convert-HDF4-format-file-to-HDF5-format'>converted</a> from HDF4 files."
     ]
    },
    {
     "cell_type": "code",
     "collapsed": false,
     "input": [
      "__author__ = 'ATSC-301 UBC'"
     ],
     "language": "python",
     "metadata": {},
     "outputs": [],
     "prompt_number": ""
    },
    {
     "cell_type": "markdown",
     "metadata": {},
     "source": [
      "The following cells actually repeats the steps in `01_MODIS_L1B.ipynb`, so there is not extra documentation for them.\n",
      "\n",
      "Here we use (and save) 5 different variables in **`MYD06`** product: \n",
      "* Cloud Fraction, resolution is 1km\u00d71km\n",
      "* Cirrus Reflectance, 250m\u00d7250m\n",
      "* Cloud Top Pressure (hPa), 1km\u00d71km\n",
      "* Cloud Top Temperature (K), 1km\u00d71km\n",
      "* Cloud Optical Depth, 250m\u00d7250m\n",
      "\n",
      "Geographical information for 250m\u00d7250m datasets is in **`MYD03`** product, so we still need that file in the directory of `_data/MODIS_L1B`."
     ]
    },
    {
     "cell_type": "code",
     "collapsed": false,
     "input": [
      "import h5py\n",
      "import glob\n",
      "import scipy.io\n",
      "import numpy as np\n",
      "import matplotlib.pyplot as plt\n",
      "from __future__ import division\n",
      "from __future__ import print_function\n",
      "from mpl_toolkits.basemap import Basemap\n",
      "% matplotlib inline"
     ],
     "language": "python",
     "metadata": {},
     "outputs": [],
     "prompt_number": ""
    },
    {
     "cell_type": "code",
     "collapsed": false,
     "input": [
      "hdf5_06=glob.glob('_data/MODIS_L2/MYD06*.h5')\n",
      "print(\"MODIS MYD06 file found {}\".format(hdf5_06))\n",
      "hdf5_07=glob.glob('_data/MODIS_L2/MOD07*.h5')\n",
      "print(\"MODIS MOD07 file found {}\".format(hdf5_07))\n",
      "hdf5_Geo=glob.glob('_data/MODIS_L1B/MYD03*.h5')\n",
      "print(\"MODIS Geolocation file found {}\".format(hdf5_Geo))"
     ],
     "language": "python",
     "metadata": {},
     "outputs": [],
     "prompt_number": ""
    },
    {
     "cell_type": "code",
     "collapsed": false,
     "input": [
      "mod06_obj=h5py.File(hdf5_06[0], 'r')\n",
      "geo_obj=h5py.File(hdf5_Geo[0], 'r')"
     ],
     "language": "python",
     "metadata": {},
     "outputs": [],
     "prompt_number": ""
    },
    {
     "cell_type": "code",
     "collapsed": false,
     "input": [
      "lon1km= mod06_obj['mod06']['Geolocation Fields']['Longitude'][:]\n",
      "lat1km= mod06_obj['mod06']['Geolocation Fields']['Latitude'][:]\n",
      "lonqkm=geo_obj['MODIS_Swath_Type_GEO']['Geolocation Fields']['Longitude'][:]\n",
      "latqkm=geo_obj['MODIS_Swath_Type_GEO']['Geolocation Fields']['Latitude'][:]"
     ],
     "language": "python",
     "metadata": {},
     "outputs": [],
     "prompt_number": ""
    },
    {
     "cell_type": "code",
     "collapsed": false,
     "input": [
      "CFrac = mod06_obj['mod06']['Data Fields']['Cloud_Fraction'][:].astype(float)\n",
      "Ci_ref = mod06_obj['mod06']['Data Fields']['Cirrus_Reflectance'][:].astype(float)\n",
      "CTP = mod06_obj['mod06']['Data Fields']['Cloud_Top_Pressure'][:].astype(float)\n",
      "CTT = mod06_obj['mod06']['Data Fields']['Cloud_Top_Temperature'][:].astype(float)\n",
      "COT = mod06_obj['mod06']['Data Fields']['Cloud_Optical_Thickness'][:].astype(float)"
     ],
     "language": "python",
     "metadata": {},
     "outputs": [],
     "prompt_number": ""
    },
    {
     "cell_type": "code",
     "collapsed": false,
     "input": [
      "FillVal = mod06_obj['mod06']['Data Fields']['Cloud_Fraction'].attrs.values()[2]\n",
      "scale = mod06_obj['mod06']['Data Fields']['Cloud_Fraction'].attrs.values()[5]\n",
      "offset = mod06_obj['mod06']['Data Fields']['Cloud_Fraction'].attrs.values()[6]\n",
      "CFrac[CFrac == FillVal] = np.nan\n",
      "CFrac = (CFrac - offset*np.ones(CFrac.shape))*scale\n",
      "\n",
      "FillVal = mod06_obj['mod06']['Data Fields']['Cirrus_Reflectance'].attrs.values()[3]\n",
      "scale = mod06_obj['mod06']['Data Fields']['Cirrus_Reflectance'].attrs.values()[6]\n",
      "offset = mod06_obj['mod06']['Data Fields']['Cirrus_Reflectance'].attrs.values()[7]\n",
      "Ci_ref[Ci_ref == FillVal] = np.nan\n",
      "Ci_ref = (Ci_ref - offset*np.ones(Ci_ref.shape))*scale\n",
      "\n",
      "FillVal = mod06_obj['mod06']['Data Fields']['Cloud_Top_Pressure'].attrs.values()[2]\n",
      "scale = mod06_obj['mod06']['Data Fields']['Cloud_Top_Pressure'].attrs.values()[5]\n",
      "offset = mod06_obj['mod06']['Data Fields']['Cloud_Top_Pressure'].attrs.values()[6]\n",
      "CTP[CTP == FillVal] = np.nan\n",
      "CTP = (CTP - offset*np.ones(CTP.shape))*scale\n",
      "\n",
      "FillVal = mod06_obj['mod06']['Data Fields']['Cloud_Top_Temperature'].attrs.values()[2]\n",
      "scale = mod06_obj['mod06']['Data Fields']['Cloud_Top_Temperature'].attrs.values()[5]\n",
      "offset = mod06_obj['mod06']['Data Fields']['Cloud_Top_Temperature'].attrs.values()[6]\n",
      "CTT[CTT == FillVal] = np.nan\n",
      "CTT = (CTT - offset*np.ones(CTT.shape))*scale\n",
      "\n",
      "FillVal = mod06_obj['mod06']['Data Fields']['Cloud_Optical_Thickness'].attrs.values()[2]\n",
      "scale = mod06_obj['mod06']['Data Fields']['Cloud_Optical_Thickness'].attrs.values()[5]\n",
      "offset = mod06_obj['mod06']['Data Fields']['Cloud_Optical_Thickness'].attrs.values()[6]\n",
      "COT[COT == FillVal] = np.nan\n",
      "COT = (COT - offset*np.ones(COT.shape))*scale"
     ],
     "language": "python",
     "metadata": {},
     "outputs": [],
     "prompt_number": ""
    },
    {
     "cell_type": "code",
     "collapsed": false,
     "input": [
      "def reproj_L1B(raw_data, raw_x, raw_y, xlim, ylim, res):\n",
      "    \n",
      "    '''\n",
      "    =========================================================================================\n",
      "    Reproject MODIS L1B file to a regular grid\n",
      "    -----------------------------------------------------------------------------------------\n",
      "    d_array, x_array, y_array, bin_count = reproj_L1B(raw_data, raw_x, raw_y, xlim, ylim, res)\n",
      "    -----------------------------------------------------------------------------------------\n",
      "    Input:\n",
      "            raw_data: L1B data, N*M 2-D array.\n",
      "            raw_x: longitude info. N*M 2-D array.\n",
      "            raw_y: latitude info. N*M 2-D array.\n",
      "            xlim: range of longitude, a list.\n",
      "            ylim: range of latitude, a list.\n",
      "            res: resolution, [resolution_x, resolution_y].\n",
      "    Output:\n",
      "            d_array: L1B reprojected data.\n",
      "            x_array: reprojected longitude.\n",
      "            y_array: reprojected latitude.\n",
      "            bin_count: how many raw data point included in a reprojected grid.\n",
      "    Note:\n",
      "            function do not performs well if \"res\" is larger than the resolution of input data.\n",
      "            size of \"raw_data\", \"raw_x\", \"raw_y\" must agree.\n",
      "    =========================================================================================\n",
      "    '''\n",
      "    import numpy as np\n",
      "    \n",
      "    x_bins=np.arange(xlim[0], xlim[1], res[0])\n",
      "    y_bins=np.arange(ylim[0], ylim[1], res[1])\n",
      "#    x_indices=np.digitize(raw_x.flat, x_bins)\n",
      "#    y_indices=np.digitize(raw_y.flat, y_bins)\n",
      "    x_indices=np.searchsorted(x_bins, raw_x.flat, 'right')\n",
      "    y_indices=np.searchsorted(y_bins, raw_y.flat, 'right')\n",
      "        \n",
      "    y_array=np.zeros([len(y_bins), len(x_bins)], dtype=np.float)\n",
      "    x_array=np.zeros([len(y_bins), len(x_bins)], dtype=np.float)\n",
      "    d_array=np.zeros([len(y_bins), len(x_bins)], dtype=np.float)\n",
      "    bin_count=np.zeros([len(y_bins), len(x_bins)], dtype=np.int)\n",
      "    \n",
      "    for n in range(len(y_indices)): #indices\n",
      "        bin_row=y_indices[n]-1 # '-1' is because we call 'right' in np.searchsorted.\n",
      "        bin_col=x_indices[n]-1\n",
      "        bin_count[bin_row, bin_col] += 1\n",
      "        x_array[bin_row, bin_col] += raw_x.flat[n]\n",
      "        y_array[bin_row, bin_col] += raw_y.flat[n]\n",
      "        d_array[bin_row, bin_col] += raw_data.flat[n]\n",
      "                   \n",
      "    for i in range(x_array.shape[0]):\n",
      "        for j in range(x_array.shape[1]):\n",
      "            if bin_count[i, j] > 0:\n",
      "                x_array[i, j]=x_array[i, j]/bin_count[i, j]\n",
      "                y_array[i, j]=y_array[i, j]/bin_count[i, j]\n",
      "                d_array[i, j]=d_array[i, j]/bin_count[i, j] \n",
      "            else:\n",
      "                d_array[i, j]=np.nan\n",
      "                x_array[i, j]=np.nan\n",
      "                y_array[i,j]=np.nan\n",
      "                \n",
      "    return d_array, x_array, y_array, bin_count"
     ],
     "language": "python",
     "metadata": {},
     "outputs": [],
     "prompt_number": ""
    },
    {
     "cell_type": "code",
     "collapsed": false,
     "input": [
      "xlim=[np.min(lon1km), np.max(lon1km)]\n",
      "ylim=[np.min(lat1km), np.max(lat1km)]\n",
      "CFrac_grid, longitude1km, latitude1km, _ = reproj_L1B(CFrac, lon1km, lat1km, xlim, ylim, [0.33, 0.33])\n",
      "CTP_grid, _, _, _ = reproj_L1B(CTP, lon1km, lat1km, xlim, ylim, [0.33, 0.33])\n",
      "CTT_grid, _, _, _ = reproj_L1B(CTT, lon1km, lat1km, xlim, ylim, [0.33, 0.33])\n",
      "Ci_ref_grid, longitudeqkm, latitudeqkm, _ = reproj_L1B(Ci_ref, lonqkm, latqkm, xlim, ylim, [0.05, 0.05])\n",
      "COT_grid, _, _, _ = reproj_L1B(COT, lonqkm, latqkm, xlim, ylim, [0.05, 0.05])"
     ],
     "language": "python",
     "metadata": {},
     "outputs": [],
     "prompt_number": ""
    },
    {
     "cell_type": "code",
     "collapsed": false,
     "input": [
      "longitude1km=np.ma.masked_where(np.isnan(longitude1km), longitude1km)\n",
      "latitude1km=np.ma.masked_where(np.isnan(latitude1km), latitude1km)\n",
      "CFrac_mask=np.ma.masked_where(np.isnan(CFrac_grid), CFrac_grid)\n",
      "Ci_ref_mask=np.ma.masked_where(np.isnan(Ci_ref_grid), Ci_ref_grid)\n",
      "CTP_mask=np.ma.masked_where(np.isnan(CTP_grid), CTP_grid)\n",
      "CTT_mask=np.ma.masked_where(np.isnan(CTT_grid), CTT_grid)\n",
      "COT_mask=np.ma.masked_where(np.isnan(COT_grid), COT_grid)"
     ],
     "language": "python",
     "metadata": {},
     "outputs": [],
     "prompt_number": ""
    },
    {
     "cell_type": "code",
     "collapsed": false,
     "input": [
      "def plot_MODIS(lon, lat, z, zlim, CMap, name_var, name_title, name_to_save):\n",
      "    vancity_lat=49.25\n",
      "    vancity_lon=-123.1\n",
      "    proj=Basemap(resolution='l', projection='lcc', \\\n",
      "                lat_1=30, lat_2=60, lat_0=45, lon_0=-140, \\\n",
      "                llcrnrlon=-155, llcrnrlat=30, \\\n",
      "                urcrnrlon=-110, urcrnrlat=56)\n",
      "    fig=plt.figure(figsize=(12, 12))\n",
      "    ax=plt.gca()\n",
      "    parallels=np.arange(-90, 90, 5)\n",
      "    meridians=np.arange(0, 360, 5)\n",
      "    proj.drawparallels(parallels, labels=[1, 0, 0, 0],\\\n",
      "                      fontsize=10, latmax=90)\n",
      "    proj.drawmeridians(meridians, labels=[0, 0, 0, 1],\\\n",
      "                      fontsize=10, latmax=90)\n",
      "#    proj.drawlsmask(land_color=[0.925, 0.875, 0.375], ocean_color=[0.375, 0.5, 0.75], \\\n",
      "#                    lakes=False, resolution='l')\n",
      "    proj.drawcoastlines(linewidth=1.5, linestyle='solid', color=[0.25, 0.25, 0.25])\n",
      "    x, y=proj(lon, lat)\n",
      "    x_van, y_van=proj(vancity_lon, vancity_lat)\n",
      "    x_text, y_text=proj(vancity_lon+4.5, vancity_lat-0.25)\n",
      "    CS=proj.pcolor(x, y, z, cmap=CMap, vmin=zlim[0], vmax=zlim[1])\n",
      "    CBar=proj.colorbar(CS, 'right', size='5%', pad='5%')\n",
      "    CBar.set_label(name_var, fontsize=12, fontweight='bold')\n",
      "    CBar.ax.tick_params(axis='y', length=0)\n",
      "    proj.plot(x_van, y_van, marker='o', markersize=18, mfc='k', mec='k')\n",
      "    plt.text(x_text, y_text, 'Vancouver', fontsize=16, fontweight='bold',\n",
      "                        ha='center', va='center', color='k')\n",
      "    ax.set_title(name_title, fontweight='bold', fontsize=14)\n",
      "    path='_figures/'\n",
      "    plt.savefig(path+name_to_save, dpi=450, facecolor='w', edgecolor='w',\n",
      "                orientation='portrait', papertype='a4', format='png',\n",
      "                transparent=True, bbox_inches='tight', pad_inches=0,\n",
      "                frameon=None)\n",
      "    plt.show()"
     ],
     "language": "python",
     "metadata": {},
     "outputs": [],
     "prompt_number": ""
    },
    {
     "cell_type": "code",
     "collapsed": false,
     "input": [
      "#hdf5_06[0][-43:-21]\n",
      "plot_MODIS(longitude1km, latitude1km, CFrac_mask*100, [0, 100], plt.cm.jet_r, \\\n",
      "           'Cloud Fraction ( % )', 'Cloud Fraction\\n'+hdf5_06[0][-43:-21], '01_MODIS_L2_CFrac.png')"
     ],
     "language": "python",
     "metadata": {},
     "outputs": [],
     "prompt_number": ""
    },
    {
     "cell_type": "code",
     "collapsed": false,
     "input": [
      "plot_MODIS(longitude1km, latitude1km, CTP_mask, [50, 1050], plt.cm.jet, \\\n",
      "           'Cloud Top Pressure ( hPa )', 'Cloud Top Pressure\\n'+hdf5_06[0][-43:-21], '01_MODIS_L2_CTP.png')"
     ],
     "language": "python",
     "metadata": {},
     "outputs": [],
     "prompt_number": ""
    },
    {
     "cell_type": "code",
     "collapsed": false,
     "input": [
      "plot_MODIS(longitude1km, latitude1km, CTT_mask, [210, 290], plt.cm.hot_r, \\\n",
      "           'Cloud Top Temperature ( K )', 'Cloud Top Temperature\\n'+hdf5_06[0][-43:-21], '01_MODIS_L2_CTT.png')"
     ],
     "language": "python",
     "metadata": {},
     "outputs": [],
     "prompt_number": ""
    },
    {
     "cell_type": "code",
     "collapsed": false,
     "input": [
      "plot_MODIS(longitudeqkm, latitudeqkm, Ci_ref_mask, [0, 0.5], plt.cm.gray, \\\n",
      "           'Cirrus Reflectance', 'Cirrus Reflectance\\n'+hdf5_06[0][-43:-21], '01_MODIS_L2_CiRef.png')"
     ],
     "language": "python",
     "metadata": {},
     "outputs": [],
     "prompt_number": ""
    },
    {
     "cell_type": "code",
     "collapsed": false,
     "input": [
      "plot_MODIS(longitudeqkm, latitudeqkm, COT_mask, [0, 100], plt.cm.YlGnBu_r, \\\n",
      "           'Cloud Optical Thickness', 'Cloud Optical Thickness\\n'+hdf5_06[0][-43:-21], '01_MODIS_L2_COT.png')"
     ],
     "language": "python",
     "metadata": {},
     "outputs": [],
     "prompt_number": ""
    },
    {
     "cell_type": "code",
     "collapsed": false,
     "input": [
      "scipy.io.savemat('_share/01_MODIS_L2_CFrac', {'longitude': longitude1km, 'latitude': latitude1km, 'CFrac': CFrac_grid})\n",
      "scipy.io.savemat('_share/01_MODIS_L2_CTP', {'longitude': longitude1km, 'latitude': latitude1km, 'CTP': CTP_grid})\n",
      "scipy.io.savemat('_share/01_MODIS_L2_CTT', {'longitude': longitude1km, 'latitude': latitude1km, 'CTT': CTT_grid})\n",
      "scipy.io.savemat('_share/01_MODIS_L2_CiRef', {'longitude': longitudeqkm, 'latitude': latitudeqkm, 'CiRef': Ci_ref_grid})\n",
      "scipy.io.savemat('_share/01_MODIS_L2_COT', {'longitude': longitudeqkm, 'latitude': latitudeqkm, 'COT': COT_grid})"
     ],
     "language": "python",
     "metadata": {},
     "outputs": [],
     "prompt_number": ""
    }
   ],
   "metadata": {}
  }
 ]
}