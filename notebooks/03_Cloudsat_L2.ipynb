{
 "metadata": {
  "name": "",
  "signature": "sha256:1e9217542e59ba73df46561367a876646f17aace28a0fb9b4e222f54000f993e"
 },
 "nbformat": 3,
 "nbformat_minor": 0,
 "worksheets": [
  {
   "cells": [
    {
     "cell_type": "markdown",
     "metadata": {},
     "source": [
      "#Objectives\n",
      "* The objectives of this notebook is to provide examples about working with CloudSat L2 and AUX files, including:\n",
      "    * Background information of CloudSat Project, its functionality and mission;\n",
      "    * How to access to the CloudSat datasets via <a href='http://www.cloudsat.cira.colostate.edu/index.php'>CloudSat Data Processing Center</a>;\n",
      "    * How to use a custom Python module e.g. `CloudSat_tools`;\n",
      "* The files required for this notebook including: \n",
      "        2006303212128_02702_CS_2B-GEOPROF_GRANULE_P_R04_E02.hdf\n",
      "        2006303212128_02702_CS_2B-GEOPROF-LIDAR_GRANULE_P2_R04_E02.hdf\n",
      "        2006303212128_02702_CS_2C-RAIN-PROFILE_GRANULE_P_R04_E02.hdf\n",
      "        2006303212128_02702_CS_ECMWF-AUX_GRANULE_P_R04_E02.hdf\n",
      "        \n",
      "        2006303212128_02702_CS_2B-GEOPROF_GRANULE_P_R04_E02.h5\n",
      "        2006303212128_02702_CS_2B-GEOPROF-LIDAR_GRANULE_P2_R04_E02.h5\n",
      "        2006303212128_02702_CS_2C-RAIN-PROFILE_GRANULE_P_R04_E02.h5\n",
      "        2006303212128_02702_CS_ECMWF-AUX_GRANULE_P_R04_E02.h5\n",
      "* Files above are **CloudSat L2** and **AUX** products, **Granule 02702**, observed on **Oct 30 2006**, Which consist with what we discussed in **`01_MODIS_L1B.ipynb`** and **`02_CALIPSO_L2.ipynb`**.\n",
      "* \\*.hdf is the HDF4 file, **Section 2** introduced the way to get these files.\n",
      "* \\*.h5 is the HDF5 file which can be <a href='#Convert-HDF4-format-file-to-HDF5-format'>converted</a> from HDF4 files. See **`01_MODIS_L1B.ipynb`** and **`02_CALIPSO_L2.ipynb`** for more information."
     ]
    },
    {
     "cell_type": "code",
     "collapsed": false,
     "input": [
      "__author__ = 'ATSC-301 UBC'"
     ],
     "language": "python",
     "metadata": {},
     "outputs": [],
     "prompt_number": ""
    },
    {
     "cell_type": "markdown",
     "metadata": {},
     "source": [
      "# Content\n",
      "1. [**About CloudSat Project**](#About-CloudSat-Project)\n",
      "1. [**Findout the datasets we need**](#Findout-the-datasets-we-need)\n",
      "  2. [Step1 - Check data Availability](#Step1---Check-data-Availability)\n",
      "  2. [Step2 - Choose the date, time and Granule](#Step2---Choose-the-date,-time-and-Granule)\n",
      "  2. [Step3 - Order Datasets](#Step3---Order-Datasets)\n",
      "  2. [Step4 - Download & convert](#Step4---Download-&-convert)\n",
      "1. [Import modules and tools](#Import-modules-and-tools)\n",
      "1. [**Read CloudSat data through CloudSat_tools**](#Read-CloudSat-data-through-CloudSat_tools)\n",
      "  2. [Read geo-location, height and time](#Read-geo-location,-height-and-time)\n",
      "  2. [Read physical records (reflectivity, cloud top height, etc.](#Read-physical-records-(reflectivity,-cloud-top-height,-etc.))\n",
      "  2. [View the orbit track](#View-the-orbit-track)\n",
      "1. [**Segment the orbit track**](#Segment-the-orbit-track)\n",
      "1. [**Plot the result**](#Plot-the-result)\n",
      "  2. [Rain Rate](#Rain-Rate)\n",
      "  2. [Lidar Cloud Top Height](#Lidar-Cloud-Top-Height)\n",
      "  2. [Radar Reflectivity](#Radar-Reflectivity)\n",
      "  2. [Cloud Liquid Water](#Cloud-Liquid-Water)\n",
      "  2. [ECMWF Background Info.](#ECMWF-Background-Info.)"
     ]
    },
    {
     "cell_type": "heading",
     "level": 1,
     "metadata": {},
     "source": [
      "About CloudSat Project"
     ]
    },
    {
     "cell_type": "markdown",
     "metadata": {},
     "source": [
      "CloudSat and CALIPSO launched by the same rocket (Delta II) and use the same orbit.\n",
      "\n",
      "<a href='http://en.wikipedia.org/wiki/CloudSat'>**Wikipedia *CloudSat* Page**</a>\n",
      ">CloudSat is a NASA Earth observation satellite, which was launched on a Delta II rocket on April 28, 2006. ***It uses radar to measure the altitude and properties of clouds***, adding to information on the relationship between clouds and climate in order to help resolve questions about global warming.\n",
      "\n",
      ">CloudSat flies in formation in the \"A Train\", with several other satellites: Aqua, Aura, CALIPSO and the French PARASOL.\n",
      "\n",
      ">The mission was selected under NASA's Earth System Science Pathfinder program in 1999. Ball Aerospace & Technologies Corp. in Boulder, Colorado, designed and built the spacecraft.\n",
      "\n",
      ">CloudSat's primary mission was scheduled to continue for 22 months in order to allow more than one seasonal cycle to be observed.\n",
      "\n",
      "**<a href='http://cloudsat.atmos.colostate.edu/'>*CloudSat Project* Page</a> at Dept. of Atmospheric Science, Colorado State U.**\n",
      "\n",
      ">CloudSat was selected as a NASA Earth System Science Pathfinder satellite mission in 1999 ***to provide observations necessary to advance our understanding of cloud abundance, distribution, structure, and radiative properties.*** Since 2006, CloudSat has flown the first satellite-based millimeter-wavelength cloud radar\u2014a radar that is more than 1000 times more sensitive than existing weather radars. Unlike ground-based weather radars that use centimeter wavelengths to detect raindrop-sized particles, CloudSat's radar allows us to detect the much smaller particles of liquid water and ice that constitute the large cloud masses that make our weather.\n",
      "\n",
      ">CloudSat was co-manifested with the CALIPSO (Cloud-Aerosol Lidar and Infrared Pathfinder Satellite Observations) satellite aboard a Delta II rocket for its launch on 28 April 2006. ***In a series of maneuvers, CloudSat and CALIPSO joined three satellites already in orbit ( Aqua, PARASOL, and Aura) to form a constellation of satellites known as the A-Train on 1 June 2006.*** The satellites fly in a nearly circular orbit with an equatorial altitude of approximately 705 km. The orbit is sun-synchronous, maintaining a roughly fixed angle between the orbital plane and the mean solar meridian. CloudSat maintains a close formation with Aqua and a particularly close formation with CALIPSO, providing near-simultaneous and collocated observations with the instruments on these two platforms. Combined data products are in development using data streams from CloudSat + Aqua and CloudSat + CALIPSO.\n",
      "\n"
     ]
    },
    {
     "cell_type": "heading",
     "level": 1,
     "metadata": {},
     "source": [
      "Findout the datasets we need "
     ]
    },
    {
     "cell_type": "heading",
     "level": 3,
     "metadata": {},
     "source": [
      "Step1 - Check data Availability"
     ]
    },
    {
     "cell_type": "markdown",
     "metadata": {},
     "source": [
      "Register in the <a href='http://www.cloudsat.cira.colostate.edu/index.php'>**CloudSat Data Processing Center**</a> and look at the data product information."
     ]
    },
    {
     "cell_type": "markdown",
     "metadata": {},
     "source": [
      "Here is a list of CloudSat data product with descriptions:\n",
      "\n",
      "<table align=\"left\">\n",
      "<tr>\n",
      "<th>Standard Data Product</th>\n",
      "<th>Description</th>\n",
      "</tr>\n",
      "<tr>\n",
      "<td>1B-CPR</td>\n",
      "<td>L1B Radar Backscatter Profiles. Including received echo power</td>\n",
      "</tr>\n",
      "<tr>\n",
      "<td>2B-GEOPROF</td>\n",
      "<td>L2B Cloud Geometrical Profile. Including cloud mask, radar reflectivities</td>\n",
      "</tr>\n",
      "<tr>\n",
      "<td>2B-CLDCLASS</td>\n",
      "<td>L2B Cloud Classification</td>\n",
      "</tr>\n",
      "<tr>\n",
      "<td>2B-CWC-RO</td>\n",
      "<td>L2B Radar-only Liquid/Ice Water Content</td>\n",
      "</tr>\n",
      "<tr>\n",
      "<td>2B-TAU</td>\n",
      "<td>L2B Cloud Optical Depth</td>\n",
      "</tr>\n",
      "</tr>\n",
      "<tr>\n",
      "<td>2B-CWC-RVOD</td>\n",
      "<td>L2B Radar Liquid/Ice Water Content plus Visible Optical Depth</td>\n",
      "</tr>\n",
      "</tr>\n",
      "<tr>\n",
      "<td>2B-FLXHR</td>\n",
      "<td>L2B Radiative fluxes and heating rates</td>\n",
      "</tr>\n",
      "</tr>\n",
      "<tr>\n",
      "<td>2B-GEOPROF-LIDAR</td>\n",
      "<td>L2B CloudSat CPR plus CALIPSO Lidar Cloud mask</td>\n",
      "</tr>\n",
      "<tr>\n",
      "<td>2B-CLDCLASS-LIDAR</td>\n",
      "<td>L2B Cloud Clasification from CPR and CALIPO Lidar</td>_\n",
      "</tr>\n",
      "<tr>\n",
      "<td>2C-RAIN-PROFILE</td>\n",
      "<td>L2C Cloud Rain Rate and Liquid/Ice Water Content</td>\n",
      "</tr>\n",
      "<tr>\n",
      "<td>2C-PRECIP-COLUMN</td>\n",
      "<td>L2C Column Integrated Precipitation</td>\n",
      "</tr>\n",
      "<tr>\n",
      "<td>2C-CLOUDSAT-TRMM</td>\n",
      "<td>L2C CloudSat Cloud Mask plus L2 TRMM at Orbit Intersections</td>\n",
      "</tr>\n",
      "<tr>\n",
      "<th>Auxiliary Products</th>\n",
      "<th>Description</th>\n",
      "</tr>\n",
      "<tr>\n",
      "<td>ECMWF-AUX</td>\n",
      "<td>ECMWF Auxiliary Data (State Variables)</td>\n",
      "</tr>\n",
      "<tr>\n",
      "<td>MODIS-AUX</td>\n",
      "<td>MODIS Auxiliary Data (Data from 22 MODIS Channels)</td>\n",
      "</tr>\n",
      "</table>"
     ]
    },
    {
     "cell_type": "markdown",
     "metadata": {},
     "source": [
      "Here we only use Standard L2 datasets **2B-GEOPROF**, **2B-GEOPROF-LIDAR**, **2C-RAIN-PROFILE** and Auxiliary Product **ECMWF-AUX**."
     ]
    },
    {
     "cell_type": "heading",
     "level": 3,
     "metadata": {},
     "source": [
      "Step2 - Choose the date, time and Granule"
     ]
    },
    {
     "cell_type": "markdown",
     "metadata": {},
     "source": [
      "Enter in the CloudSat <a href='http://www.cloudsat.cira.colostate.edu/dpcstatusQL.php'>**Quicklook Image Archive**</a>, select the date, time and check the orbit track in Granule number, see if the image agrees with your idea or not.\n",
      "\n",
      "After a careful look, we choose 10/30/2006, Granule 02702.\n",
      "\n",
      "Here is a screenshot of the CloudSat Image Archive:\n",
      "\n",
      "====================================================================================================================================\n",
      "\n",
      "<img src=\"_figures/03_CloudSat_Quicklook_Images.png\" width=1200 align=\"left\"/>\n",
      "\n",
      "===================================================================================================================================="
     ]
    },
    {
     "cell_type": "heading",
     "level": 3,
     "metadata": {},
     "source": [
      "Step3 - Order Datasets"
     ]
    },
    {
     "cell_type": "markdown",
     "metadata": {},
     "source": [
      "Once you have made your choice, you can go to <a href='http://www.cloudsat.cira.colostate.edu/data_dist/OrderData.php'>**Data Order System**</a>. Do the following steps: \n",
      "\n",
      "* Click \"Browse\", select the  the date, time, Granule Number and products.\n",
      "* Select the products you need, click \"Add to Cart\".\n",
      "* Move to \"Cart ${you ordered file size}\" and click \"Place Order\".\n",
      "* Check your \"Order Status\", it may look like this:\n",
      "\n",
      "<img src=\"_figures/03_CloudSat_Order_Status.png\" width=700 align=\"left\"/>"
     ]
    },
    {
     "cell_type": "markdown",
     "metadata": {},
     "source": [
      "* When your order complete:\n",
      "\n",
      "<img src=\"_figures/03_CloudSat_Order_Complete.png\" width=700 align=\"left\"/>"
     ]
    },
    {
     "cell_type": "heading",
     "level": 3,
     "metadata": {},
     "source": [
      "Step4 - Download & convert"
     ]
    },
    {
     "cell_type": "markdown",
     "metadata": {},
     "source": [
      "See **`01_MODIS_L1B.ipynb`** and **`02_CALIPSO_L2.ipynb`** for more information."
     ]
    },
    {
     "cell_type": "heading",
     "level": 1,
     "metadata": {},
     "source": [
      "Import modules and tools"
     ]
    },
    {
     "cell_type": "markdown",
     "metadata": {},
     "source": [
      "This notebook use a developed Python module **`CloudSat_tools`** (in `_libs/CloudSat_tools`) to read the datasets. So firstly we should build a new path for our customized module."
     ]
    },
    {
     "cell_type": "code",
     "collapsed": false,
     "input": [
      "import sys\n",
      "sys.path.insert(0, '_libs/CloudSat_tools')"
     ],
     "language": "python",
     "metadata": {},
     "outputs": [],
     "prompt_number": ""
    },
    {
     "cell_type": "code",
     "collapsed": false,
     "input": [
      "import glob\n",
      "import h5py\n",
      "import scipy.io\n",
      "import numpy as np\n",
      "#\n",
      "import orbit_tool as OT\n",
      "import cloudsat_tool as CT\n",
      "OT=reload(OT)\n",
      "CT=reload(CT)\n",
      "#\n",
      "from __future__ import division\n",
      "from __future__ import print_function\n",
      "% matplotlib inline"
     ],
     "language": "python",
     "metadata": {},
     "outputs": [],
     "prompt_number": ""
    },
    {
     "cell_type": "heading",
     "level": 1,
     "metadata": {},
     "source": [
      "Read CloudSat data through `CloudSat_tools`"
     ]
    },
    {
     "cell_type": "markdown",
     "metadata": {},
     "source": [
      "Searching required \\*.h5 files in `_data/CloudSat_L2/` directory, Make sure that you have the converted HDF5 files exist in it."
     ]
    },
    {
     "cell_type": "code",
     "collapsed": false,
     "input": [
      "hdf5_radar=glob.glob('_data/CloudSat_L2/*CS_2B-GEOPROF_GRANULE*.h5')\n",
      "print(\"2B-GEOPROF file found\\n{}\".format(hdf5_radar))\n",
      "print(\"==================================================================\")\n",
      "hdf5_lidar=glob.glob('_data/CloudSat_L2/*2B-GEOPROF-LIDAR*.h5')\n",
      "print(\"2B-GEOPROF-LIDAR file found\\n{}\".format(hdf5_lidar))\n",
      "print(\"==================================================================\")\n",
      "hdf5_rain=glob.glob('_data/CloudSat_L2/*2C-RAIN-PROFILE*.h5')\n",
      "print(\"2C-RAIN-PROFILE file found\\n{}\".format(hdf5_rain))\n",
      "print(\"==================================================================\")\n",
      "hdf5_EC=glob.glob('_data/CloudSat_L2/*ECMWF-AUX*.h5')\n",
      "print(\"ECMWF-AUX file found\\n{}\".format(hdf5_EC))"
     ],
     "language": "python",
     "metadata": {},
     "outputs": [],
     "prompt_number": ""
    },
    {
     "cell_type": "heading",
     "level": 2,
     "metadata": {},
     "source": [
      "Read geo-location, height and time"
     ]
    },
    {
     "cell_type": "code",
     "collapsed": false,
     "input": [
      "help(CT.get_geo)\n",
      "lat, lon, date_day, prof_sec, dem_elev = CT.get_geo(hdf5_radar[0], 1)\n",
      "#lat_lidar, lon_lidar, date_day_lidar, prof_seconds_lidar, dem_elevation_lidar = readCS.get_geo(hdf5_lidar[0])\n",
      "#lat_rain, lon_rain, date_day_rain, prof_seconds_rain, dem_elevation_rain = readCS.get_geo(hdf5_rain[0])\n",
      "#lat_EC, lon_EC, date_day_EC, prof_seconds_EC, dem_elevation_EC = readCS.get_geo(hdf5_EC[0])"
     ],
     "language": "python",
     "metadata": {},
     "outputs": [],
     "prompt_number": ""
    },
    {
     "cell_type": "heading",
     "level": 2,
     "metadata": {},
     "source": [
      "Read physical records (reflectivity, cloud top height, etc.)"
     ]
    },
    {
     "cell_type": "code",
     "collapsed": false,
     "input": [
      "help(CT.read_ecmwf)"
     ],
     "language": "python",
     "metadata": {},
     "outputs": [],
     "prompt_number": ""
    },
    {
     "cell_type": "code",
     "collapsed": false,
     "input": [
      "height, reflect = CT.read_radar(hdf5_radar[0], 2)\n",
      "CFrac, LayerTop, LayerBase = CT.read_lidar(hdf5_lidar[0], 2)\n",
      "rain, precli, precice, clw = CT.read_rain(hdf5_rain[0], 2)\n",
      "P, SLP, T, T2m, SKT, q, O3 = CT.read_ecmwf(hdf5_EC[0], 2)"
     ],
     "language": "python",
     "metadata": {},
     "outputs": [],
     "prompt_number": ""
    },
    {
     "cell_type": "code",
     "collapsed": false,
     "input": [],
     "language": "python",
     "metadata": {},
     "outputs": [],
     "prompt_number": ""
    },
    {
     "cell_type": "heading",
     "level": 2,
     "metadata": {},
     "source": [
      "View the orbit track"
     ]
    },
    {
     "cell_type": "code",
     "collapsed": false,
     "input": [
      "#help(dOrbit.draw_orbit)\n",
      "lonlim=[-330, 120]; latlim=[-90, 90]\n",
      "OT.draw_orbit(hdf5_radar[0], lonlim, latlim, 625, 2, 1)"
     ],
     "language": "python",
     "metadata": {},
     "outputs": [],
     "prompt_number": ""
    },
    {
     "cell_type": "heading",
     "level": 2,
     "metadata": {},
     "source": [
      "Segment the orbit track"
     ]
    },
    {
     "cell_type": "markdown",
     "metadata": {},
     "source": [
      "The CloudSat files we used here has the same Granule Nmber as CALIPSO files we used, so it cross the clouds in the same way, and we segment the orbit by the same criteria:\n",
      "\n",
      "$35^\\circ N < Latitude < 52^\\circ N$\n",
      "\n",
      "Here we load the figure producted by `02_CALIPSO_L2.ipynb` to again, make it clear."
     ]
    },
    {
     "cell_type": "markdown",
     "metadata": {},
     "source": [
      "<img src=\"_figures/02_Cloud_and_Orbit_Track.png\" width=650 align=\"left\"/>"
     ]
    },
    {
     "cell_type": "markdown",
     "metadata": {},
     "source": [
      "We use `orbit_tool.segment_orbit` to segment the orbit, it uses `np.searchsorted`."
     ]
    },
    {
     "cell_type": "code",
     "collapsed": false,
     "input": [
      "xlim_indices = OT.segment_orbit(lat, [35, 52])"
     ],
     "language": "python",
     "metadata": {},
     "outputs": [],
     "prompt_number": ""
    },
    {
     "cell_type": "code",
     "collapsed": false,
     "input": [
      "time_seg=date_day[xlim_indices[0]:xlim_indices[1]]\n",
      "elev_seg=dem_elev[xlim_indices[0]:xlim_indices[1]]\n",
      "lat_seg=lat[xlim_indices[0]:xlim_indices[1]]\n",
      "lon_seg=lon[xlim_indices[0]:xlim_indices[1]];lon_seg=lon_seg[::-1]\n",
      "height_seg=height[xlim_indices[0]:xlim_indices[1], :]\n",
      "# reflectivity\n",
      "reflect_seg=reflect[xlim_indices[0]:xlim_indices[1], :]\n",
      "# cloud top height\n",
      "LayerTop_seg=LayerTop[xlim_indices[0]:xlim_indices[1], :]\n",
      "# rain rate\n",
      "rain_seg=rain[xlim_indices[0]:xlim_indices[1]]\n",
      "# cloud liquid water\n",
      "clw_seg=clw[xlim_indices[0]:xlim_indices[1], :]\n",
      "# pressure, temperature, humidity\n",
      "P_seg=P[xlim_indices[0]:xlim_indices[1], :]\n",
      "T_seg=T[xlim_indices[0]:xlim_indices[1], :]\n",
      "q_seg=q[xlim_indices[0]:xlim_indices[1], :]"
     ],
     "language": "python",
     "metadata": {},
     "outputs": [],
     "prompt_number": ""
    },
    {
     "cell_type": "markdown",
     "metadata": {},
     "source": [
      "Save the result as \\*.mat"
     ]
    },
    {
     "cell_type": "code",
     "collapsed": false,
     "input": [
      "time_str=[0] * len(time_seg)\n",
      "for i in range(len(time_seg)):\n",
      "    time_str[i]=time_seg[i].strftime('%H:%M UCT')\n",
      "    \n",
      "scipy.io.savemat('_share/03_CloudSat_Radar', \\\n",
      "                 {'longitude': lon_seg, 'latitude': lat_seg, 'time': time_str, 'surf_elev': elev_seg, 'Cloud_ref': reflect_seg})\n",
      "scipy.io.savemat('_share/03_CloudSat_Lidar', \\\n",
      "                 {'longitude': lon_seg, 'latitude': lat_seg, 'time': time_str, 'surf_elev': elev_seg, 'Cloud_Top_Height': LayerTop_seg})\n",
      "scipy.io.savemat('_share/03_CloudSat_Rain', \\\n",
      "                 {'longitude': lon_seg, 'latitude': lat_seg, 'time': time_str, 'surf_elev': elev_seg, 'Cloud_Rain_Rate': rain_seg, 'Cloud_Liq_Water': clw_seg})\n",
      "scipy.io.savemat('_share/03_CloudSat_ECMWF', \\\n",
      "                 {'longitude': lon_seg, 'latitude': lat_seg, 'time': time_str, 'surf_elev': elev_seg, 'P': P_seg, 'T': T_seg, 'q': q_seg})"
     ],
     "language": "python",
     "metadata": {},
     "outputs": [],
     "prompt_number": ""
    },
    {
     "cell_type": "heading",
     "level": 1,
     "metadata": {},
     "source": [
      "Plot the result"
     ]
    },
    {
     "cell_type": "markdown",
     "metadata": {},
     "source": [
      "Here is a series of figures of variables in CloudSat products.\n",
      "\n",
      "Currently, `draw_CloudSat_1Dvar` and `draw_CloudSat_2Dvar` in `orbit_tool` provide a basic visualization of ClouSat variables.\n",
      "\n",
      "I made them work through following input sequence:\n",
      "```python\n",
      "OT.draw_CloudSat_1Dvar(lon, lat, time, 1Dvar, 'var_name ( unit )', 'title_name', '_figures/03_fig_name.png')\n",
      "OT.draw_CloudSat_2Dvar(lon, lat, height, elev, time, 2Dvar,  colormap, 'var_name ( unit )', 'title_name', '_figures/03_fig_name.png')\n",
      "```"
     ]
    },
    {
     "cell_type": "markdown",
     "metadata": {},
     "source": [
      "For 2-D variables, we need to expand the dimension of geolocation field to 2-D, here we use longitude:"
     ]
    },
    {
     "cell_type": "code",
     "collapsed": false,
     "input": [
      "_, lon_seg_mesh=np.meshgrid(height_seg[0, :], lon_seg)"
     ],
     "language": "python",
     "metadata": {},
     "outputs": [],
     "prompt_number": ""
    },
    {
     "cell_type": "heading",
     "level": 2,
     "metadata": {},
     "source": [
      "Rain Rate"
     ]
    },
    {
     "cell_type": "code",
     "collapsed": false,
     "input": [
      "title='CloudSat CloudSat Rain Rate '+time_seg[0].strftime('%Y%M%d')+'\\nGranule Number: '+hdf5_radar[0][-40:-35]\n",
      "OT.draw_CloudSat_1Dvar(lon_seg, lat_seg, time_seg, rain_seg, 'CloudSat Rain Rate ( mm/hr )', title, '_figures/03_CloudSat_rain.png')"
     ],
     "language": "python",
     "metadata": {},
     "outputs": [],
     "prompt_number": ""
    },
    {
     "cell_type": "heading",
     "level": 2,
     "metadata": {},
     "source": [
      "Lidar Cloud Top Height"
     ]
    },
    {
     "cell_type": "code",
     "collapsed": false,
     "input": [
      "title='CloudSat Lidar Cloud Top Height'+time_seg[0].strftime('%Y%M%d')+'\\nGranule Number: '+hdf5_radar[0][-40:-35]\n",
      "OT.draw_CloudSat_1Dvar(lon_seg, lat_seg, time_seg, LayerTop_seg[:, 0], 'Lidar Cloud Top Height( km )', title, '_figures/03_CloudLayerTop.png')"
     ],
     "language": "python",
     "metadata": {},
     "outputs": [],
     "prompt_number": ""
    },
    {
     "cell_type": "heading",
     "level": 2,
     "metadata": {},
     "source": [
      "Radar Reflectivity"
     ]
    },
    {
     "cell_type": "code",
     "collapsed": false,
     "input": [
      "title='CloudSat Radar Reflectivity '+time_seg[0].strftime('%Y%M%d')+'\\nGranule Number: '+hdf5_radar[0][-40:-35]\n",
      "OT.draw_CloudSat_2Dvar(lon_seg_mesh, lat_seg, height_seg, elev_seg, time_seg, reflect_seg,  plt.cm.jet,\\\n",
      "                 'Radar Reflectivity ( dbZ )', title, '_figures/03_RadarRef.png')"
     ],
     "language": "python",
     "metadata": {},
     "outputs": [],
     "prompt_number": ""
    },
    {
     "cell_type": "heading",
     "level": 2,
     "metadata": {},
     "source": [
      "Cloud Liquid Water"
     ]
    },
    {
     "cell_type": "code",
     "collapsed": false,
     "input": [
      "title='CloudSat Cloud Liquid Water '+time_seg[0].strftime('%Y%M%d')+'\\nGranule Number: '+hdf5_radar[0][-40:-35]\n",
      "OT.draw_CloudSat_2Dvar(lon_seg_mesh, lat_seg, height_seg, elev_seg, time_seg, clw_seg/1e3,  plt.cm.YlGnBu,\\\n",
      "                 'Cloud Liquid Water ( $\\mathrm{kg/m^3}$ )', title, '_figures/03_CLW.png')"
     ],
     "language": "python",
     "metadata": {},
     "outputs": [],
     "prompt_number": ""
    },
    {
     "cell_type": "heading",
     "level": 2,
     "metadata": {},
     "source": [
      "ECMWF Background Info."
     ]
    },
    {
     "cell_type": "markdown",
     "metadata": {},
     "source": [
      "**Pressure**"
     ]
    },
    {
     "cell_type": "code",
     "collapsed": false,
     "input": [
      "title='CloudSat ECMWF Pressure '+time_seg[0].strftime('%Y%M%d')+'\\nGranule Number: '+hdf5_radar[0][-40:-35]\n",
      "OT.draw_CloudSat_2Dvar(lon_seg_mesh, lat_seg, height_seg, elev_seg, time_seg, P_seg,  plt.cm.jet,\\\n",
      "                 'Pressure ( hPa )', title, '_figures/03_Pres.png')"
     ],
     "language": "python",
     "metadata": {},
     "outputs": [],
     "prompt_number": ""
    },
    {
     "cell_type": "markdown",
     "metadata": {},
     "source": [
      "**Temperature**"
     ]
    },
    {
     "cell_type": "code",
     "collapsed": false,
     "input": [
      "title='CloudSat ECMWF Temperature '+time_seg[0].strftime('%Y%M%d')+'\\nGranule Number: '+hdf5_radar[0][-40:-35]\n",
      "OT.draw_CloudSat_2Dvar(lon_seg_mesh, lat_seg, height_seg, elev_seg, time_seg, T_seg,  plt.cm.gnuplot,\\\n",
      "                 'Temperature ( K )', title, '_figures/03_Temp.png')"
     ],
     "language": "python",
     "metadata": {},
     "outputs": [],
     "prompt_number": ""
    },
    {
     "cell_type": "markdown",
     "metadata": {},
     "source": [
      "**Specific Humidity**"
     ]
    },
    {
     "cell_type": "code",
     "collapsed": false,
     "input": [
      "title='CloudSat ECMWF Specific Humidity '+time_seg[0].strftime('%Y%M%d')+'\\nGranule Number: '+hdf5_radar[0][-40:-35]\n",
      "OT.draw_CloudSat_2Dvar(lon_seg_mesh, lat_seg, height_seg, elev_seg, time_seg, q_seg*1e3,  plt.cm.gist_ncar_r,\\\n",
      "                 'Specific Humidity ( g/kg )', title, '_figures/03_q.png')"
     ],
     "language": "python",
     "metadata": {},
     "outputs": [],
     "prompt_number": ""
    },
    {
     "cell_type": "code",
     "collapsed": false,
     "input": [],
     "language": "python",
     "metadata": {},
     "outputs": []
    }
   ],
   "metadata": {}
  }
 ]
}