{
 "metadata": {
  "name": "",
  "signature": "sha256:85777d4f71481cf26d1e6abfcd76080f29c2d3f1a4fb7ac6c9af45dc3a680480"
 },
 "nbformat": 3,
 "nbformat_minor": 0,
 "worksheets": [
  {
   "cells": [
    {
     "cell_type": "markdown",
     "metadata": {},
     "source": [
      "### Exploring Cloudsat data"
     ]
    },
    {
     "cell_type": "markdown",
     "metadata": {},
     "source": [
      "In this notebook I show how to find a segment of an orbit using start\n",
      "and stop times, and make some plots that are rough and ready -- not as pretty\n",
      "as the ones in orbit_tools, but good for quick looks at the data\n",
      "\n",
      "It uses Cloudsat and MODIS subset data for Day 2006303  (Oct. 30, 2006), which can be downloaded from\n",
      "\n",
      "[http://clouds.eos.ubc.ca/~phil/Downloads/a301](http://clouds.eos.ubc.ca/~phil/Downloads/a301)\n",
      "\n",
      "and\n",
      "\n",
      "[http://clouds.eos.ubc.ca/~phil/Downloads/a301/radar](http://clouds.eos.ubc.ca/~phil/Downloads/a301/radar)"
     ]
    },
    {
     "cell_type": "code",
     "collapsed": false,
     "input": [
      "from __future__ import division\n",
      "from __future__ import print_function\n",
      "\n",
      "import site\n",
      "site.addsitedir('../lib/cloudsat')\n",
      "site.addsitedir('../lib')\n",
      "import glob\n",
      "import h5py\n",
      "import numpy as np\n",
      "import datetime\n",
      "import dateutil.tz as tz\n",
      "#\n",
      "from matplotlib import pyplot as plt\n",
      "import orbit_tool as OT\n",
      "import cloudsat_tool as CT\n",
      "reload(OT)\n",
      "reload(CT)"
     ],
     "language": "python",
     "metadata": {},
     "outputs": [],
     "prompt_number": ""
    },
    {
     "cell_type": "code",
     "collapsed": false,
     "input": [
      "%matplotlib inline"
     ],
     "language": "python",
     "metadata": {},
     "outputs": [],
     "prompt_number": ""
    },
    {
     "cell_type": "markdown",
     "metadata": {},
     "source": [
      "First open the ECMWF reanalysis file that contains pressure, temperature etc. along the swath from the European Center forecast model"
     ]
    },
    {
     "cell_type": "code",
     "collapsed": false,
     "input": [
      "hdf5_EC=glob.glob('../data/20063032*ECMWF-AUX*.h5')[0]\n",
      "print(\"ECMWF-AUX file found\\n{}\".format(hdf5_EC))"
     ],
     "language": "python",
     "metadata": {},
     "outputs": [],
     "prompt_number": ""
    },
    {
     "cell_type": "markdown",
     "metadata": {},
     "source": [
      "It's a good idea to check to see what the missing values are, and whether\n",
      "the data is integer or float (in this case they are 4 byte (32 bit) floats)"
     ]
    },
    {
     "cell_type": "code",
     "collapsed": false,
     "input": [
      "obj=h5py.File(hdf5_EC)\n",
      "P=obj['ECMWF-AUX/Data Fields/Pressure']\n",
      "missing_val=P.attrs['missing']\n",
      "print(\"missing value: \",missing_val)\n",
      "print(\"pressure dtype: \",P.value.dtype)\n",
      "P=P.value\n",
      "print(\"dimensions of P are: {}\".format(P.shape))"
     ],
     "language": "python",
     "metadata": {},
     "outputs": [],
     "prompt_number": ""
    },
    {
     "cell_type": "markdown",
     "metadata": {},
     "source": [
      "Check to see what fraction of the pressure field is missing"
     ]
    },
    {
     "cell_type": "code",
     "collapsed": false,
     "input": [
      "hit=(P == missing_val)\n",
      "print('found {} missing values out of {} total'.format(np.sum(hit),P.size))\n",
      "#\n",
      "# mask out the missing values\n",
      "#\n",
      "P=np.ma.masked_where(P == missing_val, P)"
     ],
     "language": "python",
     "metadata": {},
     "outputs": [],
     "prompt_number": ""
    },
    {
     "cell_type": "markdown",
     "metadata": {},
     "source": [
      "use the \"~\" symbol (logical not, like Matlab) to get the good values that are note masked and histogram them.\n",
      "Note that indexing by the mask flattens the array to 1 dimension"
     ]
    },
    {
     "cell_type": "code",
     "collapsed": false,
     "input": [
      "tryit=P[~P.mask]\n",
      "print(P.shape,tryit.shape)\n",
      "out=plt.hist(P[~P.mask])"
     ],
     "language": "python",
     "metadata": {},
     "outputs": [],
     "prompt_number": ""
    },
    {
     "cell_type": "code",
     "collapsed": false,
     "input": [
      "P, SLP, T, T2m, SKT, q, O3 = CT.read_ecmwf(hdf5_EC, maskid=2)"
     ],
     "language": "python",
     "metadata": {},
     "outputs": [],
     "prompt_number": ""
    },
    {
     "cell_type": "markdown",
     "metadata": {},
     "source": [
      "To compare do the same thing for the return values of the read_ecmwf function.  The pressure is converted from Pa to hPa"
     ]
    },
    {
     "cell_type": "code",
     "collapsed": false,
     "input": [
      "out=plt.hist(P[~P.mask])"
     ],
     "language": "python",
     "metadata": {},
     "outputs": [],
     "prompt_number": ""
    },
    {
     "cell_type": "code",
     "collapsed": false,
     "input": [
      "lat, lon, date_day, prof_sec, dem_elev = CT.get_geo(hdf5_EC, monotonic_id=1)"
     ],
     "language": "python",
     "metadata": {},
     "outputs": [],
     "prompt_number": ""
    },
    {
     "cell_type": "markdown",
     "metadata": {},
     "source": [
      "Note in the next cell that I resize the figure"
     ]
    },
    {
     "cell_type": "code",
     "collapsed": false,
     "input": [
      "proj=OT.draw_orbit_pha(hdf5_EC, lonlim=None, latlim=None, time_step=625, label_step=2)\n",
      "proj.ax.figure.set_size_inches([10,10])"
     ],
     "language": "python",
     "metadata": {},
     "outputs": [],
     "prompt_number": ""
    },
    {
     "cell_type": "markdown",
     "metadata": {},
     "source": [
      "From the orbit plot we can see that we are near Vancouver at about 22:24 UCT on October 30, 2006.  Create start and stop datetimes between 22:21 and 22:24 UCT and use those to segment the rest of the data"
     ]
    },
    {
     "cell_type": "markdown",
     "metadata": {},
     "source": [
      "### Start and Stop: Getting the indices for a range of times:  2006/10/30: 22:21 - 22:24 UCT"
     ]
    },
    {
     "cell_type": "code",
     "collapsed": false,
     "input": [
      "start=datetime.datetime(2006,10,30,22,21,0,tzinfo=tz.tzutc())\n",
      "stop=datetime.datetime(2006,10,30,22,24,0,tzinfo=tz.tzutc())\n",
      "hit=np.logical_and(date_day > start,date_day < stop)"
     ],
     "language": "python",
     "metadata": {},
     "outputs": [],
     "prompt_number": ""
    },
    {
     "cell_type": "code",
     "collapsed": false,
     "input": [
      "out=plt.plot(lon[hit],lat[hit])\n",
      "title=plt.gca().set_title('quick plot to check to see lat/lon are correct')"
     ],
     "language": "python",
     "metadata": {},
     "outputs": [],
     "prompt_number": ""
    },
    {
     "cell_type": "code",
     "collapsed": false,
     "input": [
      "hdf5_radar=glob.glob('../data/20063032*CS_2B-GEOPROF_GRANULE*.h5')[0]\n",
      "print(\"geoprof radar file found\\n{}\".format(hdf5_radar))"
     ],
     "language": "python",
     "metadata": {},
     "outputs": [],
     "prompt_number": ""
    },
    {
     "cell_type": "markdown",
     "metadata": {},
     "source": [
      "Now plot the radar reflectivity using the pcolor (pseudocolor) routine"
     ]
    },
    {
     "cell_type": "code",
     "collapsed": false,
     "input": [
      "height, reflect = CT.read_radar(hdf5_radar, maskid=2)\n",
      "color_map=plt.cm.jet\n",
      "height.shape\n",
      "lon[hit].shape\n",
      "print(reflect.shape,height[hit,:].shape)"
     ],
     "language": "python",
     "metadata": {},
     "outputs": [],
     "prompt_number": ""
    },
    {
     "cell_type": "markdown",
     "metadata": {},
     "source": [
      "pcolor requires a set of heights and a set of lons that are the same shape\n",
      "as the reflectivity:  1125 values by 125 vertical levels.  Use np.meshgrid for this.  Note that the\n",
      "heights don't change along the swath, so just take the values for the first radar pulse (row 0)"
     ]
    },
    {
     "cell_type": "code",
     "collapsed": false,
     "input": [
      "height_seg=height[hit,:]\n",
      "lon_seg=lon[hit]\n",
      "lat_seg=lat[hit]\n",
      "time_seg=date_day[hit]\n",
      "height_mesh, lon_seg_mesh=np.meshgrid(height_seg[0,:], lon_seg)\n",
      "fig=plt.figure(1,figsize=[10,4])\n",
      "ax=fig.add_subplot(111)\n",
      "image=ax.pcolor(lon_seg_mesh,height_mesh,reflect[hit,:],cmap=color_map)\n",
      "ax.set_ylim([0,10])\n",
      "cbar=plt.colorbar(image)\n",
      "cbar.set_label('reflectivity (dbZ)')\n",
      "ax.set_ylabel('height (km)')\n",
      "out=ax.set_xlabel('longitude (deg W)')"
     ],
     "language": "python",
     "metadata": {},
     "outputs": [],
     "prompt_number": ""
    },
    {
     "cell_type": "code",
     "collapsed": false,
     "input": [
      "hdf5_rain=glob.glob('../data/20063032*2C-RAIN-PROFILE*.h5')[0]\n",
      "rain, precli, precice, clw = CT.read_rain(hdf5_rain, maskid=2)"
     ],
     "language": "python",
     "metadata": {},
     "outputs": [],
     "prompt_number": ""
    },
    {
     "cell_type": "code",
     "collapsed": false,
     "input": [
      "rain_seg=rain[hit]\n",
      "fig=plt.figure(1,figsize=[10,4])\n",
      "ax=fig.add_subplot(111)\n",
      "from matplotlib.dates import DateFormatter\n",
      "ax.xaxis.set_major_formatter(DateFormatter('%H:%M'))\n",
      "ax.plot(time_seg,rain_seg)\n",
      "ax.set_ylabel('rain rate (mm/hour)')"
     ],
     "language": "python",
     "metadata": {},
     "outputs": [],
     "prompt_number": ""
    },
    {
     "cell_type": "markdown",
     "metadata": {},
     "source": [
      "Finally, plot temperature soundings at the beginning and end of the segment"
     ]
    },
    {
     "cell_type": "code",
     "collapsed": false,
     "input": [
      "fig=plt.figure(1,figsize=[8,6])\n",
      "ax=fig.add_subplot(111)\n",
      "the_temps=T[hit,:]\n",
      "z=height[0,:]\n",
      "start=date_day[hit][0].strftime(\"%H:%M UCT\")\n",
      "stop=date_day[hit][-1].strftime(\"%H:%M UCT\")\n",
      "ax.plot(the_temps[0,:],z,'b',label=start)\n",
      "ax.plot(the_temps[-1,:],z,'r',label=stop)\n",
      "ax.legend(loc='best')\n",
      "ax.set_ylabel('height (km)')\n",
      "ax.set_ylim([0,25])\n",
      "ax.set_title('ECMWF start/stop soundings')\n",
      "out=ax.set_xlabel('ECMWF temperature (deg C)')"
     ],
     "language": "python",
     "metadata": {},
     "outputs": [],
     "prompt_number": ""
    },
    {
     "cell_type": "markdown",
     "metadata": {},
     "source": [
      "### putting the cloudsat groundtrack on the modis image"
     ]
    },
    {
     "cell_type": "markdown",
     "metadata": {},
     "source": [
      "I converted the MODIS level1b and geom file for the granule starting\n",
      "at 22:20 UCT using subset.output_h5"
     ]
    },
    {
     "cell_type": "markdown",
     "metadata": {},
     "source": [
      "```python\n",
      "In [18]: from subset import output_h5\n",
      "In [19]: level1b=glob.glob('MYD021KM*2006*h5')[0]\n",
      "In [20]: geom=glob.glob('MYD03*2006*h5')[0]\n",
      "In [21]: output='A2006303_subset.h5'\n",
      "In [22]: output_h5(level1b,geom,output)\n",
      "```"
     ]
    },
    {
     "cell_type": "markdown",
     "metadata": {},
     "source": [
      "You can download this file:  [http://clouds.eos.ubc.ca/~phil/Downloads/a301/A2006303_subset.h5](http://clouds.eos.ubc.ca/~phil/Downloads/a301/A2006303_subset.h5)\n",
      "\n",
      "I'm assuming it is in the folder ../data"
     ]
    },
    {
     "cell_type": "code",
     "collapsed": false,
     "input": [
      "subset=glob.glob('../data/A2006303_subset.h5')[0]"
     ],
     "language": "python",
     "metadata": {},
     "outputs": [],
     "prompt_number": ""
    },
    {
     "cell_type": "code",
     "collapsed": false,
     "input": [
      "h5_file=h5py.File(subset)"
     ],
     "language": "python",
     "metadata": {},
     "outputs": [],
     "prompt_number": ""
    },
    {
     "cell_type": "code",
     "collapsed": false,
     "input": [
      "from reproject import reproj_L1B\n",
      "from planck import planckInvert"
     ],
     "language": "python",
     "metadata": {},
     "outputs": [],
     "prompt_number": ""
    },
    {
     "cell_type": "code",
     "collapsed": false,
     "input": [
      "chan1=h5_file['channel1'][...]\n",
      "chan31=h5_file['channel31'][...]\n",
      "lats=h5_file['lattitude'][...]\n",
      "lons=h5_file['longitude'][...]\n",
      "chan31=chan31*1.e6 #planckInvert needs W/m^2/m/sr, Modis is W/m^2/micron/sr"
     ],
     "language": "python",
     "metadata": {},
     "outputs": [],
     "prompt_number": ""
    },
    {
     "cell_type": "code",
     "collapsed": false,
     "input": [
      "Tb=planckInvert(11.05*1.e-6,chan31)  #needs wavelength in meters\n",
      "res=0.05\n",
      "xlim=[np.min(lons), np.max(lons)]\n",
      "ylim=[np.min(lats), np.max(lats)]\n",
      "Tb_grid, longitude, latitude, bin_count = reproj_L1B(Tb, lons, lats, xlim, ylim, res)"
     ],
     "language": "python",
     "metadata": {},
     "outputs": [],
     "prompt_number": ""
    },
    {
     "cell_type": "code",
     "collapsed": false,
     "input": [
      "out=plt.hist(Tb_grid[~np.isnan(Tb_grid)])"
     ],
     "language": "python",
     "metadata": {},
     "outputs": [],
     "prompt_number": ""
    },
    {
     "cell_type": "code",
     "collapsed": false,
     "input": [
      "from mpl_toolkits.basemap import Basemap\n",
      "lcc_values=dict(resolution='l',projection='lcc',\n",
      "                lat_1=30,lat_2=50,lat_0=45,lon_0=-135,\n",
      "                llcrnrlon=-150,llcrnrlat=30,\n",
      "                urcrnrlon=-120,urcrnrlat=50)\n",
      "proj=Basemap(**lcc_values)\n",
      "# create figure, add axes\n",
      "fig=plt.figure(figsize=(12, 12))\n",
      "ax=fig.add_subplot(111)\n",
      "## define parallels and meridians to draw.\n",
      "parallels=np.arange(-90, 90, 5)\n",
      "meridians=np.arange(0, 360, 5)\n",
      "proj.drawparallels(parallels, labels=[1, 0, 0, 0],\\\n",
      "                  fontsize=10, latmax=90)\n",
      "proj.drawmeridians(meridians, labels=[0, 0, 0, 1],\\\n",
      "                  fontsize=10, latmax=90)\n",
      "# draw coast & fill continents\n",
      "#map.fillcontinents(color=[0.25, 0.25, 0.25], lake_color=None) # coral\n",
      "out=proj.drawcoastlines(linewidth=1.5, linestyle='solid', color='k')\n",
      "x, y=proj(longitude, latitude)\n",
      "CS=proj.pcolor(x, y, Tb_grid, cmap=plt.cm.hot)\n",
      "#\n",
      "# now add the radar ground track to the image\n",
      "#\n",
      "CBar=proj.colorbar(CS, 'right', size='5%', pad='5%')\n",
      "CBar.set_label('Channel 31 brightness temperature (K)')\n",
      "radarx,radary=proj(lon_seg,lat_seg)\n",
      "out=proj.plot(radarx,radary,'b-',lw=10)\n",
      "title=ax.set_title('MODIS Brightness Temperature (K) for Day 2006303 at 22:20 UCT')"
     ],
     "language": "python",
     "metadata": {},
     "outputs": [],
     "prompt_number": ""
    },
    {
     "cell_type": "code",
     "collapsed": false,
     "input": [],
     "language": "python",
     "metadata": {},
     "outputs": [],
     "prompt_number": ""
    }
   ],
   "metadata": {}
  }
 ]
}