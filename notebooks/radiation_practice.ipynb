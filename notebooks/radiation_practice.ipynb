{
 "metadata": {
  "name": "",
  "signature": "sha256:327487e5815cc99551b5e3d49276735d2fc40789d3bb73eaf505cd0b1159755a"
 },
 "nbformat": 3,
 "nbformat_minor": 0,
 "worksheets": [
  {
   "cells": [
    {
     "cell_type": "markdown",
     "metadata": {},
     "source": [
      "#Practice radiation questions"
     ]
    },
    {
     "cell_type": "markdown",
     "metadata": {},
     "source": [
      "A satellite orbiting at an altitude of 36000 km observes the surface in a thermal channel with\n",
      "a wavelength range of $13\\ \\mu m < \\lambda < 14\\ \\mu m$. \n",
      "\n",
      "- Assuming a density scale height of  $H_\\rho=8 km$ and a mass absorption coefficient of $k_\\lambda = 2 \\times 10^{-4}\\ m^2/kg$, find the vertical optical\n",
      "thickness and transmittance of the atmosphere in that channel.  \n",
      "\n",
      "- If the surface is black with a temperature of 300 K, and the atmosphere has an average temperature of 260 K, find the \n",
      "brightness temperature observed by the satellite.\n",
      "\n",
      "- Given a pixel size 1 $km^2$, what is the maximum flux, in $W\\,m^{-2}$, reaching the satellite in this situation?\n"
     ]
    },
    {
     "cell_type": "code",
     "collapsed": false,
     "input": [
      "from __future__ import print_function\n",
      "from IPython.display import Image\n",
      "from numpy import exp\n",
      "import site\n",
      "site.addsitedir('../lib')\n",
      "from planck import planckInvert\n",
      "klamb=2.e-4\n",
      "H=8.e3\n",
      "rho0=1\n",
      "tau=klamb*H*rho0\n",
      "trans=exp(-tau)\n",
      "print(\"the vertical optical thickness and transmittance are {}, {:5.3f}\".format(tau,trans))\n",
      "#\n",
      "# read the radiances off the Planck figure -- 7.9 W/m^2/sr/micron and 4.5 W/m^2/sr/micron\n",
      "#\n",
      "out=7.9*0.2 + 0.8*4.5\n",
      "print('radiance at satellite: {:5.3f} W/m^2/micron/sr'.format(out))\n",
      "print('brightness temperature at 13.5 microns is {:8.3f} K'.format(planckInvert(13.5e-6,out*1.e6)))\n",
      "fov=1/36000.**2.\n",
      "flux=out*fov\n",
      "print(\"flux at satellite {:7.3g} W/m^2\".format(flux))"
     ],
     "language": "python",
     "metadata": {},
     "outputs": [],
     "prompt_number": ""
    },
    {
     "cell_type": "markdown",
     "metadata": {},
     "source": [
      "The figure shows a  two-layer atmosphere over a black surface.  The shortwave\n",
      "insolation is 250 $W m^{-2}$ with no atmospheric absorption.  What is\n",
      "the heating rate for layer 1, in K/hr?  Assume the density in layer 1\n",
      "is $\\rho=1 kg m^{-3}$ and layer 1 is 1 km thick."
     ]
    },
    {
     "cell_type": "code",
     "collapsed": false,
     "input": [
      "Image(filename='figures/fluxprob.jpg')"
     ],
     "language": "python",
     "metadata": {},
     "outputs": [],
     "prompt_number": ""
    },
    {
     "cell_type": "code",
     "collapsed": false,
     "input": [
      "#define downward flux as positive\n",
      "tau1=1\n",
      "tau2=0.5\n",
      "T1=280\n",
      "T2=250\n",
      "Tsfc=300\n",
      "trans1=exp(-tau1*1.6666)\n",
      "trans2=exp(-tau2*1.6666)\n",
      "eps2=(1. - trans2)\n",
      "eps1=(1. - trans1)\n",
      "sigma=5.67e-8\n",
      "F2d_top=eps2*sigma*T2**4.\n",
      "F2d_bot=F2d_top*trans1\n",
      "F1up_top=eps1*sigma*T1**4.\n",
      "F1d_bot=F1up_top\n",
      "FsfcTop=sigma*Tsfc**4.*trans1\n",
      "FsfcBot=sigma*Tsfc**4.\n",
      "balance_top=250. + F2d_top - F1up_top - FsfcTop\n",
      "balance_bot=250 + F2d_bot  + F1d_bot - FsfcBot\n",
      "print(\"layer1 and layer 2 emissivities: {:5.2f} {:5.2f}\".format(eps1,eps2))\n",
      "print(\"layer1 and layer 2 transmissivities: {:5.2f} {:5.2f}\".format(trans1,trans2))\n",
      "print(\"surface flux bottom and top {:6.2f} and {:6.2f} W/m^2\".format(FsfcBot,FsfcTop))\n",
      "# print F2d_top,F2d_bot\n",
      "# print F1up_top\n",
      "out=\"net downward flux at top and bottom of layer 1 (W/m^2): {:6.3f} {:6.3f}\"\n",
      "print(out.format(balance_top,balance_bot))\n",
      "heating_rate=(balance_top - balance_bot)/(1004.*1000.)*3600\n",
      "print(\"heating rate is {:5.3f} K/hr\".format(heating_rate))"
     ],
     "language": "python",
     "metadata": {},
     "outputs": [],
     "prompt_number": ""
    }
   ],
   "metadata": {}
  }
 ]
}