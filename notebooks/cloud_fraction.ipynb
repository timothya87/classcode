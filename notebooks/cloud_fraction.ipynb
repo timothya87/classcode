{
 "metadata": {
  "name": "",
  "signature": "sha256:ccccb4b271cb7f3bb94778960ec895d1f8ab169291d8f32f8c25d7aa9089a0c9"
 },
 "nbformat": 3,
 "nbformat_minor": 0,
 "worksheets": [
  {
   "cells": [
    {
     "cell_type": "markdown",
     "metadata": {},
     "source": [
      "## getting the cloud fraction from channels 1 and 31"
     ]
    },
    {
     "cell_type": "markdown",
     "metadata": {},
     "source": [
      "For Wednesday's assignment you wrote a script [subset.py](https://github.com/a301-teaching/classcode/blob/master/lib/subset.py) that defined the output_h5 function and wrote test_output.h5\n",
      "Now read channel1 and channel 31 back in and use them to calculate the cloud fraction.  (Recall that \n",
      "[MODIS channels 1 and 31](http://en.wikipedia.org/wiki/Moderate-Resolution_Imaging_Spectroradiometer)\n",
      "are centered at about 0.64 microns and 11 microns, respectively.)  This notebook assumes that you have converted your\n",
      "MYD021KM and MYD03 files to test_output."
     ]
    },
    {
     "cell_type": "code",
     "collapsed": false,
     "input": [
      "from __future__ import print_function\n",
      "import os,site\n",
      "import glob\n",
      "import h5py\n",
      "import numpy as np\n",
      "from matplotlib import pyplot as plt\n",
      "#\n",
      "# add the lib folder to the path assuming it is on the same\n",
      "# level as the notebooks folder\n",
      "#\n",
      "libdir=os.path.abspath('../lib')\n",
      "site.addsitedir(libdir)\n",
      "from modismeta_h5 import parseMeta\n",
      "from h5dump import dumph5"
     ],
     "language": "python",
     "metadata": {},
     "outputs": [],
     "prompt_number": ""
    },
    {
     "cell_type": "code",
     "collapsed": false,
     "input": [
      "%matplotlib inline"
     ],
     "language": "python",
     "metadata": {},
     "outputs": [],
     "prompt_number": ""
    },
    {
     "cell_type": "markdown",
     "metadata": {},
     "source": [
      "the glob function finds a file using a wildcard to save typing (google: python glob wildcard)"
     ]
    },
    {
     "cell_type": "code",
     "collapsed": false,
     "input": [
      "h5_filename=glob.glob('../data/test_output.h5')[0]\n",
      "print(\"found subsetted file {}\".format(h5_filename))"
     ],
     "language": "python",
     "metadata": {},
     "outputs": [],
     "prompt_number": ""
    },
    {
     "cell_type": "code",
     "collapsed": false,
     "input": [
      "h5_file=h5py.File(h5_filename)"
     ],
     "language": "python",
     "metadata": {},
     "outputs": [],
     "prompt_number": ""
    },
    {
     "cell_type": "markdown",
     "metadata": {},
     "source": [
      "**Read back the arrays I wrote with output_h5**"
     ]
    },
    {
     "cell_type": "code",
     "collapsed": false,
     "input": [
      "chan1=h5_file['channel1'][...]\n",
      "chan31=h5_file['channel31'][...]\n",
      "lats=h5_file['lattitude'][...]\n",
      "lons=h5_file['longitude'][...]"
     ],
     "language": "python",
     "metadata": {},
     "outputs": [],
     "prompt_number": ""
    },
    {
     "cell_type": "markdown",
     "metadata": {},
     "source": [
      "turn the repoj_L1B notebook function into a module:"
     ]
    },
    {
     "cell_type": "code",
     "collapsed": false,
     "input": [
      "from reproject import reproj_L1B"
     ],
     "language": "python",
     "metadata": {},
     "outputs": [],
     "prompt_number": ""
    },
    {
     "cell_type": "code",
     "collapsed": false,
     "input": [
      "xlim=[np.min(lons), np.max(lons)]\n",
      "ylim=[np.min(lats), np.max(lats)]\n",
      "C31_grid, longitude, latitude, bin_count = reproj_L1B(chan31,lons, lats, xlim, ylim, 0.1)"
     ],
     "language": "python",
     "metadata": {},
     "outputs": [],
     "prompt_number": ""
    },
    {
     "cell_type": "code",
     "collapsed": false,
     "input": [
      "C31_grid=np.ma.masked_where(np.isnan(C31_grid), C31_grid)\n",
      "bin_count=np.ma.masked_where(np.isnan(bin_count), bin_count)\n",
      "longitude=np.ma.masked_where(np.isnan(longitude), longitude)\n",
      "latitude=np.ma.masked_where(np.isnan(latitude), latitude)\n",
      "longitude.shape"
     ],
     "language": "python",
     "metadata": {},
     "outputs": [],
     "prompt_number": ""
    },
    {
     "cell_type": "markdown",
     "metadata": {},
     "source": [
      "## Two dimensional histograms using histogram2d"
     ]
    },
    {
     "cell_type": "markdown",
     "metadata": {},
     "source": [
      "<a href='http://docs.scipy.org/doc/numpy/reference/generated/numpy.histogram2d.html'>**`numpy.histogram2d`**</a> is the main function we use here to create a 2-D histogram, it partitions two 1-D arrays into two 1-D binned arrays, and returns 2-D counts in a matrix formed by sqauares consisting of the intersection of the two sets of bins, as well as the 2-D bin edges.\n",
      "\n",
      "The I/O format of `numpy.histogram2d` is a little obscure -- the arguments look like:\n",
      "```python\n",
      "H, y_edges, x_edges = np.histogram2d(y, x, bins=(y_bins, x_bins))\n",
      "X, Y = np.meshgrid(x_edges[:-1], y_edges[:-1]) # '-1' because number_bins=number_data-1\n",
      "```\n",
      "`numpy.histogram2d` is different from \n",
      "<a href='http://docs.scipy.org/doc/numpy/reference/generated/numpy.digitize.html'>**`numpy.digitize`**</a> used for regridding `numpy.digitize` does not returns counts in each bin and we have to do this in a for loop (as we did in our function <a href='#Define-function-reproj_L1B'>reproj_L1B</a>).\n",
      "\n",
      "There is a counterpart of `numpy.histogram2d` for 1-D histogram named \n",
      "<a href='http://docs.scipy.org/doc/numpy/reference/generated/numpy.histogram.html'>**`numpy.histogram`**</a>. One can also make histograms through <a href='http://matplotlib.org/api/pyplot_api.html'>**`pyplot.hist`**</a> and <a href='http://matplotlib.org/api/pyplot_api.html'>**`pyplot.hist2d`**</a>."
     ]
    },
    {
     "cell_type": "code",
     "collapsed": false,
     "input": [
      "# create bins for channel-31 --- number is determined by trial and error\n",
      "# too many and you'll get holes where there is no data.  too few\n",
      "# and you won't be able to see fine-scale features\n",
      "C31_bins = 100\n",
      "C31_lim=[np.nanmin(C31_grid), np.nanmax(C31_grid)]\n",
      "C31_bins=np.linspace(C31_lim[0], C31_lim[1], C31_bins, dtype=np.float)\n",
      "# and channel-1\n",
      "C1_bins = 150 \n",
      "C1_lim=[np.nanmin(C1_grid), np.nanmax(C1_grid)]\n",
      "C1_bins=np.linspace(C1_lim[0], C1_lim[1], C1_bins, dtype=np.float)"
     ],
     "language": "python",
     "metadata": {},
     "outputs": [],
     "prompt_number": ""
    },
    {
     "cell_type": "code",
     "collapsed": false,
     "input": [
      "fig=plt.figure(figsize=(10.5, 9.5))\n",
      "ax=plt.gca()\n",
      "ax.set_xlim(xlim[0], xlim[1])\n",
      "ax.set_ylim(ylim[0], ylim[1])\n",
      "image=ax.pcolormesh(longitude, latitude, C31_grid)"
     ],
     "language": "python",
     "metadata": {},
     "outputs": [],
     "prompt_number": ""
    },
    {
     "cell_type": "code",
     "collapsed": false,
     "input": [
      "#got to 0.05 degrees for higher resolution\n",
      "res=0.05\n",
      "xlim=[np.min(lons), np.max(lons)]\n",
      "ylim=[np.min(lats), np.max(lats)]\n",
      "C31_grid, longitude, latitude, bin_count = reproj_L1B(chan31, lons, lats, xlim, ylim, res)\n",
      "C1_grid, longitude, latitude, bin_count = reproj_L1B(chan1, lons, lats, xlim, ylim, res)"
     ],
     "language": "python",
     "metadata": {},
     "outputs": [],
     "prompt_number": ""
    },
    {
     "cell_type": "markdown",
     "metadata": {},
     "source": [
      "As a first try: bin the longwave radiances into 100 bins and the shortwave reflectances into 150 bins"
     ]
    },
    {
     "cell_type": "code",
     "collapsed": false,
     "input": [
      "# create bins for channel-31 \n",
      "C31_bins = 100\n",
      "C31_lim=[np.nanmin(C31_grid), np.nanmax(C31_grid)]\n",
      "C31_bins=np.linspace(C31_lim[0], C31_lim[1], C31_bins, dtype=np.float)\n",
      "# and channel-1\n",
      "C1_bins = 150 \n",
      "C1_lim=[np.nanmin(C1_grid), np.nanmax(C1_grid)]\n",
      "C1_bins=np.linspace(C1_lim[0], C1_lim[1], C1_bins, dtype=np.float)"
     ],
     "language": "python",
     "metadata": {},
     "outputs": [],
     "prompt_number": ""
    },
    {
     "cell_type": "markdown",
     "metadata": {},
     "source": [
      "Here, we define **channel-1** data on **x-axis** and call `np.histogram2d` to get the bin_count value `x_edges` and `y_edges`. \n",
      "Use some print statments to find the dimensions of H, X, and Y.  In particular, make sure you understand\n",
      "how np.meshgrid is turning two 1-dimensional arrays into two 2-dimensional arrays.\n",
      "Try something like:\n",
      "\n",
      "np.meshgrid([1,2,3,4],[-1,-2,-3,-4,-5,-6]) to see what it does"
     ]
    },
    {
     "cell_type": "code",
     "collapsed": false,
     "input": [
      "y=C31_grid.flat[:]; y_bins=C31_bins # x: C31\n",
      "x=C1_grid.flat[:]; x_bins=C1_bins # y: C1\n",
      "H, y_edges, x_edges = np.histogram2d(y, x, bins=(y_bins, x_bins))\n",
      "X, Y = np.meshgrid(x_edges[:-1], y_edges[:-1])"
     ],
     "language": "python",
     "metadata": {},
     "outputs": [],
     "prompt_number": ""
    },
    {
     "cell_type": "markdown",
     "metadata": {},
     "source": [
      "Then we make 2-D histogram to see the difference between clouds and ocean, the core idea is:\n",
      "```python\n",
      " # 2-D histogram\n",
      "ax.contourf(X, Y, H/np.max(H)) # use percentage, because H depends on the resolution 'res' we used before.\n",
      "# try to distinguish clouds from ocean through linear function\n",
      "# x is channel-1\n",
      "```       \n",
      "\n",
      "We will display the 2-D histogram as the central plot, with 1-d histograms positioned\n",
      "to the left and below.  We want an approximately 9-color colormap showing percentages in increments\n",
      "of 10% between our min and max\n"
     ]
    },
    {
     "cell_type": "code",
     "collapsed": false,
     "input": [
      "# make_axes_locatable ---> for axis control\n",
      "from mpl_toolkits.axes_grid1 import make_axes_locatable\n",
      "# set axis locations for three different plots\n",
      "# a main contour plot and two histograms below and on\n",
      "# the left hand side\n",
      "#\n",
      "left=0.1; width = 0.8; bottom=0.1; height = 0.65\n",
      "gap=0.02; hist_len=0.2; cbar_len=0.12\n",
      "# location of the three axes  -- located by trial and error\n",
      "#\n",
      "#\n",
      "rect_main  = [left+hist_len+gap, bottom, width, height]\n",
      "rect_histx = [left+hist_len+gap, left+height+gap, width-cbar_len, hist_len]\n",
      "rect_histy = [left, bottom, hist_len, height]\n",
      "# clev\n",
      "#clevs=range(40, 281, 40)\n",
      "#\n",
      "# set up a color map for the histogram percentages,  again\n",
      "# trial and erro shows that about 10 bins between 3 and 30%\n",
      "# looks attractive\n",
      "#\n",
      "#  also assign white to percentages below 3%\n",
      "#\n",
      "#\n",
      "clevs=np.arange(3, 31, 3)\n",
      "CMap=plt.cm.PuBu\n",
      "CMap.set_over(CMap(np.arange(256))[-1, 0:3])\n",
      "CMap.set_under('w')\n",
      "#\n",
      "xlim_bin=[np.min(X), np.max(X)]\n",
      "ylim_bin=[np.min(Y), np.max(Y)]\n",
      "#\n",
      "# ========== figure ========== #\n",
      "fig=plt.figure(figsize=(9, 9))\n",
      "# ========== Central histogram here ========== #\n",
      "# axis \n",
      "axMain=plt.axes(rect_main)\n",
      "axMain.yaxis.tick_right()\n",
      "axMain.yaxis.set_label_position('right')\n",
      "axMain.set_xlim(xlim_bin)\n",
      "axMain.set_ylim(ylim_bin)\n",
      "axMain.set_xlabel('Channel-1 reflectivity', fontsize=12)\n",
      "axMain.set_ylabel('Channel-31 radiance ($W/m^2/\\mu m/sr$)', fontsize=12)\n",
      "axMain.set_title('2-D Histogram -- MODIS 0.6 and 11 microns', fontsize=16, fontweight='bold', x=1.15, y=1.15)\n",
      "#\n",
      "#  divider is a container  used locate the colorbar to the right of the 2-d histogram\n",
      "#  it knows where axMain is located on the page\n",
      "#\n",
      "divider=make_axes_locatable(axMain)\n",
      "# grid and frame\n",
      "plt.grid() # grid on\n",
      "#\n",
      "#  make the axes thicker than default\n",
      "#\n",
      "[i.set_linewidth(2) for i in axMain.spines.itervalues()] # a bold frame\n",
      "#\n",
      "#  plot the main histogram with the counts converted to percent\n",
      "#\n",
      "CS=axMain.contourf(X, Y, H/np.max(H)*100, clevs, cmap=CMap, extend='both') # 2-D histgram\n",
      "CAx=divider.append_axes('right', size='5%', pad=0.75)\n",
      "CBar=plt.colorbar(CS, cax=CAx)\n",
      "CBar.set_label('Percentage ( % )', fontsize=10)\n",
      "CBar.ax.tick_params(axis='y', length=22.5)\n",
      "# draw line showing the boundary between cloudy and clear pixels\n",
      "#\n",
      "#  slope and intercept chosen by eye\n",
      "#\n",
      "axMain.plot(x_edges, x_edges*4.5+7.1, \\\n",
      "            color='k', linestyle='--', linewidth=5)\n",
      "axMain.text(0.4, 6.25, 'Cloud', fontsize=16, fontweight='bold', \\\n",
      "                    ha='center', va='center', color='k')\n",
      "axMain.text(0.125, 8.0, 'Ocean', fontsize=16, fontweight='bold', \\\n",
      "                    ha='center', va='center', color='k')\n",
      "#\n",
      "# ========== Hist-x on bottom axis========== #\n",
      "#  place a 1-d histogram below the 2-d histogram to show\n",
      "#  channel 1 reflectivities\n",
      "#\n",
      "axHistx=plt.axes(rect_histx)\n",
      "axHistx.hist(x, bins=x_bins, color=[0.3, 0.6, 0.8])\n",
      "axHistx.set_xlim(xlim_bin)\n",
      "axHistx.axes.get_xaxis().set_visible(False)\n",
      "# scientific notation for x, y-axis\n",
      "plt.ticklabel_format(style='sci', axis='both', scilimits=(0,0))\n",
      "[i.set_linewidth(2) for i in axHistx.spines.itervalues()]\n",
      "#\n",
      "# ========== Hist-y ========== #\n",
      "#\n",
      "# place a 1-d histogram to the left of the 2-d histogram to show channel 31\n",
      "#\n",
      "axHisty = plt.axes(rect_histy)\n",
      "axHisty.hist(y, bins=y_bins, color=[0.3, 0.6, 0.8], orientation='horizontal')\n",
      "axHisty.set_ylim(ylim_bin)\n",
      "axHisty.invert_xaxis()\n",
      "axHisty.axes.get_yaxis().set_visible(False)\n",
      "plt.ticklabel_format(style='sci', axis='both', scilimits=(0,0))\n",
      "out=[i.set_linewidth(2) for i in axHisty.spines.itervalues()]\n",
      "# savefig\n",
      "#plt.savefig('01_MODIS_L1B_histgram.png', dpi=450, facecolor='w', edgecolor='w',\n",
      "#            orientation='portrait', papertype='letter', format='png',\n",
      "#            transparent=True, bbox_inches='tight', pad_inches=0,\n",
      "#           frameon=None)"
     ],
     "language": "python",
     "metadata": {},
     "outputs": [],
     "prompt_number": ""
    },
    {
     "cell_type": "code",
     "collapsed": false,
     "input": [],
     "language": "python",
     "metadata": {},
     "outputs": [],
     "prompt_number": ""
    }
   ],
   "metadata": {}
  }
 ]
}