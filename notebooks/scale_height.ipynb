{
 "metadata": {
  "name": "",
  "signature": "sha256:8e2d42165e2a1b7c4d74d66ce39f6a41a90e387da3829a5aefef0d439cf93858"
 },
 "nbformat": 3,
 "nbformat_minor": 0,
 "worksheets": [
  {
   "cells": [
    {
     "cell_type": "markdown",
     "metadata": {},
     "source": [
      "**Describe what the following function does as clearly as you can, referring\n",
      "to equations from the equation sheet when appropriate**"
     ]
    },
    {
     "cell_type": "markdown",
     "metadata": {},
     "source": [
      "```\n",
      "def function_H(Temp,height):\n",
      "    R_d=287.\n",
      "    g=9.8\n",
      "    num_temps=len(Temp)\n",
      "    inv_scale_height=0\n",
      "    for index in range(num_temps - 1):\n",
      "        delta_z=height[index+1] - height[index]\n",
      "        inv_scale_height=inv_scale_height + \\\n",
      "               g/(R_d*Temp[index])*delta_z\n",
      "    avg_inv_scale_height=inv_scale_height/height[-1]\n",
      "    avg_scale_height=1/avg_inv_scale_height\n",
      "    return avg_scale_height\n",
      "```"
     ]
    },
    {
     "cell_type": "markdown",
     "metadata": {},
     "source": [
      "The function is calculating the average scale height by doing this integral:\n",
      "\n",
      "$$\\frac{1}{H} = \\int_0^\\infty \\frac{g}{R_d T} dz$$"
     ]
    },
    {
     "cell_type": "markdown",
     "metadata": {},
     "source": [
      "It takes as input two sequences (lists or numpy arrays) Temp and Height of the same length, and approximates the integral by summing the product $g/(R_d T) \\Delta z$ for every layer $\\Delta z$"
     ]
    },
    {
     "cell_type": "markdown",
     "metadata": {},
     "source": [
      "**Rewrite lines 4-8 using sum and diff to remove the loop (this will speed things up by about a factor of 100).**"
     ]
    },
    {
     "cell_type": "markdown",
     "metadata": {},
     "source": [
      "The following code uses np.sum and np.diff to remove the for loop::\n",
      "\n",
      "    def function_H_vec(Temp,height):\n",
      "        R_d=287.\n",
      "        g=9.8\n",
      "        num_temps=len(Temp)\n",
      "        function=g/(R_d*Temp[:-1])\n",
      "        delta_z=np.diff(height)\n",
      "        the_int=np.sum(function*delta_z)\n",
      "        the_avg=the_int/height[-1]\n",
      "        scale_height=1./the_avg\n",
      "        return scale_height"
     ]
    },
    {
     "cell_type": "markdown",
     "metadata": {},
     "source": [
      "Check this by calculating the exact hydrostatic pressure by integrating the hydrostatic equation:\n",
      "\n",
      "$$\\int_{p_0}^p d\\log(p^\\prime) = \\int_0^z -\\frac{g dz^\\prime}{R_d T}$$\n",
      "\n",
      "$$log(p/p_0) =  \\int_0^z -\\frac{g dz^\\prime}{R_d T}$$"
     ]
    },
    {
     "cell_type": "markdown",
     "metadata": {},
     "source": [
      "Which in python, looks like this, where we're using np.cumsum to get intermediate pressure values at each height::\n",
      "\n",
      "    def press_int(heights,Temp,p0):\n",
      "        Rd=287.\n",
      "        g=9.8\n",
      "        dz=np.diff(heights)\n",
      "        function= -g/(Rd*Temp[:-1])\n",
      "        log_p_p0=np.cumsum(function*dz)\n",
      "        p_p0=np.exp(log_p_p0)\n",
      "        #\n",
      "        # omsert the surface as first value,\n",
      "        # where p/p0=1\n",
      "        #\n",
      "        p_p0=np.concatenate(([1.],p_p0))\n",
      "        press_vec=p0*p_p0\n",
      "        return press_vec"
     ]
    },
    {
     "cell_type": "code",
     "collapsed": false,
     "input": [
      "%matplotlib inline"
     ],
     "language": "python",
     "metadata": {},
     "outputs": [],
     "prompt_number": ""
    },
    {
     "cell_type": "code",
     "collapsed": false,
     "input": [
      "from matplotlib import pyplot as plt\n",
      "import numpy as np\n",
      "\n",
      "def function_H(Temp,height):\n",
      "    R_d=287.\n",
      "    g=9.8\n",
      "    num_temps=len(Temp)\n",
      "    inv_scale_height=0\n",
      "    for index in range(num_temps - 1):\n",
      "        delta_z=height[index+1] - height[index]\n",
      "        inv_scale_height=inv_scale_height + \\\n",
      "               g/(R_d*Temp[index])*delta_z\n",
      "    avg_inv_scale_height=inv_scale_height/height[-1]\n",
      "    avg_scale_height=1/avg_inv_scale_height\n",
      "    return avg_scale_height\n",
      "\n",
      "def function_H_vec(Temp,height):\n",
      "    \"\"\"\n",
      "        find the average scale height\n",
      "        input: Temp (K), height (m): numpy vectors (1D)\n",
      "        output: scale_height (m)\n",
      "    \"\"\"\n",
      "    R_d=287.\n",
      "    g=9.8\n",
      "    num_temps=len(Temp)\n",
      "    function=g/(R_d*Temp[:-1])\n",
      "    delta_z=np.diff(height)\n",
      "    the_int=np.sum(function*delta_z)\n",
      "    the_avg=the_int/height[-1]\n",
      "    scale_height=1./the_avg\n",
      "    return scale_height\n",
      "\n",
      "def press_int(heights,Temp,p0):\n",
      "    \"\"\"\n",
      "        integrate the hydrostatic equation\n",
      "        to get log pressure, then take exp\n",
      "        to get pressure\n",
      "    \"\"\"\n",
      "    Rd=287.\n",
      "    g=9.8\n",
      "    dz=np.diff(heights)\n",
      "    function= -g/(Rd*Temp[:-1])\n",
      "    log_p_p0=np.cumsum(function*dz)\n",
      "    p_p0=np.exp(log_p_p0)\n",
      "    p_p0=np.concatenate(([1.],p_p0))\n",
      "    press_vec=p0*p_p0\n",
      "    return press_vec\n",
      "\n",
      "if __name__==\"__main__\":\n",
      "    ztop=2.e4\n",
      "    p0=1.e5\n",
      "    T0=280.\n",
      "    heights=np.linspace(0,ztop,100.)\n",
      "    Temp=  T0 -7.e-3*heights\n",
      "    #Temp=np.empty_like(heights)\n",
      "    #Temp[:]=T0\n",
      "    press_vec=press_int(heights,Temp,p0)\n",
      "    scale_height=function_H(Temp,heights)\n",
      "    scale_height_II=function_H_vec(Temp,heights)\n",
      "    press_scale=p0*np.exp(-heights/scale_height)\n",
      "    plt.close('all')\n",
      "    fig=plt.figure(1,figsize=(9,9))\n",
      "    ax=fig.add_subplot(111)\n",
      "    ax.plot(press_vec*1.e-3,heights*1.e-3,label='exact integration')\n",
      "    ax.plot(press_scale*1.e-3,heights*1.e-3,'r+',label='exp using scale height')\n",
      "    ax.set_xlabel('pressure (kPa)')\n",
      "    ax.set_ylabel('height (km)')\n",
      "    ax.legend(loc='best')\n",
      "    plt.show()\n",
      "    "
     ],
     "language": "python",
     "metadata": {},
     "outputs": [],
     "prompt_number": ""
    },
    {
     "cell_type": "code",
     "collapsed": false,
     "input": [],
     "language": "python",
     "metadata": {},
     "outputs": [],
     "prompt_number": ""
    }
   ],
   "metadata": {}
  }
 ]
}