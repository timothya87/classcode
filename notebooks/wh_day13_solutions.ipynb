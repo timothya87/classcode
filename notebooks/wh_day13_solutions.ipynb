{
 "metadata": {
  "name": "",
  "signature": "sha256:5d7acd54c83105927a7719260c8303832a3d6a2d9d265e573927e346cbd0ce7c"
 },
 "nbformat": 3,
 "nbformat_minor": 0,
 "worksheets": [
  {
   "cells": [
    {
     "cell_type": "code",
     "collapsed": false,
     "input": [
      "import numpy as np"
     ],
     "language": "python",
     "metadata": {},
     "outputs": [],
     "prompt_number": ""
    },
    {
     "cell_type": "markdown",
     "metadata": {},
     "source": [
      "Problem 4.20: What fraction of the flux of energy emitted by\n",
      "the sun does the Earth intercept?  and"
     ]
    },
    {
     "cell_type": "markdown",
     "metadata": {},
     "source": [
      "Problem 4.21: Show that for small perturbations in the Earth\u2019s\n",
      "radiation balance is\n",
      "\n",
      "$$\\frac{\\delta T_E}{T_E} = \\frac{1}{4} \\frac{\\delta F_E}{F_E}$$\n",
      "\n",
      "where TE is the Earth\u2019s equivalent blackbody\n",
      "temperature and FE is the flux density of\n",
      "radiation emitted from the top of its\n",
      "atmosphere."
     ]
    },
    {
     "cell_type": "markdown",
     "metadata": {},
     "source": [
      "[link to 4.20 and 4.21 solutions](http://clouds.eos.ubc.ca/~phil/courses/atsc301/text/whprobs4_20_4_21.pdf)"
     ]
    },
    {
     "cell_type": "markdown",
     "metadata": {},
     "source": [
      "Problem 4.23: Estimate the flux density of the radiation\n",
      "emitted from the solar photosphere using two\n",
      "different approaches: (a) starting with the\n",
      "intensity ($2.00 \\times 10^7\\ W\\ m^{-2} sr^{-1}$) and making\n",
      "use of the results in Exercise 4.3 and (b) making use of the relationship derived in\n",
      "the previous exercise. (c) Estimate the output\n",
      "of the sun in watts."
     ]
    },
    {
     "cell_type": "markdown",
     "metadata": {},
     "source": [
      "The question is asking us to show that the solar flux at the top of the earth's atmosphere can be calculated in\n",
      "   two ways:\n",
      "\n",
      "$$F= I \\Delta \\omega$$\n",
      "\n",
      "   where $I$ is the radiance from the sun's surface (in $W/m^2/sr$) and\n",
      "   $\\Delta \\omega$ is the solid angle subtended by the sun as seen\n",
      "   from the earth\n",
      "\n",
      "   or $$F=\\frac{power}{area}$$\n",
      "\n",
      "   where power is the Watts coming from the sun's surface and area is\n",
      "   the area of the sphere with the radius of the earth-sun distance.\n",
      "\n",
      "We know from problem 4.2 that $\\Delta \\omega$ for the sun is $6.84 \\times 10^{-5}$ sr so $I \\Delta \\omega$= $2 \\times 10^ 7 \\times 6.84 \\times 10^{-5}$ = 1368 $W/m^2$"
     ]
    },
    {
     "cell_type": "code",
     "collapsed": false,
     "input": [
      "2.e7*6.84e-5"
     ],
     "language": "python",
     "metadata": {},
     "outputs": [],
     "prompt_number": ""
    },
    {
     "cell_type": "markdown",
     "metadata": {},
     "source": [
      "We also know that the sun is an isotropic blackbody so\n",
      "\n",
      "$F=\\pi I$ at the sun's surface:"
     ]
    },
    {
     "cell_type": "code",
     "collapsed": false,
     "input": [
      "np.pi*2.e7  #W/m^2"
     ],
     "language": "python",
     "metadata": {},
     "outputs": [],
     "prompt_number": ""
    },
    {
     "cell_type": "markdown",
     "metadata": {},
     "source": [
      "We need to multiply this by the Sun's area to get the total Watts then divide this by\n",
      "the area at earth orbit to get the flux at earth.  That is, we need to multiply by:\n",
      "\n",
      "$$\\left ( \\frac{4\\pi (7 \\times 10^8)^2}{4 \\pi( 1.5 \\times 10^{11})^2} \\right )$$"
     ]
    },
    {
     "cell_type": "code",
     "collapsed": false,
     "input": [
      "np.pi*2.e7*(7.e8)**2./(1.5e11**2.) #W/m^2"
     ],
     "language": "python",
     "metadata": {},
     "outputs": [],
     "prompt_number": ""
    },
    {
     "cell_type": "markdown",
     "metadata": {},
     "source": [
      "Prove Kirchoff's law for a gas\n",
      "\n",
      "<img src=\"figures/day9_wall.png\" width=180/>\n",
      "\n",
      "Do the budget for the gas in-between walls A and B.  If it has $(abs) \\ne \\epsilon$, then it is absorbing $(abs) \\sigma T^4$ from wall A and $(abs) \\sigma T^4$ from Wall B while emitting $2 \\epsilon \\sigma T^4$ in either \n",
      "direction back at the walls (arrows E1 and E2).  If $2 (abs) \\sigma T^4 \\ne 2 \\epsilon \\sigma T^4$, then the gas would have to either heat or cool.  Since it is at the same temperature as the walls and no work has been done,\n",
      "this violates the 2nd law."
     ]
    },
    {
     "cell_type": "code",
     "collapsed": false,
     "input": [],
     "language": "python",
     "metadata": {},
     "outputs": []
    }
   ],
   "metadata": {}
  }
 ]
}