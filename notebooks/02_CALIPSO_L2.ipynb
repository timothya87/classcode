{
 "metadata": {
  "name": "",
  "signature": "sha256:c35461e871e03157cd4b4341c3abcb75b5bed3ed83a3f6fe33b60d6586ad9829"
 },
 "nbformat": 3,
 "nbformat_minor": 0,
 "worksheets": [
  {
   "cells": [
    {
     "cell_type": "markdown",
     "metadata": {},
     "source": [
      "#Objectives\n",
      "* The objectives of this notebook is to provide examples about working with CloudSat L2 and AUX files, including:\n",
      "    * Background information of CALIPSO Project, its functionality and mission;\n",
      "    * How to access to the CALIPSO datasets via NASA's <a href='https://eosweb.larc.nasa.gov/project/calipso/calipso_table'>**Atmospheric Science Data Center**</a>;\n",
      "    * How to draw a satellite orbit;\n",
      "    * How to find and segment the orbit.\n",
      "* The files required for this notebook including: \n",
      "        CAL_LID_L2_333mCLay-ValStage1-V3-01.2006-10-30T21-41-43ZD.hdf\n",
      "        CAL_LID_L2_333mCLay-ValStage1-V3-01.2006-10-30T21-41-43ZD.h5\n",
      "* Files above are **CALIPSO L2 Lidar Cloud Profiles and Layers Product**, **Granule Number 02702**, observed on **Oct 30 2006**, Which consist with what we discussed in **`01_MODIS_L1B.ipynb`**.\n",
      "* \\*.hdf is the HDF4 file, [**Section 2**](#Access-to-the-CALIPSO-datasets) introduced the way to get these files.\n",
      "* \\*.h5 is the HDF5 file which can be <a href='#Convert-HDF4-format-file-to-HDF5-format'>converted</a> from HDF4 files. See **`01_MODIS_L1B.ipynb`** and [**Section 3**](#Convert-HDF4-files-to-HDF5) for more information."
     ]
    },
    {
     "cell_type": "code",
     "collapsed": false,
     "input": [
      "__author__ = 'ATSC-301 UBC'"
     ],
     "language": "python",
     "metadata": {},
     "outputs": [],
     "prompt_number": ""
    },
    {
     "cell_type": "heading",
     "level": 1,
     "metadata": {},
     "source": [
      "Content"
     ]
    },
    {
     "cell_type": "markdown",
     "metadata": {},
     "source": [
      "1. [**About CALIPSO Project**](#About-CALIPSO-Project)\n",
      "1. [**Access to the CALIPSO datasets**](#Access-to-the-CALIPSO-datasets)\n",
      "1. [**Convert HDF4 files to HDF5**](#Convert-HDF4-files-to-HDF5)\n",
      "1. [**External tools**](#External-tools)\n",
      "  2. [ccplot](#ccplot)\n",
      "  2. [CALIPSO_tools](#CALIPSO_tools)\n",
      "1. [**Read CALIPSO through h5py**](#Read-CALIPSO-through-h5py)\n",
      "  2. [Get HDF5 file object](#Get-HDF5-file-object)\n",
      "  2. [Read different parameters](#Read-different-parameters)\n",
      "  2. [View the orbit track](#View-the-orbit-track)\n",
      "1. [**Segment the orbit track**](#Segment-the-orbit-track)\n",
      "  2. [Plot the track with clouds](#Plot-the-track-with-clouds)\n",
      "  2. [Define segmented region based on latitude](#Define-segmented-region-based-on-latitude)\n",
      "1. [**Plot the result**](#Plot-the-result)"
     ]
    },
    {
     "cell_type": "heading",
     "level": 1,
     "metadata": {},
     "source": [
      "About CALIPSO Project"
     ]
    },
    {
     "cell_type": "markdown",
     "metadata": {},
     "source": [
      "<a href='http://www.nasa.gov/mission_pages/calipso/main/'>**Wikipedia *CALIPSO* Page**</a>\n",
      ">CALIPSO is a joint NASA (USA) and CNES (France) environmental satellite, built in the Cannes Mandelieu Space Center, which was launched atop a Delta II rocket on April 28, 2006. Its name stands for **Cloud-Aerosol Lidar and Infrared Pathfinder Satellite Observations**.\n",
      "\n",
      ">Passive and active remote sensing Instruments on board the CALIPSO satellite monitor aerosols and clouds 24 hours a day. CALIPSO is part of the \"A Train\", flying in formation with several other satellites (Aqua, Aura and CloudSat).\n",
      "\n",
      "You can findout more about CALIPSO's news and applications via <a href='http://www.nasa.gov/mission_pages/calipso/main/'>**NASA's Satellite Mission Page**</a>."
     ]
    },
    {
     "cell_type": "heading",
     "level": 1,
     "metadata": {},
     "source": [
      "Access to the CALIPSO datasets"
     ]
    },
    {
     "cell_type": "markdown",
     "metadata": {},
     "source": [
      "CALIPSO datasets are available in NASA's <a href='https://eosweb.larc.nasa.gov/project/calipso/calipso_table'>**Atmospheric Science Data Center**</a>. \n",
      "\n",
      "In order to get the datasets, we do the following steps:\n",
      "\n",
      "* We choose **Cloud Profiles and Layers Product** in **CALIPSO L2 Lidar product** family, it contains the following parameters:\n",
      "\n",
      "    * Integrated Attenuated Backscatter\n",
      "    * Column Reflectance\n",
      "    * Lidar Depolarization Ratio\n",
      "    * Cloud Base Height\n",
      "    * Cloud Top Height\n",
      "    * Cloud Midlayer Temperature\n",
      "\n",
      "* There are three different choice of cloud layer resolution, we select <a href='https://eosweb.larc.nasa.gov/project/calipso/1-3_km_cloud_layer_table'>**1/3km version**</a>.\n",
      "<img src=\"_figures/02_CALIPSO_dataprocess_1.PNG\" width=900 align=\"left\"/>"
     ]
    },
    {
     "cell_type": "markdown",
     "metadata": {},
     "source": [
      "* Click **Order Data** and search available granules based on geolocation and time:\n",
      "<img src=\"_figures/02_CALIPSO_dataprocess_2.PNG\" width=900 align=\"left\"/>"
     ]
    },
    {
     "cell_type": "markdown",
     "metadata": {},
     "source": [
      "* Click \"**Search for Granules**\" and add your ideal files to the \"Shopping Cart\":\n",
      "<img src=\"_figures/02_CALIPSO_dataprocess_3.PNG\" width=900 align=\"left\"/>"
     ]
    },
    {
     "cell_type": "markdown",
     "metadata": {},
     "source": [
      "* Click \"**View Items in Cart**\" and send your order:\n",
      "<img src=\"_figures/02_CALIPSO_dataprocess_4.PNG\" width=900 align=\"left\"/>"
     ]
    },
    {
     "cell_type": "markdown",
     "metadata": {},
     "source": [
      "* On order page, you are required to provide personal informations. If you are previously regeistered in any NASA's Earthdata system, you can also use that account to send your order. Order processed very quick and you will receive an email about what to do next. "
     ]
    },
    {
     "cell_type": "heading",
     "level": 1,
     "metadata": {},
     "source": [
      "Convert HDF4 files to HDF5"
     ]
    },
    {
     "cell_type": "markdown",
     "metadata": {},
     "source": [
      "After you downloaded the CALIPSO files via FTP client. You need to convert HDF4 files to HDF5.\n",
      "\n",
      "We have discussed this part in `01_MODIS_L1B.ipynb`. But here we have a large number of files, a recommended way is to use `h4toh5convert` in batch sctipt.\n",
      "\n",
      "* For Windows user: a \\*.bat batch script runs in DOS Terminal is located in `_share/`. copy \\*.bat to the direcctory of your HDF4 files (here say `_data/CloudSat_L2`), open the Terminal, cd to that path and type:\n",
      "\n",
      "```dos\n",
      "DOS_batch_h4toh5.bat\n",
      "```\n",
      "\n",
      "* For Linux user: there is a \\*.sh script locates in the same place, similarly, you do the steps above and type:\n",
      "\n",
      "```bash\n",
      "bash BASH_batch_h4toh5.sh\n",
      "```\n",
      "* **I do not have a Mac but I think `Bash` works for Mac** **<--------------- !!!** "
     ]
    },
    {
     "cell_type": "heading",
     "level": 1,
     "metadata": {},
     "source": [
      "External tools"
     ]
    },
    {
     "cell_type": "heading",
     "level": 2,
     "metadata": {},
     "source": [
      "ccplot"
     ]
    },
    {
     "cell_type": "markdown",
     "metadata": {},
     "source": [
      "Except for what we will do in the following sections, <a href='http://ccplot.org/'>**ccplot**</a> is another choice for you:\n",
      "\n",
      ">ccplot is an open source command-line program for **plotting profile, layer and earth view data sets from CloudSat, CALIPSO and Aqua MODIS products**.\n",
      "\n",
      "ccplot works for Windows, Linux and Mac. `Visualising Data from CloudSat and CALIPSO Satellites - Peter Kuma.pdf` in `\\_docs` is its documentation. It also has a <a href='https://github.com/peterkuma/ccplot/'>**Github Page**</a>."
     ]
    },
    {
     "cell_type": "heading",
     "level": 2,
     "metadata": {},
     "source": [
      "CALIPSO_tools"
     ]
    },
    {
     "cell_type": "markdown",
     "metadata": {},
     "source": [
      "There is a CALIPSO_tools provided by **Paul Cottle** in `_lib/`, it organzied based on Python `pandas` module and can findout the cloud top height in **Vertical Feature Mask, VFM product** in **CALIPSO L2 Lidar product** family. Currenly, the problem it is a bit slow, and actually we do not use VFM product in this notebook, so we provide the tool, but we will not use it.\n",
      "\n",
      "If you are interested in this tool, here is the example codes for how to use it:\n",
      "\n",
      "```python\n",
      "# import the module\n",
      "import sys\n",
      "sys.path.insert(0, '_libs/CALIPSO_tools')\n",
      "# search the file\n",
      "hdf5_VFM=glob.glob('$YOUR_PATH/*VFM*.h5')\n",
      "Cal_obj = Calipso.Calipso(h5file = hdf5_VFM[0], raw = True)\n",
      "# Segment the orbit\n",
      "lats = [45, 50]; lons = []; alts = [0,40000]\n",
      "Cal_obj.window_select(latrange = lats,lonrange = lons,altrange = alts, inplace = True)\n",
      "# Calculate Cloud top\n",
      "Cal_masked = Cal_obj.feature_mask('cloud')\n",
      "Cal_cloudtops = Calipso.findtops(Cal_masked)\n",
      "# A simple visulation\n",
      "plt.plot(Cal_cloudtops.VFM.index.get_level_values('Lats').values, Cal_cloudtops.VFM.values)\n",
      "```"
     ]
    },
    {
     "cell_type": "heading",
     "level": 1,
     "metadata": {},
     "source": [
      "Import modules and tools"
     ]
    },
    {
     "cell_type": "code",
     "collapsed": false,
     "input": [
      "import h5py\n",
      "import glob\n",
      "import math\n",
      "import scipy.io\n",
      "import numpy as np\n",
      "import matplotlib.pyplot as plt\n",
      "from mpl_toolkits.basemap import Basemap\n",
      "% matplotlib inline"
     ],
     "language": "python",
     "metadata": {},
     "outputs": [],
     "prompt_number": ""
    },
    {
     "cell_type": "markdown",
     "metadata": {},
     "source": [
      "In order to read the time of orbit, here we need Python module `datetime`"
     ]
    },
    {
     "cell_type": "code",
     "collapsed": false,
     "input": [
      "import datetime"
     ],
     "language": "python",
     "metadata": {},
     "outputs": [],
     "prompt_number": ""
    },
    {
     "cell_type": "heading",
     "level": 1,
     "metadata": {},
     "source": [
      "Read CALIPSO through `h5py`"
     ]
    },
    {
     "cell_type": "markdown",
     "metadata": {},
     "source": [
      "Searching all \\*.h5 files in `_data/CALIPSO_L2/` directory, Make sure that you have the required HDF5 files exist in it."
     ]
    },
    {
     "cell_type": "code",
     "collapsed": false,
     "input": [
      "hdf5_calipso=glob.glob('_data/CALIPSO_L2/*LID_L2_333mCLay*.h5')\n",
      "print(\"CALIPSO 333m Cloud Layer files found:\\n{}\".format(hdf5_calipso))"
     ],
     "language": "python",
     "metadata": {},
     "outputs": [],
     "prompt_number": ""
    },
    {
     "cell_type": "heading",
     "level": 2,
     "metadata": {},
     "source": [
      "Get HDF5 file object"
     ]
    },
    {
     "cell_type": "code",
     "collapsed": false,
     "input": [
      "calipso_obj=h5py.File(hdf5_calipso[0], 'r')"
     ],
     "language": "python",
     "metadata": {},
     "outputs": [],
     "prompt_number": ""
    },
    {
     "cell_type": "heading",
     "level": 2,
     "metadata": {},
     "source": [
      "Read different parameters"
     ]
    },
    {
     "cell_type": "markdown",
     "metadata": {},
     "source": [
      "We have introduced how to play with HDF5 in `01_MODIS_L1B.ipynb`, so here we skip that part."
     ]
    },
    {
     "cell_type": "markdown",
     "metadata": {},
     "source": [
      "** Geolocation field **"
     ]
    },
    {
     "cell_type": "code",
     "collapsed": false,
     "input": [
      "lon=calipso_obj['Longitude'][:]\n",
      "lat=calipso_obj['Latitude'][:]"
     ],
     "language": "python",
     "metadata": {},
     "outputs": [],
     "prompt_number": ""
    },
    {
     "cell_type": "markdown",
     "metadata": {},
     "source": [
      "We need to make sure that longitude is **monotonous decrease**, because satellite is possible to cross the ***International Date Line (180E/180W line)***"
     ]
    },
    {
     "cell_type": "code",
     "collapsed": false,
     "input": [
      "for id in range(0, len(lon)-1):\n",
      "    if lon[id+1] > lon[id]:\n",
      "        lon[id+1] = lon[id+1]-360"
     ],
     "language": "python",
     "metadata": {},
     "outputs": [],
     "prompt_number": ""
    },
    {
     "cell_type": "markdown",
     "metadata": {},
     "source": [
      "Currently **NOT sure** about `height` in the cell below, `Lidar_data_Altitude` in `metadata` has a shape of **`583L`**, but the size of datasets are **`(55926L, 5L)`**. I guess `Lidar_data_Altitude` represents the top height of every 55920/583 = 95 data points, but I don't how to make it corresponds to **`5L`** in vertical dimension. **<----------- !!!** "
     ]
    },
    {
     "cell_type": "code",
     "collapsed": false,
     "input": [
      "height=calipso_obj['metadata'][0][-5] # <----------------- Not Sure, use the code below instead\n",
      "height=np.array([0, 1, 2, 3, 4])\n",
      "surf_elev=calipso_obj['DEM_Surface_Elevation'][:]"
     ],
     "language": "python",
     "metadata": {},
     "outputs": [],
     "prompt_number": ""
    },
    {
     "cell_type": "markdown",
     "metadata": {},
     "source": [
      "**Lidar Cloud top Height**"
     ]
    },
    {
     "cell_type": "code",
     "collapsed": false,
     "input": [
      "cloud_top_height=calipso_obj['Layer_Top_Altitude'][:]; \n",
      "cloud_top_height[cloud_top_height == -9999]=np.nan"
     ],
     "language": "python",
     "metadata": {},
     "outputs": [],
     "prompt_number": ""
    },
    {
     "cell_type": "markdown",
     "metadata": {},
     "source": [
      "** Orbit time **"
     ]
    },
    {
     "cell_type": "code",
     "collapsed": false,
     "input": [
      "profile_time=calipso_obj['Profile_Time'][:]"
     ],
     "language": "python",
     "metadata": {},
     "outputs": [],
     "prompt_number": ""
    },
    {
     "cell_type": "heading",
     "level": 2,
     "metadata": {},
     "source": [
      "View the orbit track"
     ]
    },
    {
     "cell_type": "markdown",
     "metadata": {},
     "source": [
      "Now we try to plot the orbit track of the CALIPSO file based on `lon`, `lat` and `profile_time`"
     ]
    },
    {
     "cell_type": "markdown",
     "metadata": {},
     "source": [
      "We need to know when the orbit start, and it is the 2nd element of `metadata` (You can check it via `.keys()` or other tools)"
     ]
    },
    {
     "cell_type": "code",
     "collapsed": false,
     "input": [
      "tai_start_string=calipso_obj['metadata'][0][1]"
     ],
     "language": "python",
     "metadata": {},
     "outputs": [],
     "prompt_number": ""
    },
    {
     "cell_type": "markdown",
     "metadata": {},
     "source": [
      "Then we convert the date string to `datetime` object."
     ]
    },
    {
     "cell_type": "code",
     "collapsed": false,
     "input": [
      "orbitStart=datetime.datetime.strptime(tai_start_string, '%Y-%m-%dT%H:%M:%S.%fZ')"
     ],
     "language": "python",
     "metadata": {},
     "outputs": [],
     "prompt_number": ""
    },
    {
     "cell_type": "markdown",
     "metadata": {},
     "source": [
      "Create another `datetime` object which includes all time info. of data points."
     ]
    },
    {
     "cell_type": "code",
     "collapsed": false,
     "input": [
      "time_vals=[]\n",
      "#python datetime objects in utc\n",
      "for the_time in profile_time:\n",
      "    date_time=orbitStart + datetime.timedelta(seconds=float(the_time))\n",
      "    time_vals.append(date_time)\n",
      "date_day=time_vals"
     ],
     "language": "python",
     "metadata": {},
     "outputs": [],
     "prompt_number": ""
    },
    {
     "cell_type": "markdown",
     "metadata": {},
     "source": [
      "Finally, we plot the orbit with time on a map. There are more than 50000 data points in the file, so we have to skip some of them. \n",
      "\n",
      "The code is a bit complex, here is the key idea:\n",
      "```python\n",
      "time_step=1500; # plot every 1500 data points\n",
      "label_step=2; # label every 2 ploted data points\n",
      "for i in np.arange(0, len(date_day), time_step):\n",
      "    # every timestep\n",
      "    proj.plot(x[i], y[i], 'bo', markersize=8)  # plot the data points\n",
      "    # labelling \n",
      "    if(i % (time_step*label_step) == 0):  # just like \"mod\" in MATLAB \n",
      "        time_string=date_day[i].strftime('%H:%M UCT')   # .strftime() is a call of output format for datetime object\n",
      "        axis.text(x_str[i], y_str[i], '{0:s}'.format(time_string), \\     # axis.text(x, y, 'string', **keywords)\n",
      "                  fontsize=8, fontweight='bold', ha='left', \\\n",
      "                  bbox={'edgecolor':'w', 'facecolor':'w', 'alpha':0.875, 'pad':0})\n",
      "```"
     ]
    },
    {
     "cell_type": "code",
     "collapsed": false,
     "input": [
      "time_step=1500; label_step=2;\n",
      "Orbit_number=calipso_obj['metadata'][0][10] # <---- Granule Number when orbit start\n",
      "# locations of time label \n",
      "lat_str=lat-1; lon_str=lon+4 # lat/lon for labels\n",
      "# figure\n",
      "fig=plt.figure(figsize=(15, 15))\n",
      "axis=plt.gca()\n",
      "lon_mid=0\n",
      "proj = Basemap(projection='mill', resolution='c', \\\n",
      "    llcrnrlat=-90, urcrnrlat=90, \\\n",
      "    llcrnrlon=-240, urcrnrlon=120)\n",
      "proj.drawcoastlines(color=[0.375, 0.375, 0.375])\n",
      "# draw parallels and meridians.\n",
      "proj.drawparallels(np.arange(-60, 90, 30), labels=[1, 0, 0, 0])\n",
      "proj.drawmeridians(np.arange(0, 360, 60), labels=[0, 0, 0, 1])\n",
      "# compute native x,y coordinates of grid.\n",
      "x, y=proj(lon, lat)\n",
      "x_str, y_str=proj(lon_str, lat_str)\n",
      "# line of track\n",
      "proj.plot(x, y, linewidth=3.5, color='k', linestyle='-')\n",
      "# =================================== main part ================================= #\n",
      "for i in np.arange(0, len(date_day), time_step):\n",
      "    # every timestep\n",
      "    proj.plot(x[i], y[i], 'bo', markersize=8)\n",
      "    # labelling \n",
      "    if(i % (time_step*label_step) == 0):\n",
      "        time_string=date_day[i].strftime('%H:%M UCT')\n",
      "        axis.text(x_str[i], y_str[i], '{0:s}'.format(time_string), \\\n",
      "                  fontsize=8, fontweight='bold', ha='left', \\\n",
      "                  bbox={'edgecolor':'w', 'facecolor':'w', 'alpha':0.875, 'pad':0})\n",
      "# ================================================================================ #\n",
      "# starting point in red\n",
      "proj.plot(x[0], y[0], 'ro', markersize=8)\n",
      "# bold axis\n",
      "[i.set_linewidth(2) for i in axis.spines.itervalues()]\n",
      "# title\n",
      "title_str='CALIPSO Track\\nGranule Number: 0' + str(Orbit_number)\n",
      "axis.set_title(title_str, fontsize=14, fontweight='bold')\n",
      "# savefig\n",
      "plt.savefig('_figures/02_CALIPSO_track.png', dpi=450, facecolor='w', edgecolor='w',\n",
      "            orientation='portrait', papertype='a4', format='png',\n",
      "            transparent=True, bbox_inches='tight', pad_inches=0,\n",
      "            frameon=None)\n",
      "plt.show()"
     ],
     "language": "python",
     "metadata": {},
     "outputs": [],
     "prompt_number": ""
    },
    {
     "cell_type": "heading",
     "level": 1,
     "metadata": {},
     "source": [
      "Segment the orbit track"
     ]
    },
    {
     "cell_type": "code",
     "collapsed": false,
     "input": [],
     "language": "python",
     "metadata": {},
     "outputs": [],
     "prompt_number": ""
    },
    {
     "cell_type": "markdown",
     "metadata": {},
     "source": [
      "Read the data we saved in `01_MODIS_L1B.ipynb`.\n",
      "\n",
      "Remembering that we use \n",
      "```python\n",
      "scipy.io.savemat('_share/01_MODIS_L1B_TBright', {'longitude': longitude, 'latitude': latitude, 'cloud_Tbright': cloud_Tbright})\n",
      "```\n",
      "to save the file."
     ]
    },
    {
     "cell_type": "code",
     "collapsed": false,
     "input": [
      "MODIS_L1B=scipy.io.loadmat('_share/01_MODIS_L1B_TBright.mat')\n",
      "cloud_Tbright=MODIS_L1B['cloud_Tbright']\n",
      "lon_L1B=MODIS_L1B['longitude']\n",
      "lat_L1B=MODIS_L1B['latitude']"
     ],
     "language": "python",
     "metadata": {},
     "outputs": [],
     "prompt_number": ""
    },
    {
     "cell_type": "markdown",
     "metadata": {},
     "source": [
      "Mask the NaN value in Tbring"
     ]
    },
    {
     "cell_type": "code",
     "collapsed": false,
     "input": [
      "cloud_Tbright_masked=np.ma.masked_where(np.isnan(cloud_Tbright), cloud_Tbright)"
     ],
     "language": "python",
     "metadata": {},
     "outputs": [],
     "prompt_number": ""
    },
    {
     "cell_type": "heading",
     "level": 2,
     "metadata": {},
     "source": [
      "Plot the track with clouds"
     ]
    },
    {
     "cell_type": "markdown",
     "metadata": {},
     "source": [
      "We plot the Brightness Temperature to represents the clouds, and plot the orbit track. The code is similar to the last part of `01_MODIS_L1B.ipynb`.\n",
      "\n",
      "The orbit is a line, but here I plot it with super big linewidth to make it clear. "
     ]
    },
    {
     "cell_type": "code",
     "collapsed": false,
     "input": [
      "lonlim=[-155, -127]\n",
      "latlim=[30, 60]\n",
      "# Colormap\n",
      "CMap=plt.cm.gray_r#gist_heat # hot, afmhot, gnuplot\n",
      "#\n",
      "proj=Basemap(resolution='l', projection='lcc', \\\n",
      "            lat_1=30, lat_2=60, lat_0=45, lon_0=-140, \\\n",
      "            llcrnrlon=-155, llcrnrlat=30, \\\n",
      "            urcrnrlon=-110, urcrnrlat=56)\n",
      "# create figure, add axes\n",
      "fig=plt.figure(figsize=(12, 12))\n",
      "ax=plt.gca()\n",
      "## parallels and meridians.\n",
      "parallels=np.arange(-90, 90, 5)\n",
      "meridians=np.arange(0, 360, 5)\n",
      "proj.drawparallels(parallels, labels=[1, 0, 0, 0],\\\n",
      "                  fontsize=10, latmax=90)\n",
      "proj.drawmeridians(meridians, labels=[0, 0, 0, 1],\\\n",
      "                  fontsize=10, latmax=90)\n",
      "# draw coast \n",
      "proj.drawcoastlines(linewidth=1.5, linestyle='solid', color=[0.25, 0.25, 0.25])\n",
      "# compute native x,y coordinates of grid.\n",
      "x, y=proj(lon_L1B, lat_L1B)\n",
      "x_track, y_track=proj(lon, lat)\n",
      "# pcolor plot\n",
      "CS=proj.pcolor(x, y, cloud_Tbright_masked, cmap=CMap, vmin=210, vmax=275)\n",
      "# plot the track\n",
      "proj.plot(x_track, y_track, linewidth=15, color='r', linestyle='-', alpha=0.625)\n",
      "# title\n",
      "ax.set_title('Cloud and Orbit Track',\\\n",
      "             fontweight='bold', fontsize=14)\n",
      "# Save figure\n",
      "plt.savefig('_figures/02_Cloud_and_Orbit_Track.png', dpi=450, facecolor='w', edgecolor='w',\n",
      "            orientation='portrait', papertype='a4', format='png',\n",
      "            transparent=True, bbox_inches='tight', pad_inches=0,\n",
      "            frameon=None)\n",
      "# Show\n",
      "plt.show()"
     ],
     "language": "python",
     "metadata": {},
     "outputs": [],
     "prompt_number": ""
    },
    {
     "cell_type": "heading",
     "level": 2,
     "metadata": {},
     "source": [
      "Define segmented region based on latitude"
     ]
    },
    {
     "cell_type": "markdown",
     "metadata": {},
     "source": [
      "Based on the figure above, we can segment the orbit by latitude:\n",
      "\n",
      "$35^\\circ N < Latitude < 52^\\circ N$\n",
      "\n",
      "We use <a href='http://docs.scipy.org/doc/numpy/reference/generated/numpy.searchsorted.html'>`numpy.searchsorted`</a> to segment. This function has been discussed in `01_MODIS_L1B.ipynb`.\n",
      "\n",
      "Here, latitude is the \"bins\", and latitude=35, latitude=50 is the value."
     ]
    },
    {
     "cell_type": "code",
     "collapsed": false,
     "input": [
      "minlat_indices=np.searchsorted(lat.flat, 35, 'right')-1\n",
      "maxlat_indices=np.searchsorted(lat.flat, 52, 'right')-1\n",
      "# Cut\n",
      "cloud_top_height=cloud_top_height[minlat_indices:maxlat_indices]\n",
      "lon_seg=lon[minlat_indices:maxlat_indices]\n",
      "lat_seg=lat[minlat_indices:maxlat_indices]\n",
      "surf_elev_seg=surf_elev[minlat_indices:maxlat_indices]\n",
      "date_day_seg=date_day[minlat_indices:maxlat_indices]"
     ],
     "language": "python",
     "metadata": {},
     "outputs": [],
     "prompt_number": ""
    },
    {
     "cell_type": "markdown",
     "metadata": {},
     "source": [
      "Since the longitude of the orbit is ***monotone decreasing*** according to our <a href='#Read-different-parameters'>discussion</a>. \n",
      "\n",
      "But the output of `np.searchsorted` is naturally in a ***monotone increasing*** sense, so here we change the \"direction\" of `lon_seg`."
     ]
    },
    {
     "cell_type": "code",
     "collapsed": false,
     "input": [
      "lon_seg=lon_seg[::-1, :];\n",
      "#cloud_top_height=cloud_top_height[::-1, :];"
     ],
     "language": "python",
     "metadata": {},
     "outputs": [],
     "prompt_number": ""
    },
    {
     "cell_type": "markdown",
     "metadata": {},
     "source": [
      "We save the result as \\*.mat"
     ]
    },
    {
     "cell_type": "code",
     "collapsed": false,
     "input": [
      "time_str=[0] * len(date_day_seg)\n",
      "for i in range(len(date_day_seg)):\n",
      "    time_str[i]=date_day_seg[i].strftime('%H:%M UCT')\n",
      "\n",
      "scipy.io.savemat('_share/02_CALIPSO_L2', {'longitude': lon_seg, 'latitude': lat_seg, 'time': time_str, 'surf_elev': surf_elev_seg, 'Cloud_Top_Height': cloud_top_height})"
     ],
     "language": "python",
     "metadata": {},
     "outputs": [],
     "prompt_number": ""
    },
    {
     "cell_type": "heading",
     "level": 1,
     "metadata": {},
     "source": [
      "Plot the result"
     ]
    },
    {
     "cell_type": "markdown",
     "metadata": {},
     "source": [
      "We plot the CALIPSO lidar cloud top height on the segmented orbit. Essentially, it is:\n",
      "```python\n",
      "plt.plot(lat_seg, cloud_top_height)\n",
      "```"
     ]
    },
    {
     "cell_type": "markdown",
     "metadata": {},
     "source": [
      "Mask the NaN value."
     ]
    },
    {
     "cell_type": "code",
     "collapsed": false,
     "input": [
      "cloud_top_height_masked=np.ma.masked_where(np.isnan(cloud_top_height), cloud_top_height)"
     ],
     "language": "python",
     "metadata": {},
     "outputs": [],
     "prompt_number": ""
    },
    {
     "cell_type": "code",
     "collapsed": false,
     "input": [
      "from mpl_toolkits.axes_grid1 import host_subplot\n",
      "import mpl_toolkits.axisartist as AA\n",
      "# figure\n",
      "fig=plt.figure(figsize=(10, 5))\n",
      "# host_subplot\n",
      "host = host_subplot(111, axes_class=AA.Axes)\n",
      "plt.subplots_adjust(bottom=0.25)\n",
      "# two more axis\n",
      "par2 = host.twiny()\n",
      "par3 = host.twiny()\n",
      "# Still not so sure about how this works, currently looks good : )\n",
      "offset = -25\n",
      "new_fixed_axis = par2.get_grid_helper().new_fixed_axis\n",
      "par2.axis[\"top\"] = new_fixed_axis(loc=\"bottom\", axes=par2, offset=(0, offset))\n",
      "\n",
      "offset = -62.5\n",
      "new_fixed_axis = par3.get_grid_helper().new_fixed_axis\n",
      "par3.axis[\"top\"] = new_fixed_axis(loc=\"bottom\", axes=par3, offset=(0, offset))\n",
      "# axis label <---- don't know why fontsize=14, fontweight='bold' doesn't work\n",
      "host.set_ylabel('Lidar Cloud top Height (km)', fontsize=14, fontweight='bold')\n",
      "host.set_xlabel('\\n\\nGeolocation (longitude/latitude)')\n",
      "par3.set_xlabel('Orbit time')\n",
      "# axis lim\n",
      "par2.set_xlim(lat_seg.min(), lat_seg.max())\n",
      "par3.set_xlim(0, 1)\n",
      "host.set_xlim(lon_seg.min(), lon_seg.max())\n",
      "host.set_ylim(-0.5, 10)\n",
      "# plot\n",
      "# fill the surface elevation\n",
      "baseline=-0.5*np.ones(surf_elev_seg.shape).flat[:]\n",
      "host.fill_between(lon_seg.flat[:], surf_elev_seg.flat[:], baseline, \\\n",
      "                  where=surf_elev_seg.flat[:]>=baseline, facecolor=[0.5, 0.5, 0.5], interpolate=False)\n",
      "host.plot(lon_seg, cloud_top_height_masked[:, 0], linewidth=1.5, linestyle='-', color='k')\n",
      "# xtick and ytick\n",
      "host.set_yticks([1, 3, 5, 7, 9])\n",
      "host.set_xticks(np.linspace(lon_seg.min(), lon_seg.max(), 6))\n",
      "par2.set_xticks(np.linspace(lat_seg.min(), lat_seg.max(), 6))\n",
      "par2.invert_xaxis()\n",
      "count=0; labels_str=[0] * 6\n",
      "for time_id in np.linspace(0, len(date_day_seg)-1, 6).astype(int):\n",
      "    labels_str[count]=date_day_seg[time_id].strftime('%H:%M UCT')\n",
      "    count+=1\n",
      "par3.set_xticklabels(labels_str)\n",
      "host.grid()\n",
      "host.set_title('CALIPSO Lidar Cloud top Height', fontsize=16, fontweight='bold')\n",
      "# savefig\n",
      "plt.savefig('_figures/02_CALIPSO_Lidar_Cloud_top_Height.png', dpi=450, facecolor='w', edgecolor='w',\n",
      "            orientation='portrait', papertype='a4', format='png',\n",
      "            transparent=True, bbox_inches='tight', pad_inches=0,\n",
      "            frameon=None)\n",
      "plt.show()"
     ],
     "language": "python",
     "metadata": {},
     "outputs": [],
     "prompt_number": ""
    },
    {
     "cell_type": "code",
     "collapsed": false,
     "input": [],
     "language": "python",
     "metadata": {},
     "outputs": [],
     "prompt_number": ""
    },
    {
     "cell_type": "code",
     "collapsed": false,
     "input": [],
     "language": "python",
     "metadata": {},
     "outputs": [],
     "prompt_number": ""
    }
   ],
   "metadata": {}
  }
 ]
}