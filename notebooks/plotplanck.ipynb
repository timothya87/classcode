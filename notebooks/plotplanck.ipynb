{
 "metadata": {
  "name": "",
  "signature": "sha256:0680bf38e19459aafeda7b40a09e7e41a89d81d2f13227e670f4cfecec0c30ae"
 },
 "nbformat": 3,
 "nbformat_minor": 0,
 "worksheets": [
  {
   "cells": [
    {
     "cell_type": "heading",
     "level": 1,
     "metadata": {},
     "source": [
      "Three different versions of the Planck function"
     ]
    },
    {
     "cell_type": "markdown",
     "metadata": {},
     "source": [
      "This notebook demonstrates three different variations of Wallace and Hobbs equation 4.10\n",
      "All three are contained in the planck.py module, which is in the lib folder in the\n",
      "classcode repository."
     ]
    },
    {
     "cell_type": "markdown",
     "metadata": {},
     "source": [
      "*The following cell adds the python library directory, lib, to your\n",
      "sys.path so that python will be able to import it's modules.  It\n",
      "assumes that you have kept the same folder structure as my\n",
      "repository, i.e. that you are in a folder called \"notebooks\" and that\n",
      "there is a folder at the same level called \"lib\"*"
     ]
    },
    {
     "cell_type": "code",
     "collapsed": false,
     "input": [
      "from __future__ import print_function\n",
      "import os,site\n",
      "currdir=os.getcwd()\n",
      "head,tail=os.path.split(currdir)\n",
      "libdir=os.path.join(head,'lib')\n",
      "site.addsitedir(libdir)\n",
      "import sys\n",
      "print('python will search the following directories in order for modules: {}'.format(sys.path))"
     ],
     "language": "python",
     "metadata": {},
     "outputs": [],
     "prompt_number": ""
    },
    {
     "cell_type": "markdown",
     "metadata": {},
     "source": [
      "*the cell below imports planck and then reloads it, in case I've made changes to the library and\n",
      "we need to rebuild library.pyc*"
     ]
    },
    {
     "cell_type": "code",
     "collapsed": false,
     "input": [
      "import planck\n",
      "reload(planck)\n",
      "from planck import planckwavelen, planckwavenum, planckfreq\n",
      "import numpy as np\n",
      "import matplotlib\n",
      "import matplotlib.pyplot as plt\n",
      "sigma=5.67e-8  #W/m^2/K^4\n",
      "c=3.e8 #m/s"
     ],
     "language": "python",
     "metadata": {},
     "outputs": [],
     "prompt_number": ""
    },
    {
     "cell_type": "markdown",
     "metadata": {},
     "source": [
      "*the next cell tells ipython to put the graphs right below the cell, instead of popping a new window*"
     ]
    },
    {
     "cell_type": "code",
     "collapsed": false,
     "input": [
      "%matplotlib inline"
     ],
     "language": "python",
     "metadata": {},
     "outputs": [],
     "prompt_number": ""
    },
    {
     "cell_type": "heading",
     "level": 2,
     "metadata": {},
     "source": [
      "Version 1:  function of wavelength"
     ]
    },
    {
     "cell_type": "code",
     "collapsed": false,
     "input": [
      "fig=plt.figure(1,figsize=(9,9))\n",
      "plt.clf()\n",
      "ax1=fig.add_subplot(1,1,1)\n",
      "#check to see how good this approx. is:\n",
      "wavel=np.arange(1,50.,0.1)*1.e-6  #meters\n",
      "TempList=[260,270,280,290,300]\n",
      "TempNames=[\"{:d} K\".format(item) for item in TempList]\n",
      "the_temps=zip(TempList,TempNames)\n",
      "for Temp,name in the_temps:\n",
      "    bbr=planckwavelen(wavel,Temp)*1.e-6*np.pi #convert to W/m^2/micron\n",
      "    ax1.plot(wavel*1.e6,bbr,label=name)\n",
      "ax1.grid(True)\n",
      "ax1.set_ylabel('$E^*_\\lambda\\ {(W\\,m^{-2}\\,\\mu m^{-1})}$')\n",
      "ax1.legend()\n",
      "ax1.set_title('Planck function $E^*_\\lambda\\ {(W\\,m^{-2}\\,\\mu m^{-1})}$ for 5 blackbody temperatures')\n",
      "ax1.set_xlabel('wavelength $\\lambda\\ {\\mu m}$')\n",
      "#fig.savefig('/home/phil/Dropbox/lecture/planckII.png')\n",
      "Temp=300 #K\n",
      "bbr=planckwavelen(wavel,Temp)\n",
      "dn=np.diff(wavel)\n",
      "integ=np.sum(bbr*dn[0]*np.pi)\n",
      "stefan=sigma*Temp**4.\n",
      "the_string=\"\"\"integrated bbr as a function of wavelength (microns) \n",
      "             at 300 K: {:8.3f} W/m^2/micron; Stefan Boltzman: {:8.3f} W/m^2/micron\"\"\"\n",
      "print(the_string.format(integ,stefan))"
     ],
     "language": "python",
     "metadata": {},
     "outputs": [],
     "prompt_number": ""
    },
    {
     "cell_type": "heading",
     "level": 2,
     "metadata": {},
     "source": [
      "Version 2: function of wavenumber"
     ]
    },
    {
     "cell_type": "code",
     "collapsed": false,
     "input": [
      "fig=plt.figure(2,figsize=(9,9))\n",
      "fig.clf()\n",
      "ax1=fig.add_subplot(111)\n",
      "TempList=[260.,270,280,290,300,]\n",
      "wavenum_icm=np.arange(25,2500,20) #in inverse cm\n",
      "wavenum_im=wavenum_icm*100.  #in inverse m\n",
      "bList=[]\n",
      "for Temp in TempList:\n",
      "    bbr_wavenum=planckwavenum(wavenum_im,Temp)*np.pi*100 #convert to W/m^2/cm^-1   \n",
      "    ax1.plot(wavenum_icm,bbr_wavenum) \n",
      "ax1.set_ylabel('$E^*_n\\ {(W\\,(m^{-2}\\,cm^{-1})}$')\n",
      "ax1.grid(b='off',linewidth=1,linestyle='-',which='both')\n",
      "ax1.grid(b=False)\n",
      "ax1.figure.canvas.draw()\n",
      "xminorLocator = matplotlib.ticker.MaxNLocator(nbins=25)\n",
      "ax1.xaxis.set_minor_locator(xminorLocator)\n",
      "yminorLocator = matplotlib.ticker.MaxNLocator(nbins=25)\n",
      "ax1.yaxis.set_minor_locator(yminorLocator)\n",
      "ax1.legend(('260 K','270 K','280 K','290 K','300 K'))\n",
      "ax1.set_title('Planck function $E^*_n\\ {(W\\,/(m^{2}\\,cm^{-1})}$ for 5 blackbody temperatures')\n",
      "ax1.set_xlabel('wavenumber $n\\ {cm^{-1}}$')\n",
      "#fig.savefig('/home/phil/Dropbox/lecture/q3_retrievalIIb.png',dpi=150)\n",
      "Temp=300.\n",
      "bbr=planckwavenum(wavenum_im,Temp)\n",
      "dn=np.diff(wavenum_im)\n",
      "integ=np.sum(bbr*dn[0]*np.pi)\n",
      "stefan=sigma*Temp**4.\n",
      "print(\"integrated bbr as a function of wavenumber (m^{{-1}}) at 300 K: {:8.3f} Stefan Boltzman: {:8.3f}\".format(integ,stefan))\n",
      "freq=wavenum_im*c\n",
      "bbr=planckfreq(freq,Temp)\n",
      "df=np.diff(freq)\n",
      "df=df[0]\n",
      "integ=np.sum(bbr*df*np.pi)\n",
      "print(\"integrated bbr as a function of frequency (Hz) at 300 K: {:8.3f} Stefan Boltzman: {:8.3f}\".format(integ,stefan))\n"
     ],
     "language": "python",
     "metadata": {},
     "outputs": [],
     "prompt_number": ""
    },
    {
     "cell_type": "heading",
     "level": 2,
     "metadata": {},
     "source": [
      "Version 3, put wavelength on top, wavenumber on bottom"
     ]
    },
    {
     "cell_type": "code",
     "collapsed": false,
     "input": [
      "fig=plt.figure(4,figsize=(10,10))\n",
      "fig.clf()\n",
      "bbr_wavenum=planckwavenum(wavenum_im,300.)*100.*np.pi  #convert to W/m^2/cm^{-1}\n",
      "ax1=fig.add_subplot(1,1,1)\n",
      "fig.subplots_adjust(top=0.8)\n",
      "first_fill=ax1.fill_between(wavenum_icm,0,bbr_wavenum) #miliWatts/m^2/cm^-1\n",
      "xlab=ax1.set_xlabel('$wavenumber\\ (cm^{-1})$')\n",
      "xlab.set_fontsize(16)\n",
      "theTextTitle=plt.figtext(0.5,0.9,'300 K blackbody irradiance $(W/\\,(m^{2}\\,cm^{-1})$', ha='center')\n",
      "theTextTitle.set_fontsize(25)\n",
      "ylab=ax1.set_ylabel('$E_n^*\\ (W/(m^{2}\\,cm^{-1})$')\n",
      "ylab.set_fontsize(16)\n",
      "theText=ax1.text(1500,0.2,'$\\sigma T^4 = 460\\ W\\,m^{-2}$')\n",
      "theText.set_fontsize(20)\n",
      "fig.canvas.draw()\n",
      "#savefig('fig41.png',dpi=300)\n",
      "sb=5.67e-8*300**4.\n",
      "level=sb/2500.\n",
      "ax1.plot([0,2500],[level,level],'r-')\n",
      "theFill=ax1.fill_between(wavenum_icm,0,level,\n",
      "                 facecolor='red')\n",
      "theFill.set_alpha(0.2)\n",
      "\n",
      "#fig.savefig('fig42.png',dpi=300)\n",
      "ax2 = fig.add_axes(ax1.get_position(),  frameon=False)\n",
      "ax2.set_ylim(ax1.get_ylim())\n",
      "ax2.set_xlim(ax1.get_xlim())\n",
      "topticks=np.asarray([1,2,3,4,5,7,10.,12,16])\n",
      "tickLabels=[\"%d\" % i for i in topticks]\n",
      "topticks=topticks*1.e-4\n",
      "ticloc=1./topticks\n",
      "ax1.xaxis.set_ticks_position('bottom')\n",
      "ax2.xaxis.set_ticks(ticloc)\n",
      "ax2.xaxis.set_ticklabels(tickLabels)\n",
      "ax2.xaxis.tick_top()\n",
      "ax2.yaxis.tick_right()\n",
      "ax2.set_xlim(ax1.get_xlim())\n",
      "ax2.xaxis.set_label_position('top')\n",
      "xlab2=ax2.set_xlabel('$wavelength\\ (\\mu m)$')\n",
      "xlab2.set_fontsize(16)\n",
      "fig.canvas.draw()\n",
      "#fig.savefig('fig43.png',dpi=300)\n",
      "ax1.fill_between(wavenum_icm,0,bbr_wavenum, where=np.logical_and(wavenum_icm > 600,wavenum_icm < 800),\n",
      "                 facecolor='green')\n",
      "\n",
      "#savefig('fig44.png',dpi=300)\n",
      "\n"
     ],
     "language": "python",
     "metadata": {},
     "outputs": [],
     "prompt_number": ""
    },
    {
     "cell_type": "code",
     "collapsed": false,
     "input": [],
     "language": "python",
     "metadata": {},
     "outputs": [],
     "prompt_number": ""
    }
   ],
   "metadata": {}
  }
 ]
}