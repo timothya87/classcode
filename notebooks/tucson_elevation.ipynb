{
 "metadata": {
  "name": "",
  "signature": "sha256:cac831f007c41b2d1f2f6ae8ec077445077699c4ce2cbe5ee264df06342322c9"
 },
 "nbformat": 3,
 "nbformat_minor": 0,
 "worksheets": [
  {
   "cells": [
    {
     "cell_type": "heading",
     "level": 2,
     "metadata": {},
     "source": [
      "Reuse the day 3 elevation notebook to get the solar elevation for Wallace and Hobbs Figure 4.24 -- data were taken\n",
      "on December 12, 1970 in Tucson, Arizona"
     ]
    },
    {
     "cell_type": "markdown",
     "metadata": {},
     "source": [
      "The Wallace and Hobbs figure shows measurements of the radiance at solar zenith angles with sec(theta) ranging\n",
      "from 2 to 10 -- what time of day were these measurements made?"
     ]
    },
    {
     "cell_type": "heading",
     "level": 2,
     "metadata": {},
     "source": [
      "Step 1: find solar declination angle $\\delta_s$"
     ]
    },
    {
     "cell_type": "markdown",
     "metadata": {},
     "source": [
      "this function uses the python datetime module to correctly find the length of\n",
      "the year for normal or leap years"
     ]
    },
    {
     "cell_type": "code",
     "collapsed": false,
     "input": [
      "#make all division floating point\n",
      "from __future__ import division\n",
      "import datetime as dt\n",
      "import pytz\n",
      "from math import asin,sin,cos,pi\n",
      "import numpy as np\n",
      "\n",
      "deg2rad=pi/180.\n",
      "rad2deg=1./deg2rad\n",
      "\n",
      "def find_deltas(the_date):\n",
      "    \"\"\"given a python datetime object (local time)\n",
      "       find the solar declination angle in degrees\n",
      "       using Stull equation 2.5\n",
      "\n",
      "       input: datetime object with or without timezone\n",
      "       output:  solar declination angle in degrees\n",
      "    \"\"\"\n",
      "    the_year=the_date.year\n",
      "    #\n",
      "    # find the length of the year in days by subtracting\n",
      "    # two datetimes exactly 1 year apart -- jan 1, 0 hours, 0 minutes, 0 seconds\n",
      "    # \n",
      "    year_start=dt.datetime(the_year,1,1,0,0,0)\n",
      "    year_end=dt.datetime(the_year+1,1,1,0,0,0)\n",
      "    year_length=(year_end - year_start).days\n",
      "    phir=23.44 #axis tilt in degrees from stull\n",
      "    #number of days since the new year\n",
      "    the_day=(the_date - year_start).days\n",
      "    #now find the Julian day of the solstice\n",
      "    #for fun, get the exact solstice from the pyephem package\n",
      "    #http://shallowsky.com/blog/science/astro/calculating-solstice.html\n",
      "    try:\n",
      "        #\n",
      "        # use the exact solstice for 1970 if the ephem module is installed\n",
      "        #\n",
      "        import ephem\n",
      "        solstice=ephem.next_solstice('1970/6/1').datetime()\n",
      "    except ImportError:\n",
      "        #print(\"ephem package isn't available, using calendar solstice\")\n",
      "        solstice=dt.datetime(1970,6,21,0,0,0)\n",
      "    #print('solstice set to: ',solstice)\n",
      "    #print \"ephem solstice is: \",solstice\n",
      "    jan1=dt.datetime(1970,1,1,0,0,0)\n",
      "    solstice_day=(solstice - jan1).days\n",
      "    #print('solstice has {} days'.format(solstice_day))\n",
      "    fraction=(the_day - solstice_day)/year_length\n",
      "    deltas=phir*cos(2*pi*fraction)\n",
      "    return deltas"
     ],
     "language": "python",
     "metadata": {},
     "outputs": [],
     "prompt_number": ""
    },
    {
     "cell_type": "heading",
     "level": 2,
     "metadata": {},
     "source": [
      "Step 2: find the elevation using equation 2.6"
     ]
    },
    {
     "cell_type": "markdown",
     "metadata": {},
     "source": [
      "use the timezone module pytz to convert Tucson time to UTC,\n",
      "correctly accounting for daylight savings time\n"
     ]
    },
    {
     "cell_type": "code",
     "collapsed": false,
     "input": [
      "def find_elevation(the_date):\n",
      "    \"\"\"find the solar elevation for Tucson in degrees given a python\n",
      "       datetime object without a timezone representing\n",
      "       vancouver local time, using Stull eqn. 2.6\n",
      "\n",
      "       input:  datetime object (no timezone)\n",
      "       output: solar elevation in degrees\n",
      "    \"\"\"\n",
      "    deltas=find_deltas(the_date)\n",
      "    deltas=deltas*deg2rad\n",
      "    #stull p. 32 gives lat and lon for Tucson\n",
      "    phi=32.221*deg2rad #Tucson latitude deg N\n",
      "    lambda_e = 110.926*deg2rad #Tucson longitude, deg W\n",
      "    mountain=pytz.timezone('US/Mountain')\n",
      "    utc=pytz.timezone('UTC')\n",
      "    #\n",
      "    # give the time a pacific timezone\n",
      "    #\n",
      "    tucson=mountain.localize(the_date)\n",
      "    #convert to utc\n",
      "    tucson=tucson.astimezone(utc)\n",
      "    #\n",
      "    #  turn minutes into fractions of an hour\n",
      "    #\n",
      "    t_utc=tucson.hour + tucson.minute/60.\n",
      "    #stull eqn 2.6\n",
      "    sin_psi=sin(phi)*sin(deltas) - cos(phi)*cos(deltas)*cos(2*pi*t_utc/24. - lambda_e)\n",
      "    elevation=asin(sin_psi)*rad2deg\n",
      "    #write 0 if under the horizon\n",
      "    if elevation < 0:\n",
      "        elevation=0.\n",
      "    return elevation"
     ],
     "language": "python",
     "metadata": {},
     "outputs": [],
     "prompt_number": ""
    },
    {
     "cell_type": "heading",
     "level": 2,
     "metadata": {},
     "source": [
      "Step 3: print cos(theta) and secant(theta) for the sun for Dec. 12, 1970 at 15 minute intervals"
     ]
    },
    {
     "cell_type": "code",
     "collapsed": false,
     "input": [
      "print(\"{:5s}  {:5s}  {:10s}  {:10s}\".format('hour','zenith','cos(theta)','sec(theta)') )\n",
      "print(\"=\"*40)\n",
      "for hour in np.arange(6,19):\n",
      "    for minute in np.arange(0,60,15):\n",
      "        dec12=datetime.datetime(1970,12,12,hour,minute,0)   \n",
      "        elevation=find_elevation(dec12) \n",
      "        #right justify the columns and make them all 5 characters wide\n",
      "        # see http://clouds.eos.ubc.ca/~phil/djpine_python/Book/_build/html/chap4/chap4_io.html?highlight=format\n",
      "\n",
      "        #zenith angle is measured from straight up\n",
      "        zenith=90. - elevation\n",
      "        the_cos=cos(deg2rad*zenith)\n",
      "        if the_cos < 1.e-5:\n",
      "            the_cos=0.\n",
      "            the_sec=0.\n",
      "        else:\n",
      "            the_sec=1./the_cos\n",
      "        print(\"{:>02d}:{:>02d}   {:>5.2f}   {:>5.2f}    {:>5.2f}\".format(hour,minute,zenith,the_cos,the_sec))"
     ],
     "language": "python",
     "metadata": {},
     "outputs": [],
     "prompt_number": ""
    },
    {
     "cell_type": "code",
     "collapsed": false,
     "input": [],
     "language": "python",
     "metadata": {},
     "outputs": []
    }
   ],
   "metadata": {}
  }
 ]
}