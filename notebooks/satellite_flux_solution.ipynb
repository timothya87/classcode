{
 "metadata": {
  "name": "",
  "signature": "sha256:74156b7de43e4a46969517ef646b43fd36d602448d549aada68a63ec21d78fe1"
 },
 "nbformat": 3,
 "nbformat_minor": 0,
 "worksheets": [
  {
   "cells": [
    {
     "cell_type": "code",
     "collapsed": false,
     "input": [
      "%matplotlib inline"
     ],
     "language": "python",
     "metadata": {},
     "outputs": [],
     "prompt_number": ""
    },
    {
     "cell_type": "code",
     "collapsed": false,
     "input": [
      "import site,os\n",
      "currdir=os.getcwd()\n",
      "head,tail=os.path.split(currdir)\n",
      "libdir=os.path.join(head,'lib')\n",
      "site.addsitedir(libdir)"
     ],
     "language": "python",
     "metadata": {},
     "outputs": [],
     "prompt_number": ""
    },
    {
     "cell_type": "heading",
     "level": 4,
     "metadata": {},
     "source": [
      "Q1: A satellite is in orbit 400 km above the surface, with a nadir pixel with a diameter of 50 km. Use the approach of the geometry/radiance lecture to integrate the solid angle subtended by the satellite telescope. (Assume that the surface is flat and pixel is circular).  Here's the figure\n",
      "with the geometry:"
     ]
    },
    {
     "cell_type": "code",
     "collapsed": false,
     "input": [
      "from matplotlib import pyplot as plt\n",
      "import numpy as np\n",
      "img = plt.imread('images/sat_problem.png')\n",
      "fig,axis=plt.subplots(1,1,figsize=(6,6))\n",
      "the_img=axis.imshow(img)\n",
      "the_img.set_cmap('gray')"
     ],
     "language": "python",
     "metadata": {},
     "outputs": [],
     "prompt_number": ""
    },
    {
     "cell_type": "markdown",
     "metadata": {},
     "source": [
      "We need to find the limits of integration for $\\theta$. Simple trig gives\n",
      "$\\theta_{max} = tan^{-1} (25/400)$"
     ]
    },
    {
     "cell_type": "code",
     "collapsed": false,
     "input": [
      "theta_max=np.arctan(25./400.)\n",
      "print \"angle is %5.2f degrees\" % (theta_max*180./np.pi)"
     ],
     "language": "python",
     "metadata": {},
     "outputs": [],
     "prompt_number": ""
    },
    {
     "cell_type": "code",
     "collapsed": false,
     "input": [
      "#use the slide 8 formula\n",
      "angle=2*np.pi*(-1)*(np.cos(theta_max) - 1)\n",
      "print \"angle is about %7.3f sr\" % angle"
     ],
     "language": "python",
     "metadata": {},
     "outputs": [],
     "prompt_number": ""
    },
    {
     "cell_type": "code",
     "collapsed": false,
     "input": [
      "#check vs. area/R^2\n",
      "print \"and here is the check %7.3g, not bad\" % ((np.pi*25**2.)/400**2.,)"
     ],
     "language": "python",
     "metadata": {},
     "outputs": [],
     "prompt_number": ""
    },
    {
     "cell_type": "heading",
     "level": 4,
     "metadata": {},
     "source": [
      "Q2: Suppose the satellite is observing the ground (which is emitting as a blackbody\n",
      "at a temperature of 300 K) with the field of view calculated in problem 1.  What\n",
      "is the flux ($W\\, m^{-2}$) reaching the satellite from that pixel, assuming no \n",
      "atmospheric absorption/emission,\n",
      "in the wavelength range $10\\ \\mu m < \\lambda < 12\\ \\mu m$? (Choose nearest value)\n"
     ]
    },
    {
     "cell_type": "code",
     "collapsed": false,
     "input": [
      "import site\n",
      "site.addsitedir('/Users/phil/repos/a301_2014/lib')\n",
      "from planck import planckwavelen\n",
      "flux=planckwavelen(11.e-6,300.)  #output is W/m^2/m binwidth\n",
      "radiance=flux/np.pi  #turn flux into radiance\n",
      "delta_lambda=2.e-6 #bin is 2 microns wide\n",
      "flux=radiance*angle*delta_lambda\n",
      "print \"answer is about %5.3e W/m^2\" % flux"
     ],
     "language": "python",
     "metadata": {},
     "outputs": [],
     "prompt_number": ""
    },
    {
     "cell_type": "code",
     "collapsed": false,
     "input": [],
     "language": "python",
     "metadata": {},
     "outputs": [],
     "prompt_number": ""
    },
    {
     "cell_type": "code",
     "collapsed": false,
     "input": [],
     "language": "python",
     "metadata": {},
     "outputs": [],
     "prompt_number": ""
    },
    {
     "cell_type": "code",
     "collapsed": false,
     "input": [],
     "language": "python",
     "metadata": {},
     "outputs": [],
     "prompt_number": ""
    }
   ],
   "metadata": {}
  }
 ]
}