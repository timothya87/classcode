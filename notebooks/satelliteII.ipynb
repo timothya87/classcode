{
 "metadata": {
  "name": "",
  "signature": "sha256:b48024f446ca0cd0164b5a449a201f609007911bcfcfb83d61eaa603b8aaad5f"
 },
 "nbformat": 3,
 "nbformat_minor": 0,
 "worksheets": [
  {
   "cells": [
    {
     "cell_type": "heading",
     "level": 2,
     "metadata": {},
     "source": [
      "Reading MODIS level 1b data in netcdf format"
     ]
    },
    {
     "cell_type": "markdown",
     "metadata": {},
     "source": [
      "Here is a walkthrough of how to read metadata and data from a level1b file.  I've used the the converter I downloaded from\n",
      "[this link](hdfeos.org/software/library.php#H4CF Conversion Library) to produce the Aqua granule netcdf file in this download directory: http://clouds.eos.ubc.ca/~phil/Downloads/a301/MYD021KM.A2005188.0405.005.2009232180906.nc (right click to save to your local drive)"
     ]
    },
    {
     "cell_type": "markdown",
     "metadata": {},
     "source": [
      "I'm going to use http://unidata.github.io/netcdf4-python/ and two new modules (modismeta.py and netcdflib.py) to read the granule"
     ]
    },
    {
     "cell_type": "code",
     "collapsed": false,
     "input": [
      "from __future__ import print_function\n",
      "from __future__ import division\n",
      "import os,site\n",
      "currdir=os.getcwd()\n",
      "head,tail=os.path.split(currdir)\n",
      "libdir=os.path.join(head,'lib')\n",
      "site.addsitedir(libdir)\n",
      "from modismeta import parseMeta\n",
      "from netcdflib import ncdump\n",
      "import glob\n",
      "from netCDF4 import Dataset"
     ],
     "language": "python",
     "metadata": {},
     "outputs": [],
     "prompt_number": ""
    },
    {
     "cell_type": "markdown",
     "metadata": {},
     "source": [
      "the glob function finds a file using a wildcard to save typing (google: python glob wildcard)"
     ]
    },
    {
     "cell_type": "code",
     "collapsed": false,
     "input": [
      "nc_filename=glob.glob('*.nc')\n",
      "print(\"found {}\".format(nc_filename))"
     ],
     "language": "python",
     "metadata": {},
     "outputs": [],
     "prompt_number": ""
    },
    {
     "cell_type": "code",
     "collapsed": false,
     "input": [
      "nc_file=Dataset(nc_filename[0])"
     ],
     "language": "python",
     "metadata": {},
     "outputs": [],
     "prompt_number": ""
    },
    {
     "cell_type": "markdown",
     "metadata": {},
     "source": [
      "netcdf files have attributes"
     ]
    },
    {
     "cell_type": "code",
     "collapsed": false,
     "input": [
      "print(nc_file.ncattrs())"
     ],
     "language": "python",
     "metadata": {},
     "outputs": [],
     "prompt_number": ""
    },
    {
     "cell_type": "code",
     "collapsed": false,
     "input": [
      "print(nc_file.Earth_Sun_Distance)"
     ],
     "language": "python",
     "metadata": {},
     "outputs": [],
     "prompt_number": ""
    },
    {
     "cell_type": "code",
     "collapsed": false,
     "input": [
      "print(nc_file.HDFEOSVersion)"
     ],
     "language": "python",
     "metadata": {},
     "outputs": [],
     "prompt_number": ""
    },
    {
     "cell_type": "markdown",
     "metadata": {},
     "source": [
      "netcdf files have variables -- stored in a dictionary"
     ]
    },
    {
     "cell_type": "code",
     "collapsed": false,
     "input": [
      "#print(nc_file.variables.keys())"
     ],
     "language": "python",
     "metadata": {},
     "outputs": [],
     "prompt_number": ""
    },
    {
     "cell_type": "code",
     "collapsed": false,
     "input": [
      "the_long=nc_file.variables['longitude']\n",
      "the_lat=nc_file.variables['latitude']"
     ],
     "language": "python",
     "metadata": {},
     "outputs": [],
     "prompt_number": ""
    },
    {
     "cell_type": "markdown",
     "metadata": {},
     "source": [
      "the following cell shows how to write code out to a file"
     ]
    },
    {
     "cell_type": "markdown",
     "metadata": {},
     "source": [
      "%%file snippet.py\n",
      "size=100\n",
      "lat_data=the_lat[:10,:10]\n",
      "long_data=the_long[:10,:10]"
     ]
    },
    {
     "cell_type": "markdown",
     "metadata": {},
     "source": [
      "the following cell shows how to read code into a cell"
     ]
    },
    {
     "cell_type": "markdown",
     "metadata": {},
     "source": [
      "%load snippet.py"
     ]
    },
    {
     "cell_type": "code",
     "collapsed": false,
     "input": [
      "size=10\n",
      "lat_data=the_lat[:size,:size]\n",
      "lon_data=the_long[:size,:size]\n"
     ],
     "language": "python",
     "metadata": {},
     "outputs": [],
     "prompt_number": ""
    },
    {
     "cell_type": "heading",
     "level": 2,
     "metadata": {},
     "source": [
      "Plot some lat/lon pairs"
     ]
    },
    {
     "cell_type": "code",
     "collapsed": false,
     "input": [
      "%matplotlib inline"
     ],
     "language": "python",
     "metadata": {},
     "outputs": [],
     "prompt_number": ""
    },
    {
     "cell_type": "code",
     "collapsed": false,
     "input": [
      "fig=plt.figure(1,figsize=(9,9))\n",
      "plt.clf()\n",
      "ax1=fig.add_subplot(1,1,1)\n",
      "the_points=ax1.plot(lon_data,lat_data,'r+')\n",
      "ylim=(22.65,22.9)\n",
      "xlim=(149.,149.8)\n",
      "ax1.set_xlim(xlim)\n",
      "ax1.set_ylim(ylim)"
     ],
     "language": "python",
     "metadata": {},
     "outputs": [],
     "prompt_number": ""
    },
    {
     "cell_type": "code",
     "collapsed": false,
     "input": [
      "lon_bins=np.linspace(xlim[0],xlim[1],3)\n",
      "lat_bins=np.linspace(ylim[0],ylim[1],3)\n",
      "lon_indices=np.digitize(lon_data.flat,lon_bins)\n",
      "lat_indices=np.digitize(lat_data.flat,lat_bins)"
     ],
     "language": "python",
     "metadata": {},
     "outputs": [],
     "prompt_number": ""
    },
    {
     "cell_type": "code",
     "collapsed": false,
     "input": [
      "lat_indices"
     ],
     "language": "python",
     "metadata": {},
     "outputs": [],
     "prompt_number": ""
    },
    {
     "cell_type": "code",
     "collapsed": false,
     "input": [
      "lon_indices"
     ],
     "language": "python",
     "metadata": {},
     "outputs": [],
     "prompt_number": ""
    },
    {
     "cell_type": "heading",
     "level": 2,
     "metadata": {},
     "source": [
      "Working with a partner, make a copy of this notebook and add comments that explain what this code is doing and why.  Upload you notebook with this commented cell to connect "
     ]
    },
    {
     "cell_type": "code",
     "collapsed": false,
     "input": [
      "lat_array=np.zeros([len(lat_bins),len(lon_bins)],dtype=np.float)\n",
      "bin_count=np.zeros([len(lat_bins),len(lon_bins)],dtype=np.int)\n",
      "lon_array=np.zeros([len(lat_bins),len(lon_bins)],dtype=np.float)\n",
      "\n",
      "for point_num in range(len(lat_indices)):\n",
      "    bin_row=lat_indices[point_num]\n",
      "    bin_col=lon_indices[point_num]   \n",
      "    lat_array[bin_row,bin_col]=lat_array[bin_row,bin_col] + lat_data.flat[point_num]\n",
      "    lon_array[bin_row,bin_col]+=lon_data.flat[point_num]\n",
      "    bin_count[bin_row,bin_col]+=1\n",
      "    \n",
      "for i in range(lon_array.shape[0]):\n",
      "    for j in range(lon_array.shape[1]):\n",
      "        if bin_count[i,j] > 0:\n",
      "            lat_array[i,j]=lat_array[i,j]/bin_count[i,j]\n",
      "            lon_array[i,j]=lon_array[i,j]/bin_count[i,j]\n",
      "        else:\n",
      "            lat_array[i,j]=np.nan\n",
      "            lon_array[i,j]=np.nan\n",
      "\n",
      "   "
     ],
     "language": "python",
     "metadata": {},
     "outputs": [],
     "prompt_number": ""
    },
    {
     "cell_type": "heading",
     "level": 2,
     "metadata": {},
     "source": [
      "Now get data from Channel 31  (see modis "
     ]
    },
    {
     "cell_type": "code",
     "collapsed": false,
     "input": [
      "longwave=nc_file.variables['EV_1KM_Emissive']\n",
      "longwave.ncattrs()\n"
     ],
     "language": "python",
     "metadata": {},
     "outputs": [],
     "prompt_number": ""
    },
    {
     "cell_type": "code",
     "collapsed": false,
     "input": [
      "band_names=longwave.band_names"
     ],
     "language": "python",
     "metadata": {},
     "outputs": [],
     "prompt_number": ""
    },
    {
     "cell_type": "code",
     "collapsed": false,
     "input": [
      "band_names=band_names.split(',')\n",
      "index31=band_names.index('31')"
     ],
     "language": "python",
     "metadata": {},
     "outputs": [],
     "prompt_number": ""
    },
    {
     "cell_type": "code",
     "collapsed": false,
     "input": [
      "index31"
     ],
     "language": "python",
     "metadata": {},
     "outputs": [],
     "prompt_number": ""
    },
    {
     "cell_type": "code",
     "collapsed": false,
     "input": [
      "chan31=longwave[index31,:10,:10]\n",
      "chan31\n",
      "#chan31 = scale31 * (chan31 - offset31)"
     ],
     "language": "python",
     "metadata": {},
     "outputs": [],
     "prompt_number": ""
    },
    {
     "cell_type": "heading",
     "level": 2,
     "metadata": {},
     "source": [
      "For Wednesday, use planck_inverse to calculate brightness temperatures a 100 x 100 pixel section of your Channel 31 image\n",
      "and bin the brightness temperatures into a regular 0.05 x 0.05 degree bin"
     ]
    },
    {
     "cell_type": "code",
     "collapsed": false,
     "input": [],
     "language": "python",
     "metadata": {},
     "outputs": []
    }
   ],
   "metadata": {}
  }
 ]
}