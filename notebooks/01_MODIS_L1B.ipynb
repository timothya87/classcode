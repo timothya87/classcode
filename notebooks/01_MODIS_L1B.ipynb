{
 "metadata": {
  "name": "",
  "signature": "sha256:0f61e322571214fdc1ad34a1d4941bc1cd0857876bf7e8d4adb1bd0d615aa2ad"
 },
 "nbformat": 3,
 "nbformat_minor": 0,
 "worksheets": [
  {
   "cells": [
    {
     "cell_type": "markdown",
     "metadata": {},
     "source": [
      "#Objectives\n",
      "* The objectives of this notebook is to provide examples about working with AQUA MODIS L1B files, including:\n",
      "    * Convert HDF4 format data to HDF5 format;\n",
      "    * Read \\*.HDF5 data through \"h5py\" module;\n",
      "    * Correct the raw data by using `scale_factor` and `offset` \n",
      "    * Reproject sinusoidal projection grid to a regular grid (cylindrical equidistant projection);\n",
      "    * Identify cloud and ocean based on 2-D histograms;\n",
      "    * Calculate brightness temperature on the top of the clouds and save the result as \\*.mat file;\n",
      "    * Visualizing cloud data through `mpl_toolkits.basemap`.\n",
      "* The files required for this notebook including: \n",
      "        MYD021KM.A2006303.2220.006.2012078143305.hdf\n",
      "        MYD03.A2006303.2220.006.2012078135515.hdf\n",
      "        MYD021KM.A2006303.2220.006.2012078143305.h5\n",
      "        MYD03.A2006303.2220.006.2012078135515.h5\n",
      "* `MYD021KM*` are **MODIS AQUA L1B** files version 6, observed on **Oct 30 2006**. Which shows a extra-tropical cyclone approaching the Vancouver Island.\n",
      "* `MYD03*` is the geolocation file indecates the MODIS AQUA L1B geolocation field\n",
      "* \\*.hdf is the HDF4 file which can be downloaded from <a href='http://ladsweb.nascom.nasa.gov/data/search.html'>LAADS Web</a>.\n",
      "* \\*.h5 is the HDF5 file which can be <a href='#Convert-HDF4-format-file-to-HDF5-format'>converted</a> from HDF4 files."
     ]
    },
    {
     "cell_type": "code",
     "collapsed": false,
     "input": [
      "__author__ = 'ATSC-301 UBC'"
     ],
     "language": "python",
     "metadata": {},
     "outputs": [],
     "prompt_number": ""
    },
    {
     "cell_type": "heading",
     "level": 1,
     "metadata": {},
     "source": [
      "Content"
     ]
    },
    {
     "cell_type": "markdown",
     "metadata": {},
     "source": [
      "1. [**Convert HDF4 format file to HDF5 format**](#Convert-HDF4-format-file-to-HDF5-format)\n",
      "  2. [Convert HDF4 to HDF5 on Windows](#Convert-HDF4-to-HDF5-on-Windows)\n",
      "  2. [Convert HDF4 to HDF5 on Linux](#Convert-HDF4-to-HDF5-on-Linux)\n",
      "1. [**Import modules & tools**](#Import-modules-&-tools)\n",
      "1. [**Read MODIS L1B data through h5py**](#Read-MODIS-L1B-data-through-h5py)\n",
      "  2. [Get HDF5 file object](#Get-HDF5-file-object)\n",
      "  2. [The structure of HDF file](#The-structure-of-HDF-file)\n",
      "    3. [Get attribute and sub-attribute information](#Get-attribute-and-sub-attribute-information)\n",
      "    3. [Some external tools](#Some-external-tools)\n",
      "  2. [Read MODIS L1B channel-31 and channel-1 data](#Read-MODIS-L1B-channel-31-and-channel-1-data)\n",
      "    3. [Read raw data](#Read-raw-data)\n",
      "    3. [Select the channel](#Select-the-channel)\n",
      "    3. [Scale factor and offset value](#Scale-factor-and-offset-value)\n",
      "  2. [Geolocation field](#Geolocation-field)\n",
      "1. [**Reproject MODIS L1B data to a regular grid**](#Reproject-MODIS-L1B-data-to-a-regular-grid)\n",
      "  2. [Define function reproj_L1B](#Define-function-reproj_L1B)\n",
      "  2. [Test if reproj_L1B works well](#Test-if-reproj_L1B-works-well)\n",
      "  2. [Convert channel-31 and channel-1 data](#Convert-channel-31-and-channel-1-data)\n",
      "1. [**Identify cloud and ocean via 2-D histogram**](#Identify-cloud-and-ocean-via-2-D-histogram)\n",
      "  2. [How to use numpy.histogram2d](#How-to-use-numpy.histogram2d)\n",
      "  2. [Create 2-D Histgram for channel-31 and channel-1 data](#Create-2-D-Histgram-for-channel-31-and-channel-1-data)\n",
      "  2. [Eliminate ocean points based on 2-D histgram](#Eliminate-ocean-points-based-on-2-D-histgram)\n",
      "  2. [Test if the \"criteria\" works well](#Test-if-the-\"criteria\"-works-well)\n",
      "1. [**Calculate brightness temperature on the top of the clouds**](#Calculate-brightness-temperature-on-the-top-of-the-clouds)\n",
      "  2. [Save the brightness temperature result as \\*.mat file](#Save-the-brightness-temperature-result-as-*.mat-file)\n",
      "1. [**Plot cloud_TBright in mpl_toolkits.basemap**](#Plot-cloud_TBright-in-mpl_toolkits.basemap)"
     ]
    },
    {
     "cell_type": "heading",
     "level": 1,
     "metadata": {},
     "source": [
      "Convert HDF4 format file to HDF5 format"
     ]
    },
    {
     "cell_type": "markdown",
     "metadata": {},
     "source": [
      "The hdf4 module in Python, <a href='http://pysclint.sourceforge.net/pyhdf'>pyhdf</a> is not included in anaconda channel for both Windows and Mac. So here we plan to convert HDF4 into HDF5 or netCDF format and solve the problem. \n",
      "\n",
      "But one can also try to install this module manually, the source code and documents can be get from <a href='https://github.com/fhs/python-hdf4'>here</a>. Linux user can try to install python module <a href='https://conda.binstar.org/mutirri'>mutirri</a> , which includes pyhdf in it."
     ]
    },
    {
     "cell_type": "heading",
     "level": 2,
     "metadata": {},
     "source": [
      "Convert HDF4 to HDF5 on Windows"
     ]
    },
    {
     "cell_type": "markdown",
     "metadata": {},
     "source": [
      "Windows user can convert from HDF4 to HDF5 using <a href='http://www.hdfgroup.org/h4toh5/download.html'>h4toh5</a> which provided by hdf group."
     ]
    },
    {
     "cell_type": "markdown",
     "metadata": {},
     "source": [
      "One need to do the following steps:\n",
      "* Download `h4h5tools-2.2.2-win32.zip` or `h4h5tools-2.2.2-win64.zip` on local machine.\n",
      "* Uncompress the \\*.zip file, run installation file \\*.exe\n",
      "* Open DOS command line window\n",
      "* cd to `bin` folder (e.g. `cd F:\\HDF_Group\\H4TOH5\\2.2.2\\bin`)\n",
      "* use h4toh5 tool in the following ways:\n",
      "```bash\n",
      "        h4toh5convert input.hdf output.h5\n",
      "        h4toh5convert -na input.hdf output.h5\n",
      "        h4toh5convert -nc4 input.hdf output.h5`\n",
      "```\n",
      "* You can add h4toh5 on your system's Environmental Variable `PATH`, or `set PATH=F:\\HDF_Group\\H4TOH5\\2.2.2\\bin ` and then you can use `h4toh5convert` everywhere. "
     ]
    },
    {
     "cell_type": "markdown",
     "metadata": {},
     "source": [
      "* Here is a screen shot of `h4toh5convert` in cmd:\n",
      "\n",
      "<img src=\"_figures/01_h4toh5convert.PNG\" width=550 align=\"left\"/>"
     ]
    },
    {
     "cell_type": "heading",
     "level": 2,
     "metadata": {},
     "source": [
      "Convert HDF4 to HDF5 on Linux"
     ]
    },
    {
     "cell_type": "markdown",
     "metadata": {},
     "source": [
      "<a href='http://www.hdfgroup.org/h4toh5/download.html'>h4toh5</a> has a Linux version, so we can use it by repeating the steps above and edit `PATH` in `.bashrc` file."
     ]
    },
    {
     "cell_type": "heading",
     "level": 1,
     "metadata": {},
     "source": [
      "Import modules & tools"
     ]
    },
    {
     "cell_type": "markdown",
     "metadata": {},
     "source": [
      "Before you run the cell below, you need to install **`h5py`** through anaconda:\n",
      "```bash\n",
      "conda install h5py\n",
      "```"
     ]
    },
    {
     "cell_type": "markdown",
     "metadata": {},
     "source": [
      "Here we use h5py to read HDF5 file. The h5py package is a open-source Pythonic interface to the HDF5 binary data format, \n",
      "one can find something useful via h5py's <a href='http://docs.h5py.org/en/latest/index.html'>documentation</a> and their <a href='http://www.h5py.org/'>website</a>. Also, one can find more information about HDF5's file format from <a href='http://www.hdfgroup.org/HDF5/doc/H5.format.html'>here</a>."
     ]
    },
    {
     "cell_type": "code",
     "collapsed": false,
     "input": [
      "import glob\n",
      "import numpy as np\n",
      "import matplotlib.pyplot as plt\n",
      "from __future__ import division\n",
      "from __future__ import print_function\n",
      "% matplotlib inline"
     ],
     "language": "python",
     "metadata": {},
     "outputs": [],
     "prompt_number": ""
    },
    {
     "cell_type": "markdown",
     "metadata": {},
     "source": [
      "We import h5py to read HDF5 files:"
     ]
    },
    {
     "cell_type": "code",
     "collapsed": false,
     "input": [
      "import h5py"
     ],
     "language": "python",
     "metadata": {},
     "outputs": [],
     "prompt_number": ""
    },
    {
     "cell_type": "markdown",
     "metadata": {},
     "source": [
      "`scipy.io` for saving data in \\*.mat format"
     ]
    },
    {
     "cell_type": "code",
     "collapsed": false,
     "input": [
      "import scipy.io"
     ],
     "language": "python",
     "metadata": {},
     "outputs": [],
     "prompt_number": ""
    },
    {
     "cell_type": "markdown",
     "metadata": {},
     "source": [
      "For the map view of data, we need `mpl_toolkits.basemap`"
     ]
    },
    {
     "cell_type": "code",
     "collapsed": false,
     "input": [
      "from mpl_toolkits.basemap import Basemap"
     ],
     "language": "python",
     "metadata": {},
     "outputs": [],
     "prompt_number": ""
    },
    {
     "cell_type": "heading",
     "level": 1,
     "metadata": {},
     "source": [
      "Read MODIS L1B data through `h5py`"
     ]
    },
    {
     "cell_type": "markdown",
     "metadata": {},
     "source": [
      "Searching all \\*.h5 files in `_data/MODIS_L1B/` directory, Make sure that you have the required HDF5 files exist in it."
     ]
    },
    {
     "cell_type": "code",
     "collapsed": false,
     "input": [
      "hdf5_L1B=glob.glob('_data/MODIS_L1B/MYD021*.h5')\n",
      "print(\"MODIS L1B file found {}\".format(hdf5_L1B))\n",
      "hdf5_Geo=glob.glob('_data/MODIS_L1B/MYD03*.h5')\n",
      "print(\"MODIS Geolocation file found {}\".format(hdf5_Geo))"
     ],
     "language": "python",
     "metadata": {},
     "outputs": [],
     "prompt_number": ""
    },
    {
     "cell_type": "heading",
     "level": 2,
     "metadata": {},
     "source": [
      "Get HDF5 file object"
     ]
    },
    {
     "cell_type": "code",
     "collapsed": false,
     "input": [
      "hdf5_obj=h5py.File(hdf5_L1B[0], 'r')\n",
      "geo_obj=h5py.File(hdf5_Geo[0], 'r')"
     ],
     "language": "python",
     "metadata": {},
     "outputs": [],
     "prompt_number": ""
    },
    {
     "cell_type": "markdown",
     "metadata": {},
     "source": [
      "`h5py.File('filename.h5', 'r')` returns the object of HDF5 file.\n"
     ]
    },
    {
     "cell_type": "markdown",
     "metadata": {},
     "source": [
      "Here we read MODIS L1B channe-31 and channel-1 data from `MYD021KM.A*.h5` file and read geolocation fields from a corresponding `MYD02QKM.A*.h5` file."
     ]
    },
    {
     "cell_type": "heading",
     "level": 2,
     "metadata": {},
     "source": [
      "The structure of HDF file"
     ]
    },
    {
     "cell_type": "heading",
     "level": 3,
     "metadata": {},
     "source": [
      "Get attribute and sub-attribute information"
     ]
    },
    {
     "cell_type": "markdown",
     "metadata": {},
     "source": [
      "Something abou using `h5py` to discover the structure of HDF files:\n",
      "\n",
      "* Apply `a_obj.keys()` to get all the attributes in a file object.\n",
      "* HDF file usually has more than one layer attributes. \n",
      "* Call `a_obj['an_attribute'].keys()` to see the sub-attribute. \n",
      "* Use build-in function `dir(a_obj['an_attribute'])` to see if the option `keys` still available.\n",
      "* If you cannot find `keys` by `dir(a_obj['an_attribute']['more_attr'])`, you reach the bottom layer of the file, and usually there are data in it."
     ]
    },
    {
     "cell_type": "markdown",
     "metadata": {},
     "source": [
      "Here we attempt to read MODIS L1B channe-31 data as an example. The data `'EV_1KM_Emissive'` is in:"
     ]
    },
    {
     "cell_type": "code",
     "collapsed": false,
     "input": [
      "hdf5_attr=hdf5_obj.keys()\n",
      "print('Attributes in {}'.format(hdf5_L1B))\n",
      "print('=============================================================')\n",
      "print('hdf5_attr=hdf5_obj.keys() \\n\\n{}'.format(hdf5_attr))\n",
      "\n",
      "sub_attr=hdf5_obj['MODIS_SWATH_Type_L1B'].keys()\n",
      "print(\"\\n\\n\\tSub-attributes in 'MODIS_SWATH_Type_L1B'\")\n",
      "print('\\t=============================================================')\n",
      "print(\"\\tsub_attr=hdf5_obj['MODIS_SWATH_Type_L1B'].keys() \\n\\n\\t{}\".format(sub_attr))\n",
      "\n",
      "subsub_attr=hdf5_obj['MODIS_SWATH_Type_L1B']['Data Fields'].keys()\n",
      "print(\"\\n\\n\\t\\tSubsub-attributes in 'Data Fields'\")\n",
      "print('\\t\\t=============================================================')\n",
      "print(\"\\t\\tsubsub_attr=hdf5_obj['MODIS_SWATH_Type_L1B']['Data Fields'].keys() \\n\\n\\t\\t{}\".format(subsub_attr))"
     ],
     "language": "python",
     "metadata": {},
     "outputs": [],
     "prompt_number": ""
    },
    {
     "cell_type": "heading",
     "level": 3,
     "metadata": {},
     "source": [
      "Some external tools"
     ]
    },
    {
     "cell_type": "markdown",
     "metadata": {},
     "source": [
      "If you have tools like <a href='http://hdfeos.org/software/hdfexplorer.php'>HDF Explorer</a> or <a href='http://www.hdfgroup.org/products/java/hdfview/'>HDF Viewer</a>. You may have a more direct view of HDF's file structure.\n",
      "\n",
      "<img src=\"_figures/01_HDF_file_structure.PNG\" width=850 align=\"left\"/>"
     ]
    },
    {
     "cell_type": "heading",
     "level": 2,
     "metadata": {},
     "source": [
      "Read MODIS L1B channel-31 and channel-1 data"
     ]
    },
    {
     "cell_type": "heading",
     "level": 3,
     "metadata": {},
     "source": [
      "Read raw data"
     ]
    },
    {
     "cell_type": "markdown",
     "metadata": {},
     "source": [
      "Based on chapter <a href='#Structure-of-HDF-file'>3.B</a>, we read channe-31 and channel-1 data.\n",
      "\n",
      "* For channel-31, it is in `'EV_1KM_Emissive'` (from channel-20 to 36, 16 different channels)\n",
      "        'MODIS_SWATH_Type_L1B' '/' 'Data Fields' '/' 'EV_1KM_Emissive'\n",
      "* For channel-1, it is in `'EV_250_Aggr1km_RefSB'` (channel-1 and 2, 2 different channels)\n",
      "        'MODIS_SWATH_Type_L1B' '/' 'Data Fields' '/' 'EV_250_Aggr1km_RefSB'\n"
     ]
    },
    {
     "cell_type": "code",
     "collapsed": false,
     "input": [
      "# Channel-31\n",
      "L1B_emiss=hdf5_obj['MODIS_SWATH_Type_L1B']['Data Fields']['EV_1KM_Emissive'][:];\n",
      "print(\"Size of 'EV_1KM_Emissive':\\n===========================\\n{}\".format(L1B_emiss.shape))\n",
      "# Channel-1\n",
      "L1B_ref=hdf5_obj['MODIS_SWATH_Type_L1B']['Data Fields']['EV_250_Aggr1km_RefSB'][:];\n",
      "print(\"\\nSize of 'EV_500_Aggr1km_RefSB':\\n================================\\n{}\".format(L1B_ref.shape))"
     ],
     "language": "python",
     "metadata": {},
     "outputs": [],
     "prompt_number": ""
    },
    {
     "cell_type": "markdown",
     "metadata": {},
     "source": [
      "Here the file has a size of Channels \\* Longitude \\* Latitude."
     ]
    },
    {
     "cell_type": "heading",
     "level": 3,
     "metadata": {},
     "source": [
      "Select the channel"
     ]
    },
    {
     "cell_type": "markdown",
     "metadata": {},
     "source": [
      "The channel information of `'EV_1KM_Emissive'` and `'EV_500_Aggr1km_RefSB'` can be found in:\n",
      "\n",
      "        'MODIS_SWATH_Type_L1B' '/' 'Data Fields' '/' 'Band_1KM_Emissive'\n",
      "        'MODIS_SWATH_Type_L1B' '/' 'Data Fields' '/' 'Band_250M'"
     ]
    },
    {
     "cell_type": "code",
     "collapsed": false,
     "input": [
      "band_info=hdf5_obj['MODIS_SWATH_Type_L1B']['Data Fields']['Band_1KM_Emissive'][:]\n",
      "print('List of MODIS L1B Channels\\n=====================================\\n{}'.format(band_info))\n",
      "band_info=hdf5_obj['MODIS_SWATH_Type_L1B']['Data Fields']['Band_250M'][:]\n",
      "print('\\nList of MODIS L1B Channels\\n=====================================\\n{}'.format(band_info))"
     ],
     "language": "python",
     "metadata": {},
     "outputs": [],
     "prompt_number": ""
    },
    {
     "cell_type": "markdown",
     "metadata": {},
     "source": [
      "Then we can chose the channel we want:"
     ]
    },
    {
     "cell_type": "code",
     "collapsed": false,
     "input": [
      "C31=L1B_emiss[10, :, :]\n",
      "C1=L1B_ref[1, :, :]"
     ],
     "language": "python",
     "metadata": {},
     "outputs": [],
     "prompt_number": ""
    },
    {
     "cell_type": "heading",
     "level": 3,
     "metadata": {},
     "source": [
      "Scale factor and offset value"
     ]
    },
    {
     "cell_type": "markdown",
     "metadata": {},
     "source": [
      "Simply read raw data with channel is not enough, in order to maximum the precision, MODIS L1B data formed as\n",
      "\n",
      "$Data = (RawData - offset) \\times scale$\n",
      "\n",
      "this information is included in the attributes of each variable."
     ]
    },
    {
     "cell_type": "markdown",
     "metadata": {},
     "source": [
      "Here we use `obj[...].attrs.items()` to get all the attributes and see if we can find something interesting. "
     ]
    },
    {
     "cell_type": "code",
     "collapsed": false,
     "input": [
      "print('Channel-31 info\\n===============================================================')\n",
      "hdf5_obj['MODIS_SWATH_Type_L1B']['Data Fields']['EV_1KM_Emissive'].attrs.items()"
     ],
     "language": "python",
     "metadata": {},
     "outputs": [],
     "prompt_number": ""
    },
    {
     "cell_type": "markdown",
     "metadata": {},
     "source": [
      "Here **`radiance_scales`** and **`radiance_offsets`** are what we want. Number of channels can also be seen through `band_names`.\n",
      "\n",
      "We can use `a_list=obj[...].attrs.values()` to get these info."
     ]
    },
    {
     "cell_type": "code",
     "collapsed": false,
     "input": [
      "a_list=hdf5_obj['MODIS_SWATH_Type_L1B']['Data Fields']['EV_1KM_Emissive'].attrs.values()\n",
      "print(a_list)"
     ],
     "language": "python",
     "metadata": {},
     "outputs": [],
     "prompt_number": ""
    },
    {
     "cell_type": "markdown",
     "metadata": {},
     "source": [
      "**`radiance_scales`** and **`radiance_offsets`** are the 7th and 8th group of `a_list`, and channel-31 is the 11th element of the group."
     ]
    },
    {
     "cell_type": "code",
     "collapsed": false,
     "input": [
      "C31_scale=a_list[6][10]\n",
      "C31_offset=a_list[7][10]"
     ],
     "language": "python",
     "metadata": {},
     "outputs": [],
     "prompt_number": ""
    },
    {
     "cell_type": "markdown",
     "metadata": {},
     "source": [
      "We do the same thing for channel-1 data, but now we use `reflectance_scales`"
     ]
    },
    {
     "cell_type": "code",
     "collapsed": false,
     "input": [
      "C1_scale=hdf5_obj['MODIS_SWATH_Type_L1B']['Data Fields']['EV_250_Aggr1km_RefSB'].attrs.values()[9][0]\n",
      "C1_offset=hdf5_obj['MODIS_SWATH_Type_L1B']['Data Fields']['EV_250_Aggr1km_RefSB'].attrs.values()[10][0]\n",
      "#corrected_counts_scales=hdf5_obj['MODIS_SWATH_Type_L1B']['Data Fields']['EV_250_Aggr1km_RefSB'].attrs.values()[12][0]"
     ],
     "language": "python",
     "metadata": {},
     "outputs": [],
     "prompt_number": ""
    },
    {
     "cell_type": "markdown",
     "metadata": {},
     "source": [
      "Finally, we correct the data, `numpy.ones` is the same as `ones.m` in MATLAB."
     ]
    },
    {
     "cell_type": "code",
     "collapsed": false,
     "input": [
      "C31=(C31 - C31_offset * np.ones(C31.shape))*C31_scale\n",
      "C1=(C1 - C1_offset * np.ones(C1.shape))*C1_scale"
     ],
     "language": "python",
     "metadata": {},
     "outputs": [],
     "prompt_number": ""
    },
    {
     "cell_type": "markdown",
     "metadata": {},
     "source": [
      "Print the maximum data and see if it is reasonable."
     ]
    },
    {
     "cell_type": "code",
     "collapsed": false,
     "input": [
      "np.max(C1)"
     ],
     "language": "python",
     "metadata": {},
     "outputs": [],
     "prompt_number": ""
    },
    {
     "cell_type": "heading",
     "level": 2,
     "metadata": {},
     "source": [
      "Geolocation field"
     ]
    },
    {
     "cell_type": "markdown",
     "metadata": {},
     "source": [
      "For the geolocation field, we do not using `'Geolocation Fields'` in `MYD021KM*.h5` file because `'EV_1KM_Emissive'` and `'EV_250_Aggr1km_RefSB'`as a resolution of **250m**, but the resolution of latitude and longitude in `'Geolocation Fields'` is **1km**."
     ]
    },
    {
     "cell_type": "markdown",
     "metadata": {},
     "source": [
      "We use the `'Geolocation Field'` in `MYD03*.h5`, they are in the following place:\n",
      "\n",
      "        'MODIS_Swath_Type_GEO' '/' 'Geolocation Fields' '/' 'Longitude'\n",
      "        'MODIS_Swath_Type_GEO' '/' 'Geolocation Fields' '/' 'Latitude'"
     ]
    },
    {
     "cell_type": "code",
     "collapsed": false,
     "input": [
      "C_x=geo_obj['MODIS_Swath_Type_GEO']['Geolocation Fields']['Longitude'][:]\n",
      "C_y=geo_obj['MODIS_Swath_Type_GEO']['Geolocation Fields']['Latitude'][:]\n",
      "print('===================================================')\n",
      "print('Size of Longitude: {}'.format(C_x.shape))\n",
      "print('Longitude Interval: {} ~ {}'.format(np.min(C_x), np.max(C_x)))\n",
      "print('===================================================')\n",
      "print('Size of Latitude: {}'.format(C_y.shape))\n",
      "print('Latitude Interval: {} ~ {}'.format(np.min(C_y), np.max(C_y)))"
     ],
     "language": "python",
     "metadata": {},
     "outputs": [],
     "prompt_number": ""
    },
    {
     "cell_type": "heading",
     "level": 1,
     "metadata": {},
     "source": [
      "Reproject MODIS L1B data to a regular grid"
     ]
    },
    {
     "cell_type": "markdown",
     "metadata": {},
     "source": [
      "Here we define function `reproj_L1B` to reproject data to a regular grid.\n",
      "\n",
      "*One can also use <a href='http://www.whrc.org/education/rwanda/pdf/Baccini_MRT.pdf'>MODIS Reprojection Tool</a> to do the work.*"
     ]
    },
    {
     "cell_type": "heading",
     "level": 2,
     "metadata": {},
     "source": [
      "Define function `reproj_L1B`"
     ]
    },
    {
     "cell_type": "markdown",
     "metadata": {},
     "source": [
      "We now using a function to represent the reprojection process as what have done on `satellite3.ipynb`. One thing a bit different is that we use\n",
      "```python\n",
      "numpy.searchsorted(b, a, 'right')\n",
      "```\n",
      "to replace\n",
      "```python\n",
      "numpy.digitize(a, b)\n",
      "```\n",
      "Because <a href='http://docs.scipy.org/doc/numpy/reference/generated/numpy.searchsorted.html'>`numpy.searchsorted`</a> use binary search but <a href='http://docs.scipy.org/doc/numpy/reference/generated/numpy.digitize.html'>`numpy.digitize`</a> based on linear search, the later could be slow when we have lots of data."
     ]
    },
    {
     "cell_type": "code",
     "collapsed": false,
     "input": [
      "def reproj_L1B(raw_data, raw_x, raw_y, xlim, ylim, res):\n",
      "    \n",
      "    '''\n",
      "    =========================================================================================\n",
      "    Reproject MODIS L1B file to a regular grid\n",
      "    -----------------------------------------------------------------------------------------\n",
      "    d_array, x_array, y_array, bin_count = reproj_L1B(raw_data, raw_x, raw_y, xlim, ylim, res)\n",
      "    -----------------------------------------------------------------------------------------\n",
      "    Input:\n",
      "            raw_data: L1B data, N*M 2-D array.\n",
      "            raw_x: longitude info. N*M 2-D array.\n",
      "            raw_y: latitude info. N*M 2-D array.\n",
      "            xlim: range of longitude, a list.\n",
      "            ylim: range of latitude, a list.\n",
      "            res: resolution, single value.\n",
      "    Output:\n",
      "            d_array: L1B reprojected data.\n",
      "            x_array: reprojected longitude.\n",
      "            y_array: reprojected latitude.\n",
      "            bin_count: how many raw data point included in a reprojected grid.\n",
      "    Note:\n",
      "            function do not performs well if \"res\" is larger than the resolution of input data.\n",
      "            size of \"raw_data\", \"raw_x\", \"raw_y\" must agree.\n",
      "    =========================================================================================\n",
      "    '''\n",
      "    import numpy as np\n",
      "    \n",
      "    x_bins=np.arange(xlim[0], xlim[1], res)\n",
      "    y_bins=np.arange(ylim[0], ylim[1], res)\n",
      "#    x_indices=np.digitize(raw_x.flat, x_bins)\n",
      "#    y_indices=np.digitize(raw_y.flat, y_bins)\n",
      "    x_indices=np.searchsorted(x_bins, raw_x.flat, 'right')\n",
      "    y_indices=np.searchsorted(y_bins, raw_y.flat, 'right')\n",
      "        \n",
      "    y_array=np.zeros([len(y_bins), len(x_bins)], dtype=np.float)\n",
      "    x_array=np.zeros([len(y_bins), len(x_bins)], dtype=np.float)\n",
      "    d_array=np.zeros([len(y_bins), len(x_bins)], dtype=np.float)\n",
      "    bin_count=np.zeros([len(y_bins), len(x_bins)], dtype=np.int)\n",
      "    \n",
      "    for n in range(len(y_indices)): #indices\n",
      "        bin_row=y_indices[n]-1 # '-1' is because we call 'right' in np.searchsorted.\n",
      "        bin_col=x_indices[n]-1\n",
      "        bin_count[bin_row, bin_col] += 1\n",
      "        x_array[bin_row, bin_col] += raw_x.flat[n]\n",
      "        y_array[bin_row, bin_col] += raw_y.flat[n]\n",
      "        d_array[bin_row, bin_col] += raw_data.flat[n]\n",
      "                   \n",
      "    for i in range(x_array.shape[0]):\n",
      "        for j in range(x_array.shape[1]):\n",
      "            if bin_count[i, j] > 0:\n",
      "                x_array[i, j]=x_array[i, j]/bin_count[i, j]\n",
      "                y_array[i, j]=y_array[i, j]/bin_count[i, j]\n",
      "                d_array[i, j]=d_array[i, j]/bin_count[i, j] \n",
      "            else:\n",
      "                d_array[i, j]=np.nan\n",
      "                x_array[i, j]=np.nan\n",
      "                y_array[i,j]=np.nan\n",
      "                \n",
      "    return d_array, x_array, y_array, bin_count"
     ],
     "language": "python",
     "metadata": {},
     "outputs": [],
     "prompt_number": ""
    },
    {
     "cell_type": "heading",
     "level": 2,
     "metadata": {},
     "source": [
      "Test if `reproj_L1B` works well"
     ]
    },
    {
     "cell_type": "markdown",
     "metadata": {},
     "source": [
      "Here we reproject channel-31 data to see if `reproj_L1B` works well."
     ]
    },
    {
     "cell_type": "code",
     "collapsed": false,
     "input": [
      "xlim=[np.min(C_x), np.max(C_x)]\n",
      "ylim=[np.min(C_y), np.max(C_y)]\n",
      "C31_grid, longitude, latitude, bin_count = reproj_L1B(C31, C_x, C_y, xlim, ylim, 0.1)"
     ],
     "language": "python",
     "metadata": {},
     "outputs": [],
     "prompt_number": ""
    },
    {
     "cell_type": "markdown",
     "metadata": {},
     "source": [
      "Mask NaN for plot, also make sure that the data is not too big to plot."
     ]
    },
    {
     "cell_type": "code",
     "collapsed": false,
     "input": [
      "C31_grid=np.ma.masked_where(np.isnan(C31_grid), C31_grid)\n",
      "bin_count=np.ma.masked_where(np.isnan(bin_count), bin_count)\n",
      "longitude=np.ma.masked_where(np.isnan(longitude), longitude)\n",
      "latitude=np.ma.masked_where(np.isnan(latitude), latitude)\n",
      "longitude.shape"
     ],
     "language": "python",
     "metadata": {},
     "outputs": [],
     "prompt_number": ""
    },
    {
     "cell_type": "markdown",
     "metadata": {},
     "source": [
      "Plot the result"
     ]
    },
    {
     "cell_type": "code",
     "collapsed": false,
     "input": [
      "fig=plt.figure(figsize=(10.5, 9.5))\n",
      "ax=plt.gca()\n",
      "ax.set_xlim(xlim[0], xlim[1])\n",
      "ax.set_ylim(ylim[0], ylim[1])\n",
      "image=ax.pcolormesh(longitude, latitude, C31_grid)\n",
      "#plt.colorbar(image)\n",
      "plt.show"
     ],
     "language": "python",
     "metadata": {},
     "outputs": [],
     "prompt_number": ""
    },
    {
     "cell_type": "heading",
     "level": 2,
     "metadata": {},
     "source": [
      "Convert channel-31 and channel-1 data"
     ]
    },
    {
     "cell_type": "markdown",
     "metadata": {},
     "source": [
      "***Be careful*** to chose `res` here, high resolution makes your computer slow. Also, it affects the result on <a href='#Create-2-D-Histgram-for-channel-31-and-channel-1-data'>2-D histgram</a> part."
     ]
    },
    {
     "cell_type": "code",
     "collapsed": false,
     "input": [
      "res=0.05;\n",
      "xlim=[np.min(C_x), np.max(C_x)]\n",
      "ylim=[np.min(C_y), np.max(C_y)]\n",
      "C31_grid, longitude, latitude, bin_count = reproj_L1B(C31, C_x, C_y, xlim, ylim, res)\n",
      "C1_grid, longitude, latitude, bin_count = reproj_L1B(C1, C_x, C_y, xlim, ylim, res)"
     ],
     "language": "python",
     "metadata": {},
     "outputs": [],
     "prompt_number": ""
    },
    {
     "cell_type": "heading",
     "level": 1,
     "metadata": {},
     "source": [
      "Identify cloud and ocean via 2-D histogram"
     ]
    },
    {
     "cell_type": "markdown",
     "metadata": {},
     "source": [
      "Histogram is some kind of a basic **<a href='http://en.wikipedia.org/wiki/Image_segmentation#Histogram-based_methods'>image segmentation</a> technique**. Here we apply 2-D histogram to distinguish clouds from ocean."
     ]
    },
    {
     "cell_type": "heading",
     "level": 2,
     "metadata": {},
     "source": [
      "How to use `numpy.histogram2d`"
     ]
    },
    {
     "cell_type": "markdown",
     "metadata": {},
     "source": [
      "<a href='http://docs.scipy.org/doc/numpy/reference/generated/numpy.histogram2d.html'>**`numpy.histogram2d`**</a> is the main function we used here to create a 2-D histgram, it partitions two 1-D array into two 1-D bin array, and returns 2-D counts in a combination of 2 bins, as well as the 2-D bin edges.\n",
      "\n",
      "The I/O format of `numpy.histogram2d` is not very clear, based on my understanding, a proper way is:\n",
      "```python\n",
      "H, y_edges, x_edges = np.histogram2d(y, x, bins=(y_bins, x_bins))\n",
      "X, Y = np.meshgrid(x_edges[:-1], y_edges[:-1]) # '-1' because number_bins=number_data-1\n",
      "```\n",
      "`numpy.histogram2d` is different from \n",
      "<a href='http://docs.scipy.org/doc/numpy/reference/generated/numpy.digitize.html'>**`numpy.digitize`**</a> what we used before. `numpy.digitize` do not returns counts in each bin and we have to do this in a for loop (as what we did in our function <a href='#Define-function-reproj_L1B'>reproj_L1B</a>).\n",
      "\n",
      "There is a counter part of `numpy.histogram2d` for 1-D histogram named \n",
      "<a href='http://docs.scipy.org/doc/numpy/reference/generated/numpy.histogram.html'>**`numpy.histogram2d`**</a>. One can also make histograms through <a href='http://matplotlib.org/api/pyplot_api.html'>**`pyplot.hist`**</a> and <a href='http://matplotlib.org/api/pyplot_api.html'>**`pyplot.hist2d`**</a>.\n",
      "\n",
      "\n",
      "*MATLAB users can use function <a href='http://www.mathworks.com/help/matlab/ref/histcounts.html'>**`histcounts.m`**</a> and \n",
      "<a href='http://www.mathworks.com/help/matlab/ref/histogram.html'>**`histogram.m`**</a> for 1-D histgram. There is no 2-D histgram function in MATLAB's official toolboxes, but one can find lots of them in MATLAB's file exchange center (e.g. \n",
      "<a href='http://www.mathworks.com/matlabcentral/fileexchange/45325-efficient-2d-histogram--no-toolboxes-needed'>here</a>).*"
     ]
    },
    {
     "cell_type": "heading",
     "level": 2,
     "metadata": {},
     "source": [
      "Create 2-D Histgram for channel-31 and channel-1 data"
     ]
    },
    {
     "cell_type": "markdown",
     "metadata": {},
     "source": [
      "Create bins for channel-31 and channel-1"
     ]
    },
    {
     "cell_type": "code",
     "collapsed": false,
     "input": [
      "# create bins for channel-31 \n",
      "C31_bins = 100\n",
      "C31_lim=[np.nanmin(C31_grid), np.nanmax(C31_grid)]\n",
      "C31_bins=np.linspace(C31_lim[0], C31_lim[1], C31_bins, dtype=np.float)\n",
      "# and channel-1\n",
      "C1_bins = 150 \n",
      "C1_lim=[np.nanmin(C1_grid), np.nanmax(C1_grid)]\n",
      "C1_bins=np.linspace(C1_lim[0], C1_lim[1], C1_bins, dtype=np.float)"
     ],
     "language": "python",
     "metadata": {},
     "outputs": [],
     "prompt_number": ""
    },
    {
     "cell_type": "markdown",
     "metadata": {},
     "source": [
      "Here, we define **channel-1** data on **x-axis** and call `np.histogram2d` as what's in <a href='#How-to-use-numpy.histogram2d'>above section</a> to get bin_count value `x_edges` and `y_edges`. Noted that masked NumPy array has no attribute `flat`."
     ]
    },
    {
     "cell_type": "code",
     "collapsed": false,
     "input": [
      "y=C31_grid.flat[:]; y_bins=C31_bins # x: C31\n",
      "x=C1_grid.flat[:]; x_bins=C1_bins # y: C1\n",
      "H, y_edges, x_edges = np.histogram2d(y, x, bins=(y_bins, x_bins))\n",
      "X, Y = np.meshgrid(x_edges[:-1], y_edges[:-1])"
     ],
     "language": "python",
     "metadata": {},
     "outputs": [],
     "prompt_number": ""
    },
    {
     "cell_type": "markdown",
     "metadata": {},
     "source": [
      "Then we make 2-D histgram to see the difference between clouds and ocean, the core idea is:\n",
      "```python\n",
      " # 2-D histgram\n",
      "ax.contourf(X, Y, H/np.max(H)) # use percentage, because H sensitive to resolution 'res' we used before.\n",
      "# try to distinguish clouds from ocean through linear function\n",
      "# x is channel-1\n",
      "axMain.plot(x, x*5.5+6.5*np.ones(x.shape))  \n",
      "``` \n",
      "        \n",
      "The rest are codes for figures and axises."
     ]
    },
    {
     "cell_type": "code",
     "collapsed": false,
     "input": [
      "# make_axes_locatable ---> for axis control\n",
      "from mpl_toolkits.axes_grid1 import make_axes_locatable\n",
      "# set axis\n",
      "left=0.1; width = 0.8; bottom=0.1; height = 0.65\n",
      "gap=0.02; hist_len=0.2; cbar_len=0.12\n",
      "# three boxes\n",
      "rect_main  = [left+hist_len+gap, bottom, width, height]\n",
      "rect_histx = [left+hist_len+gap, left+height+gap, width-cbar_len, hist_len]\n",
      "rect_histy = [left, bottom, hist_len, height]\n",
      "# clev\n",
      "#clevs=range(40, 281, 40)\n",
      "clevs=np.arange(3, 31, 3)\n",
      "CMap=plt.cm.PuBu\n",
      "CMap.set_over(CMap(np.arange(256))[-1, 0:3])\n",
      "CMap.set_under('w')\n",
      "#\n",
      "xlim_bin=[np.min(X), np.max(X)]\n",
      "ylim_bin=[np.min(Y), np.max(Y)]\n",
      "#\n",
      "# ========== figure ========== #\n",
      "fig=plt.figure(figsize=(9, 9))\n",
      "# ========== Main ========== #\n",
      "# axis\n",
      "axMain=plt.axes(rect_main)\n",
      "axMain.yaxis.tick_right()\n",
      "axMain.yaxis.set_label_position('right')\n",
      "axMain.set_xlim(xlim_bin)\n",
      "axMain.set_ylim(ylim_bin)\n",
      "axMain.set_xlabel('Channel-1', fontsize=12)\n",
      "axMain.set_ylabel('Channel-31', fontsize=12)\n",
      "axMain.set_title('2-D Histgram', fontsize=16, fontweight='bold', x=1.15, y=1.15)\n",
      "divider=make_axes_locatable(axMain)\n",
      "# grid and frame\n",
      "plt.grid() # grid on\n",
      "[i.set_linewidth(2) for i in axMain.spines.itervalues()] # a bold frame\n",
      "CS=axMain.contourf(X, Y, H/np.max(H)*100, clevs, cmap=CMap, extend='both') # 2-D histgram\n",
      "CAx=divider.append_axes('right', size='5%', pad=0.75)\n",
      "CBar=plt.colorbar(CS, cax=CAx)\n",
      "CBar.set_label('Percentage ( % )', fontsize=10)\n",
      "CBar.ax.tick_params(axis='y', length=22.5)\n",
      "# draw line\n",
      "axMain.plot(x_edges, x_edges*5.5+6.5*np.ones(x_edges.shape), \\\n",
      "            color='k', linestyle='--', linewidth=5)\n",
      "axMain.text(0.4, 6.25, 'Cloud', fontsize=16, fontweight='bold', \\\n",
      "                    ha='center', va='center', color='k')\n",
      "axMain.text(0.125, 8.0, 'Ocean', fontsize=16, fontweight='bold', \\\n",
      "                    ha='center', va='center', color='k')\n",
      "#\n",
      "# ========== Hist-x ========== #\n",
      "axHistx=plt.axes(rect_histx)\n",
      "axHistx.hist(x, bins=x_bins, color=[0.3, 0.6, 0.8])\n",
      "axHistx.set_xlim(xlim_bin)\n",
      "axHistx.axes.get_xaxis().set_visible(False)\n",
      "# scientific notation for x, y-axis\n",
      "plt.ticklabel_format(style='sci', axis='both', scilimits=(0,0))\n",
      "[i.set_linewidth(2) for i in axHistx.spines.itervalues()]\n",
      "#\n",
      "# ========== Hist-y ========== #\n",
      "axHisty = plt.axes(rect_histy)\n",
      "axHisty.hist(y, bins=y_bins, color=[0.3, 0.6, 0.8], orientation='horizontal')\n",
      "axHisty.set_ylim(ylim_bin)\n",
      "axHisty.invert_xaxis()\n",
      "axHisty.axes.get_yaxis().set_visible(False)\n",
      "plt.ticklabel_format(style='sci', axis='both', scilimits=(0,0))\n",
      "[i.set_linewidth(2) for i in axHisty.spines.itervalues()]\n",
      "# savefig\n",
      "plt.savefig('_figures/01_MODIS_L1B_histgram.png', dpi=450, facecolor='w', edgecolor='w',\n",
      "            orientation='portrait', papertype='a4', format='png',\n",
      "            transparent=True, bbox_inches='tight', pad_inches=0,\n",
      "            frameon=None)\n",
      "# show\n",
      "plt.show()"
     ],
     "language": "python",
     "metadata": {},
     "outputs": [],
     "prompt_number": ""
    },
    {
     "cell_type": "markdown",
     "metadata": {},
     "source": [
      "We can see that, there are generally two place where data points are very dense, one is typical ocean, one is typical cloud. \n",
      "\n",
      "One can set an arbitrary criteria to segment the image. An over strict criteria will wrongly eliminate the information of clouds, but a over loose one will view some of the ocean points as clouds. Here we use:\n",
      "\n",
      "$data\\left.\\right|_{Channel-31} < data\\left.\\right|_{Channel-1} \\times 5.5 + 6.5 $\n",
      "\n",
      "to identify clouds in all the data points.\n",
      "\n",
      "We repeat the line to all data points to make it clear."
     ]
    },
    {
     "cell_type": "code",
     "collapsed": false,
     "input": [
      "fig=plt.figure(figsize=(8, 8))\n",
      "ax=plt.gca()\n",
      "plt.grid()\n",
      "ax.set_xlim(xlim_bin[0], xlim_bin[1])\n",
      "ax.set_ylim(ylim_bin[0], ylim_bin[1])\n",
      "ax.set_xlabel('Channel-1', fontsize=12)\n",
      "ax.set_ylabel('Channel-31', fontsize=12)\n",
      "ax.plot(x, y, color=[0.5, 0.5, 0.5], marker='.', linestyle='None')\n",
      "ax.plot(x_edges, x_edges*5.5+6.5*np.ones(x_edges.shape), linestyle='--', color='k', linewidth=5)\n",
      "ax.text(0.4, 6.25, 'Cloud', fontsize=16, fontweight='bold', \\\n",
      "                    ha='center', va='center', color='k')\n",
      "ax.text(0.10725, 7.75, 'Ocean', fontsize=16, fontweight='bold', \\\n",
      "                    ha='center', va='center', color='k')\n",
      "plt.savefig('_figures/01_MODIS_L1B_Divide_Cloud_and_Ocean.png', dpi=450, facecolor='w', edgecolor='w',\n",
      "            orientation='portrait', papertype='a4', format='png',\n",
      "            transparent=True, bbox_inches='tight', pad_inches=0,\n",
      "            frameon=None)\n",
      "plt.show()"
     ],
     "language": "python",
     "metadata": {},
     "outputs": [],
     "prompt_number": ""
    },
    {
     "cell_type": "heading",
     "level": 2,
     "metadata": {},
     "source": [
      "Eliminate ocean points based on 2-D histgram"
     ]
    },
    {
     "cell_type": "markdown",
     "metadata": {},
     "source": [
      "We replace the ocean data point to NaN based on the criteria above.\n",
      "\n",
      "Using **`for`** loops and **`if`** command is a general way to do that, sometimes there will be more simple ways like:\n",
      "\n",
      "```python\n",
      "id=C1*5.5+6.5; C31[C31<id]=np.nan\n",
      "```"
     ]
    },
    {
     "cell_type": "code",
     "collapsed": false,
     "input": [
      "criteria_k=5.5 # less than\n",
      "cirteria_b=6.5\n",
      "C1_clouds=np.empty((C31_grid.shape[0], C31_grid.shape[1],))\n",
      "C1_clouds[:]=np.nan\n",
      "C31_clouds=np.empty((C31_grid.shape[0], C31_grid.shape[1],))\n",
      "C31_clouds[:]=np.nan\n",
      "for i in range(C31_grid.shape[0]):\n",
      "    for j in range(C31_grid.shape[1]):\n",
      "        if(C31_grid[i, j] < C1_grid[i, j]*0.3+cirteria_b):\n",
      "#            print(C31_grid[i, j])\n",
      "            C31_clouds[i, j]=C31_grid[i, j]\n",
      "            C1_clouds[i, j]=C1_grid[i, j]"
     ],
     "language": "python",
     "metadata": {},
     "outputs": [],
     "prompt_number": ""
    },
    {
     "cell_type": "heading",
     "level": 2,
     "metadata": {},
     "source": [
      "Test if the \"criteria\" works well "
     ]
    },
    {
     "cell_type": "markdown",
     "metadata": {},
     "source": [
      "Then we mask and plot `C31_clouds` to see if our criteria works well"
     ]
    },
    {
     "cell_type": "code",
     "collapsed": false,
     "input": [
      "C31_clouds_masked=np.ma.masked_where(np.isnan(C31_clouds), C31_clouds)\n",
      "fig=plt.figure(figsize=(10.5, 9.5))\n",
      "ax=plt.gca()\n",
      "ax.set_xlim(xlim[0], xlim[1])\n",
      "ax.set_ylim(ylim[0], ylim[1])\n",
      "image=ax.pcolormesh(longitude, latitude, C31_clouds_masked)\n",
      "#plt.colorbar(image)\n",
      "plt.show"
     ],
     "language": "python",
     "metadata": {},
     "outputs": [],
     "prompt_number": ""
    },
    {
     "cell_type": "heading",
     "level": 1,
     "metadata": {},
     "source": [
      "Calculate brightness temperature on the top of the clouds "
     ]
    },
    {
     "cell_type": "markdown",
     "metadata": {},
     "source": [
      "We use `planckInvert` function as what we have done on `satellite3.ipynb` to get the brightness temperature at the center of channel-31 (11.02 $\\mu m$)."
     ]
    },
    {
     "cell_type": "code",
     "collapsed": false,
     "input": [
      "def planckInvert(wavel,Llambda):\n",
      "    \"\"\"input wavelength in microns and Llambda in W/m^2/micron/sr, output\n",
      "    output brightness temperature in K  (note that we've remove the factor\n",
      "    of pi because we are working with radiances, not fluxes)\n",
      "    \"\"\"\n",
      "    c=2.99792458e+08  #m/s -- speed of light in vacumn\n",
      "    h=6.62606876e-34  #J s  -- Planck's constant\n",
      "    kb=1.3806503e-23  # J/K  -- Boltzman's constant\n",
      "    c1=2.*h*c**2.\n",
      "    c2=h*c/kb\n",
      "\n",
      "    Llambda=Llambda*1.e6  #convert to W/m^2/m/sr\n",
      "    wavel=wavel*1.e-6  #convert wavelength to m\n",
      "    Tbright=c2/(wavel*np.log(c1/(wavel**5.*Llambda) + 1.))\n",
      "    \n",
      "    return Tbright"
     ],
     "language": "python",
     "metadata": {
      "slideshow": {
       "slide_type": "-"
      }
     },
     "outputs": [],
     "prompt_number": ""
    },
    {
     "cell_type": "code",
     "collapsed": false,
     "input": [
      "cloud_Tbright=planckInvert(11.02, C31_clouds)"
     ],
     "language": "python",
     "metadata": {},
     "outputs": [],
     "prompt_number": ""
    },
    {
     "cell_type": "markdown",
     "metadata": {},
     "source": [
      "Print the maximum and see if it is reasonable."
     ]
    },
    {
     "cell_type": "code",
     "collapsed": false,
     "input": [
      "np.nanmax(cloud_Tbright)\n",
      "np.nanmin(cloud_Tbright)"
     ],
     "language": "python",
     "metadata": {},
     "outputs": [],
     "prompt_number": ""
    },
    {
     "cell_type": "heading",
     "level": 2,
     "metadata": {},
     "source": [
      "Save the output as *.mat"
     ]
    },
    {
     "cell_type": "markdown",
     "metadata": {},
     "source": [
      "We use \\*.mat as the output data format. "
     ]
    },
    {
     "cell_type": "code",
     "collapsed": false,
     "input": [
      "import scipy.io\n",
      "# save as *.mat\n",
      "scipy.io.savemat('_share/01_MODIS_L1B_TBright', {'longitude': longitude, 'latitude': latitude, 'cloud_Tbright': cloud_Tbright})"
     ],
     "language": "python",
     "metadata": {},
     "outputs": [],
     "prompt_number": ""
    },
    {
     "cell_type": "heading",
     "level": 1,
     "metadata": {},
     "source": [
      "Plot `cloud_TBright` in `mpl_toolkits.basemap`"
     ]
    },
    {
     "cell_type": "markdown",
     "metadata": {},
     "source": [
      "Here we use `mpl_toolkits.basemap` to Visualize the result. "
     ]
    },
    {
     "cell_type": "code",
     "collapsed": false,
     "input": [
      "# mask the result\n",
      "cloud_Tbright_masked=np.ma.masked_where(np.isnan(cloud_Tbright), cloud_Tbright)"
     ],
     "language": "python",
     "metadata": {},
     "outputs": [],
     "prompt_number": ""
    },
    {
     "cell_type": "code",
     "collapsed": false,
     "input": [
      "from mpl_toolkits.basemap import Basemap"
     ],
     "language": "python",
     "metadata": {
      "slideshow": {
       "slide_type": "-"
      }
     },
     "outputs": [],
     "prompt_number": ""
    },
    {
     "cell_type": "code",
     "collapsed": false,
     "input": [
      "lonlim=xlim\n",
      "latlim=ylim\n",
      "vancity_lat=49.25\n",
      "vancity_lon=-123.1\n",
      "# Colormap\n",
      "CMap=plt.cm.hot_r#gist_heat # hot, afmhot, gnuplot\n",
      "#\n",
      "proj=Basemap(resolution='l', projection='lcc', \\\n",
      "            lat_1=30, lat_2=60, lat_0=45, lon_0=-140, \\\n",
      "            llcrnrlon=-155, llcrnrlat=30, \\\n",
      "            urcrnrlon=-110, urcrnrlat=56)\n",
      "# create figure, add axes\n",
      "fig=plt.figure(figsize=(12, 12))\n",
      "ax=plt.gca()\n",
      "## parallels and meridians.\n",
      "parallels=np.arange(-90, 90, 5)\n",
      "meridians=np.arange(0, 360, 5)\n",
      "proj.drawparallels(parallels, labels=[1, 0, 0, 0],\\\n",
      "                  fontsize=10, latmax=90)\n",
      "proj.drawmeridians(meridians, labels=[0, 0, 0, 1],\\\n",
      "                  fontsize=10, latmax=90)\n",
      "# mask ocean/land to distinguish clouds \n",
      "proj.drawlsmask(land_color=[0.925, 0.875, 0.375], ocean_color=[0.375, 0.5, 0.75], \\\n",
      "                lakes=False, resolution='l')\n",
      "# draw coast \n",
      "proj.drawcoastlines(linewidth=1.5, linestyle='solid', color=[0.25, 0.25, 0.25])\n",
      "# compute native x,y coordinates of grid.\n",
      "x, y=proj(longitude, latitude)\n",
      "x_van, y_van=proj(vancity_lon, vancity_lat)\n",
      "x_text, y_text=proj(vancity_lon+4.5, vancity_lat-0.25)\n",
      "# pcolor plot\n",
      "CS=proj.pcolor(x, y, cloud_Tbright_masked, cmap=CMap, vmin=210, vmax=275)\n",
      "# colorbar\n",
      "CBar=proj.colorbar(CS, 'right', size='5%', pad='5%')\n",
      "CBar.set_label('Brightness Temperature ( K )', fontsize=12, fontweight='bold')\n",
      "CBar.ax.tick_params(axis='y', length=0)\n",
      "#CBar.ax.invert_yaxis() \n",
      "# Vancouver\n",
      "proj.plot(x_van, y_van, marker='o', markersize=18, mfc='k', mec='k')\n",
      "plt.text(x_text, y_text, 'Vancouver', fontsize=16, fontweight='bold',\n",
      "                    ha='center', va='center', color='k')\n",
      "# title\n",
      "ax.set_title('Brightness Temperature\\nMYD021KM.A2006303.2220 channel-31 ',\\\n",
      "             fontweight='bold', fontsize=14)\n",
      "# Save figure\n",
      "plt.savefig('_figures/01_MODIS_L1B_TBright.png', dpi=450, facecolor='w', edgecolor='w',\n",
      "            orientation='portrait', papertype='a4', format='png',\n",
      "            transparent=True, bbox_inches='tight', pad_inches=0,\n",
      "            frameon=None)\n",
      "# Show\n",
      "plt.show()"
     ],
     "language": "python",
     "metadata": {},
     "outputs": [],
     "prompt_number": ""
    },
    {
     "cell_type": "markdown",
     "metadata": {},
     "source": [
      "What we can find on <a href='http://modis-atmos.gsfc.nasa.gov/IMAGES/'>MODIS L1B Image Galary</a> : \n",
      "\n",
      "<img src=\"_figures/01_MODIS_L1B_Image.303.2220.rgb143.jpg\" width=650 align=\"left\"/>"
     ]
    },
    {
     "cell_type": "code",
     "collapsed": false,
     "input": [],
     "language": "python",
     "metadata": {},
     "outputs": [],
     "prompt_number": ""
    }
   ],
   "metadata": {}
  }
 ]
}