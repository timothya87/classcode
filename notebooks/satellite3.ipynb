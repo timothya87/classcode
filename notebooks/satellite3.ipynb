{
 "metadata": {
  "name": "",
  "signature": "sha256:b3739bb7ac1d88cf0ded237ca7952b54b183ffe9cee72b60f14eb91419bb263c"
 },
 "nbformat": 3,
 "nbformat_minor": 0,
 "worksheets": [
  {
   "cells": [
    {
     "cell_type": "heading",
     "level": 2,
     "metadata": {},
     "source": [
      "Reading MODIS level 1b data in netcdf format"
     ]
    },
    {
     "cell_type": "markdown",
     "metadata": {},
     "source": [
      "Here is a walkthrough of how to read metadata and data from a level1b file.  I've used the the converter I downloaded from\n",
      "[this link](hdfeos.org/software/library.php#H4CF Conversion Library) to produce the Aqua granule netcdf file in this download directory: http://clouds.eos.ubc.ca/~phil/Downloads/a301/MYD021KM.A2005188.0405.005.2009232180906.nc (right click to save to your local drive)"
     ]
    },
    {
     "cell_type": "markdown",
     "metadata": {},
     "source": [
      "I'm going to use http://unidata.github.io/netcdf4-python/ and two new modules (modismeta.py and netcdflib.py) to read the granule"
     ]
    },
    {
     "cell_type": "code",
     "collapsed": false,
     "input": [
      "from __future__ import print_function\n",
      "from __future__ import division\n",
      "import os,site\n",
      "currdir=os.getcwd()\n",
      "head,tail=os.path.split(currdir)\n",
      "libdir=os.path.join(head,'lib')\n",
      "site.addsitedir(libdir)\n",
      "from modismeta import parseMeta\n",
      "from netcdflib import ncdump\n",
      "import glob\n",
      "from netCDF4 import Dataset"
     ],
     "language": "python",
     "metadata": {},
     "outputs": [],
     "prompt_number": ""
    },
    {
     "cell_type": "markdown",
     "metadata": {},
     "source": [
      "the glob function finds a file using a wildcard to save typing (google: python glob wildcard)"
     ]
    },
    {
     "cell_type": "code",
     "collapsed": false,
     "input": [
      "nc_filename=glob.glob('*.nc')\n",
      "print(\"found {}\".format(nc_filename))"
     ],
     "language": "python",
     "metadata": {},
     "outputs": [],
     "prompt_number": ""
    },
    {
     "cell_type": "code",
     "collapsed": false,
     "input": [
      "nc_file=Dataset(nc_filename[0])"
     ],
     "language": "python",
     "metadata": {},
     "outputs": [],
     "prompt_number": ""
    },
    {
     "cell_type": "markdown",
     "metadata": {},
     "source": [
      "netcdf files have attributes"
     ]
    },
    {
     "cell_type": "code",
     "collapsed": false,
     "input": [
      "print(nc_file.ncattrs())"
     ],
     "language": "python",
     "metadata": {},
     "outputs": [],
     "prompt_number": ""
    },
    {
     "cell_type": "code",
     "collapsed": false,
     "input": [
      "print(nc_file.Earth_Sun_Distance)"
     ],
     "language": "python",
     "metadata": {},
     "outputs": [],
     "prompt_number": ""
    },
    {
     "cell_type": "code",
     "collapsed": false,
     "input": [
      "print(nc_file.HDFEOSVersion)"
     ],
     "language": "python",
     "metadata": {},
     "outputs": [],
     "prompt_number": ""
    },
    {
     "cell_type": "markdown",
     "metadata": {},
     "source": [
      "netcdf files have variables -- stored in a dictionary"
     ]
    },
    {
     "cell_type": "code",
     "collapsed": false,
     "input": [
      "#print(nc_file.variables.keys())"
     ],
     "language": "python",
     "metadata": {},
     "outputs": [],
     "prompt_number": ""
    },
    {
     "cell_type": "code",
     "collapsed": false,
     "input": [
      "the_long=nc_file.variables['longitude']\n",
      "the_lat=nc_file.variables['latitude']"
     ],
     "language": "python",
     "metadata": {},
     "outputs": [],
     "prompt_number": ""
    },
    {
     "cell_type": "markdown",
     "metadata": {},
     "source": [
      "the following cell shows how to write code out to a file"
     ]
    },
    {
     "cell_type": "markdown",
     "metadata": {},
     "source": [
      "%%file snippet.py\n",
      "size=100\n",
      "lat_data=the_lat[:10,:10]\n",
      "long_data=the_long[:10,:10]"
     ]
    },
    {
     "cell_type": "markdown",
     "metadata": {},
     "source": [
      "the following cell shows how to read code into a cell"
     ]
    },
    {
     "cell_type": "markdown",
     "metadata": {},
     "source": [
      "%load snippet.py"
     ]
    },
    {
     "cell_type": "heading",
     "level": 2,
     "metadata": {},
     "source": [
      "Get 100 x 100 slice of lats and lons"
     ]
    },
    {
     "cell_type": "code",
     "collapsed": false,
     "input": [
      "size=100\n",
      "lat_data=the_lat[:size,:size]\n",
      "lon_data=the_long[:size,:size]\n"
     ],
     "language": "python",
     "metadata": {},
     "outputs": [],
     "prompt_number": ""
    },
    {
     "cell_type": "heading",
     "level": 2,
     "metadata": {},
     "source": [
      "Plot some lat/lon pairs"
     ]
    },
    {
     "cell_type": "code",
     "collapsed": false,
     "input": [
      "%matplotlib inline"
     ],
     "language": "python",
     "metadata": {},
     "outputs": [],
     "prompt_number": ""
    },
    {
     "cell_type": "code",
     "collapsed": false,
     "input": [
      "fig=plt.figure(1,figsize=(9,9))\n",
      "plt.clf()\n",
      "ax1=fig.add_subplot(1,1,1)\n",
      "the_points=ax1.plot(lon_data,lat_data,'r+')\n",
      "ylim=(22.4,23.8)\n",
      "xlim=(146.,150.)\n",
      "ax1.set_xlim(xlim)\n",
      "ax1.set_ylim(ylim)"
     ],
     "language": "python",
     "metadata": {},
     "outputs": [],
     "prompt_number": ""
    },
    {
     "cell_type": "code",
     "collapsed": false,
     "input": [
      "lon_bins=np.arange(xlim[0],xlim[1],0.05)\n",
      "lat_bins=np.arange(ylim[0],ylim[1],0.05)\n",
      "lon_indices=np.digitize(lon_data.flat,lon_bins)\n",
      "lat_indices=np.digitize(lat_data.flat,lat_bins)"
     ],
     "language": "python",
     "metadata": {},
     "outputs": [],
     "prompt_number": ""
    },
    {
     "cell_type": "code",
     "collapsed": false,
     "input": [
      "lon_bins.shape"
     ],
     "language": "python",
     "metadata": {},
     "outputs": [],
     "prompt_number": ""
    },
    {
     "cell_type": "code",
     "collapsed": false,
     "input": [
      "lon_indices\n",
      "lat_indices"
     ],
     "language": "python",
     "metadata": {},
     "outputs": [],
     "prompt_number": ""
    },
    {
     "cell_type": "heading",
     "level": 2,
     "metadata": {},
     "source": [
      "Working with a partner, make a copy of this notebook and add comments that explain what this code is doing and why.  Upload you notebook with this commented cell to connect "
     ]
    },
    {
     "cell_type": "code",
     "collapsed": false,
     "input": [
      "lat_array=np.zeros([len(lat_bins),len(lon_bins)],dtype=np.float)\n",
      "bin_count=np.zeros([len(lat_bins),len(lon_bins)],dtype=np.int)\n",
      "lon_array=np.zeros([len(lat_bins),len(lon_bins)],dtype=np.float)\n",
      "\n",
      "for point_num in range(len(lat_indices)):\n",
      "    bin_row=lat_indices[point_num]\n",
      "    bin_col=lon_indices[point_num]   \n",
      "    lat_array[bin_row,bin_col]=lat_array[bin_row,bin_col] + lat_data.flat[point_num]\n",
      "    lon_array[bin_row,bin_col]+=lon_data.flat[point_num]\n",
      "    bin_count[bin_row,bin_col]+=1\n",
      "    \n",
      "for i in range(lon_array.shape[0]):\n",
      "    for j in range(lon_array.shape[1]):\n",
      "        if bin_count[i,j] > 0:\n",
      "            lat_array[i,j]=lat_array[i,j]/bin_count[i,j]\n",
      "            lon_array[i,j]=lon_array[i,j]/bin_count[i,j]\n",
      "        else:\n",
      "            lat_array[i,j]=np.nan\n",
      "            lon_array[i,j]=np.nan"
     ],
     "language": "python",
     "metadata": {},
     "outputs": [],
     "prompt_number": ""
    },
    {
     "cell_type": "heading",
     "level": 2,
     "metadata": {},
     "source": [
      "Mask out the nans using a numpy [masked array](http://docs.scipy.org/doc/numpy/reference/maskedarray.generic.html)"
     ]
    },
    {
     "cell_type": "code",
     "collapsed": false,
     "input": [
      "import numpy.ma as ma\n",
      "lat_m= ma.masked_where(np.isnan(lat_array),lat_array)\n",
      "help(ma.masked_where)"
     ],
     "language": "python",
     "metadata": {},
     "outputs": [],
     "prompt_number": ""
    },
    {
     "cell_type": "heading",
     "level": 2,
     "metadata": {},
     "source": [
      "Plot these arrays to see if they make sense using [pcolormesh](http://matplotlib.org/examples/pylab_examples/pcolor_demo.html)"
     ]
    },
    {
     "cell_type": "code",
     "collapsed": false,
     "input": [
      "from matplotlib import pyplot as plt\n",
      "fig=plt.figure(1,figsize=(9,9))\n",
      "plt.clf()\n",
      "ax1=fig.add_subplot(1,1,1)\n",
      "ax1.set_title('binned latitude')\n",
      "image=ax1.pcolormesh(lon_bins,lat_bins,lat_m)\n",
      "plt.colorbar(image)"
     ],
     "language": "python",
     "metadata": {},
     "outputs": [],
     "prompt_number": ""
    },
    {
     "cell_type": "code",
     "collapsed": false,
     "input": [
      "lon_m= ma.masked_where(np.isnan(lon_array),lon_array)\n",
      "fig=plt.figure(2,figsize=(9,9))\n",
      "plt.clf()\n",
      "ax1=fig.add_subplot(1,1,1)\n",
      "ax1.set_title('binned longitude')\n",
      "image=ax1.pcolormesh(lon_bins,lat_bins,lon_m)\n",
      "plt.colorbar(image)"
     ],
     "language": "python",
     "metadata": {},
     "outputs": [],
     "prompt_number": ""
    },
    {
     "cell_type": "code",
     "collapsed": false,
     "input": [
      "fig=plt.figure(3,figsize=(9,9))\n",
      "plt.clf()\n",
      "ax1=fig.add_subplot(1,1,1)\n",
      "ax1.set_title('counts in each grid cell')\n",
      "image=ax1.pcolormesh(lon_bins,lat_bins,bin_count)\n",
      "plt.colorbar(image)"
     ],
     "language": "python",
     "metadata": {},
     "outputs": [],
     "prompt_number": ""
    },
    {
     "cell_type": "heading",
     "level": 2,
     "metadata": {},
     "source": [
      "Now get data from Channel 31  (see modis level1b manual page 22.)"
     ]
    },
    {
     "cell_type": "code",
     "collapsed": false,
     "input": [
      "longwave=nc_file.variables['EV_1KM_Emissive']\n",
      "longwave.ncattrs()\n"
     ],
     "language": "python",
     "metadata": {},
     "outputs": [],
     "prompt_number": ""
    },
    {
     "cell_type": "code",
     "collapsed": false,
     "input": [
      "band_names=longwave.band_names"
     ],
     "language": "python",
     "metadata": {},
     "outputs": [],
     "prompt_number": ""
    },
    {
     "cell_type": "heading",
     "level": 2,
     "metadata": {},
     "source": [
      "We want channel 31, which is centered at 11.02 $\\mu m$ as describe in this list of [MODIS wavelengths](http://gis.cri.fmach.it/modis-sensor/)"
     ]
    },
    {
     "cell_type": "code",
     "collapsed": false,
     "input": [
      "band_names=band_names.split(',')\n",
      "index31=band_names.index('31')"
     ],
     "language": "python",
     "metadata": {},
     "outputs": [],
     "prompt_number": ""
    },
    {
     "cell_type": "code",
     "collapsed": false,
     "input": [
      "index31"
     ],
     "language": "python",
     "metadata": {},
     "outputs": [],
     "prompt_number": ""
    },
    {
     "cell_type": "heading",
     "level": 2,
     "metadata": {},
     "source": [
      "Note that the [netCDF4 module](http://netcdf4-python.googlecode.com/svn/trunk/docs/netCDF4-module.html) automatically finds the scale and offset attributes for the longwave netcdf variable and applies them to the 16 bit integer values, converting them to radiances as described in the modis level 1b manual on page 12.  See the documentation for\n",
      "[set_auto_maskandscale](http://netcdf4-python.googlecode.com/svn/trunk/docs/netCDF4.Variable-class.html#set_auto_maskandscale)"
     ]
    },
    {
     "cell_type": "code",
     "collapsed": false,
     "input": [
      "sat_data=longwave[index31,:size,:size]"
     ],
     "language": "python",
     "metadata": {},
     "outputs": [],
     "prompt_number": ""
    },
    {
     "cell_type": "heading",
     "level": 2,
     "metadata": {},
     "source": [
      "For Wednesday, use planck_inverse to calculate brightness temperatures a 100 x 100 pixel section of your Channel 31 image\n",
      "and bin the brightness temperatures into a regular 0.05 x 0.05 degree bin"
     ]
    },
    {
     "cell_type": "code",
     "collapsed": false,
     "input": [
      "sat_array=np.zeros([len(lat_bins),len(lon_bins)],dtype=np.float)\n",
      "\n",
      "for point_num in range(len(lat_indices)):\n",
      "    bin_row=lat_indices[point_num]\n",
      "    bin_col=lon_indices[point_num]   \n",
      "    sat_array[bin_row,bin_col]=sat_array[bin_row,bin_col] + sat_data.flat[point_num]\n",
      "\n",
      "for i in range(lon_array.shape[0]):\n",
      "    for j in range(lon_array.shape[1]):\n",
      "        if bin_count[i,j] > 0:\n",
      "            sat_array[i,j]=sat_array[i,j]/bin_count[i,j]\n",
      "        else:\n",
      "            sat_array[i,j]=np.nan"
     ],
     "language": "python",
     "metadata": {},
     "outputs": [],
     "prompt_number": ""
    },
    {
     "cell_type": "code",
     "collapsed": false,
     "input": [
      "sat_m= ma.masked_where(np.isnan(sat_array),sat_array)\n",
      "fig=plt.figure(4,figsize=(9,9))\n",
      "plt.clf()\n",
      "ax1=fig.add_subplot(1,1,1)\n",
      "ax1.set_title('channel 31 radiance (W/m^2/micron/sr)')\n",
      "image=ax1.pcolormesh(lon_bins,lat_bins,sat_m)\n",
      "plt.colorbar(image)"
     ],
     "language": "python",
     "metadata": {},
     "outputs": [],
     "prompt_number": ""
    },
    {
     "cell_type": "code",
     "collapsed": false,
     "input": [
      "c=2.99792458e+08  #m/s -- speed of light in vacumn\n",
      "h=6.62606876e-34  #J s  -- Planck's constant\n",
      "kb=1.3806503e-23  # J/K  -- Boltzman's constant\n",
      "c1=2.*h*c**2.\n",
      "c2=h*c/kb\n",
      "\n",
      "def planckInvert(wavel,Llambda):\n",
      "    \"\"\"input wavelength in microns and Llambda in W/m^2/micron/sr, output\n",
      "    output brightness temperature in K  (note that we've remove the factor\n",
      "    of pi because we are working with radiances, not fluxes)\n",
      "    \"\"\"\n",
      "    Llambda=Llambda*1.e6  #convert to W/m^2/m/sr\n",
      "    wavel=wavel*1.e-6  #convert wavelength to m\n",
      "    Tbright=c2/(wavel*np.log(c1/(wavel**5.*Llambda) + 1.))\n",
      "    return Tbright"
     ],
     "language": "python",
     "metadata": {},
     "outputs": []
    },
    {
     "cell_type": "heading",
     "level": 2,
     "metadata": {},
     "source": [
      "Now use our planckInvert function to get the brightness temperature at the center of Channel 31 (11.02 $\\mu m$)"
     ]
    },
    {
     "cell_type": "code",
     "collapsed": false,
     "input": [
      "sat_bright=planckInvert(11.02,sat_array)"
     ],
     "language": "python",
     "metadata": {},
     "outputs": [],
     "prompt_number": ""
    },
    {
     "cell_type": "code",
     "collapsed": false,
     "input": [
      "bright_m= ma.masked_where(np.isnan(sat_bright),sat_bright)\n",
      "fig=plt.figure(5,figsize=(9,9))\n",
      "plt.clf()\n",
      "ax1=fig.add_subplot(1,1,1)\n",
      "ax1.set_title('channel 31 brightness temperatures (K)')\n",
      "image=ax1.pcolormesh(lon_bins,lat_bins,bright_m)\n",
      "plt.colorbar(image)"
     ],
     "language": "python",
     "metadata": {},
     "outputs": [],
     "prompt_number": ""
    },
    {
     "cell_type": "heading",
     "level": 2,
     "metadata": {},
     "source": [
      "For Friday, make a gridded image of your scene's Channel 1 reflectance and compare it to the thumbnail image that is on the Laadsweb site.  Make your grid large enough so you can identify or land features (say 500 km x 500 km).  Channel 1 is stored in the EV_250_Aggr1km_RefSB variable."
     ]
    },
    {
     "cell_type": "code",
     "collapsed": false,
     "input": [],
     "language": "python",
     "metadata": {},
     "outputs": []
    }
   ],
   "metadata": {}
  }
 ]
}