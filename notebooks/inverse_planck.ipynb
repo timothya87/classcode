{
 "metadata": {
  "name": "day7_notebook"
 },
 "nbformat": 3,
 "nbformat_minor": 0,
 "worksheets": [
  {
   "cells": [
    {
     "cell_type": "markdown",
     "metadata": {},
     "source": [
      "Upload your edited notebook to connect before 10am Wednesday"
     ]
    },
    {
     "cell_type": "markdown",
     "metadata": {},
     "source": [
      "Recall the Planck function from the Stefan-Boltzman notebook:\n",
      "\n",
      "$E_\\lambda* =\\pi \\frac{2 hc^2}{\\lambda^5}\\frac{1}{ e^{\\frac{hc}{\\lambda kT}}-1}$\n",
      "\n",
      "where\n",
      "\n",
      "$h$=Planck's constant ($6.63 \\times 10^{-34}$ Joule seconds})\n",
      "\n",
      "$c$= Speed of light in a vacuum ($3.00 \\times 10^{8}\\ \\mathrm{meters/second}$)\n",
      "\n",
      "$k_b$ =Boltzman's  constant ($1.38 \\times 10^{-23}\\ \\mathrm{Joules/Kelvin}$)\n",
      "\n",
      "With this Python function that returns $E_\\lambda^*$ given $\\lambda$ and temperature:"
     ]
    },
    {
     "cell_type": "code",
     "collapsed": false,
     "input": [
      "c=2.99792458e+08  #m/s -- speed of light in vacumn\n",
      "h=6.62606876e-34  #J s  -- Planck's constant\n",
      "kb=1.3806503e-23  # J/K  -- Boltzman's constant\n",
      "\n",
      "def planckwavelen(wavel,Temp):\n",
      "    \"\"\"input wavelength in microns and Temp in K, output\n",
      "    bbr in W/m^2/micron\n",
      "    \"\"\"\n",
      "    wavel=wavel*1.e-6  #convert to meters\n",
      "    c1=2.*h*c**2.\n",
      "    c2=h*c/kb\n",
      "    Elambda=1.e-6*pi*c1/(wavel**5.*(np.exp(c2/(wavel*Temp)) -1))\n",
      "    return Elambda\n"
     ],
     "language": "python",
     "metadata": {},
     "outputs": [],
     "prompt_number": ""
    },
    {
     "cell_type": "markdown",
     "metadata": {},
     "source": [
      "In the cell below, write a new function, called planckInvert, that takes (wavel,Elambda) and returns\n",
      "a temperature.  That is, use algebra to turn planckwavelen inside out so it returns the temperature that a blackbody must have to emit flux Elambda"
     ]
    },
    {
     "cell_type": "code",
     "collapsed": false,
     "input": [],
     "language": "python",
     "metadata": {},
     "outputs": []
    },
    {
     "cell_type": "markdown",
     "metadata": {},
     "source": [
      "show that planckInvert is correct by doing a \"round trip\" test.  That is, in the cell below,\n",
      "find Elambda=planckInvert(wavel,Temp) for Temp=300 K and wavel=10 microns.  Then print\n",
      "planckInvert(wavel,Elambda) and show that it gives 300 K."
     ]
    },
    {
     "cell_type": "code",
     "collapsed": false,
     "input": [],
     "language": "python",
     "metadata": {},
     "outputs": []
    }
   ],
   "metadata": {}
  }
 ]
}