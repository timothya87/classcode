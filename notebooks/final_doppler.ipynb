{
 "metadata": {
  "name": "",
  "signature": "sha256:250219d181c6092c6023ee1dceeaa04ee96a438d4742c3849cb7279a60e751e0"
 },
 "nbformat": 3,
 "nbformat_minor": 0,
 "worksheets": [
  {
   "cells": [
    {
     "cell_type": "code",
     "collapsed": false,
     "input": [
      "from __future__ import print_function\n",
      "from IPython.display import Image\n",
      "import numpy as np\n",
      "Image('../data/radar.png')"
     ],
     "language": "python",
     "metadata": {},
     "outputs": [],
     "prompt_number": ""
    },
    {
     "cell_type": "markdown",
     "metadata": {},
     "source": [
      "a)  The attached color Doppler image shows a velocity pattern\n",
      "    measured by Doppler radar with a wavelength of $\\lambda=10$ cm and a\n",
      "    PRF of 2200 Hz.  Using the space below the figure, plot the wind\n",
      "    direction (with wind from the east at 90 degrees and wind from the\n",
      "    west at 270 degrees) and the wind speed as functions of height,\n",
      "    Assume that the outer range ring is at vertical elevation of 24 km\n",
      "    and that the radar is at sea level, and pretend that the wind speed\n",
      "    is in m/s, not knots. (so the blue colors start at -51 m/s and go in\n",
      "    steps of 7 m/s towards zero then on to speeds of +51 m/s in the\n",
      "    yellow)."
     ]
    },
    {
     "cell_type": "markdown",
     "metadata": {},
     "source": [
      "a) Answer -- range rings at elevations of 12 km and 24 km, so wind is blowing west to east with a maximum at 18 km of about 30 m/s"
     ]
    },
    {
     "cell_type": "markdown",
     "metadata": {},
     "source": [
      "b) Now assume that the the PRF is reduced to 1100 Hz.  Describe\n",
      "   qualitatively what the radar image would look like if it was not\n",
      "   corrected for aliasing.  You can draw contour lines on the map and\n",
      "   verbally describe the color patterns inside the ring."
     ]
    },
    {
     "cell_type": "markdown",
     "metadata": {},
     "source": [
      "b) Answer:  first find mrmax and MUR for the two PRFs"
     ]
    },
    {
     "cell_type": "code",
     "collapsed": false,
     "input": [
      "the_lambda=0.1\n",
      "c=3.e8\n",
      "PRF=2200\n",
      "mrmax=the_lambda*PRF/4.\n",
      "MUR=c/(2.*PRF)*1.e-3\n",
      "print(\"At a PRF of {} Hz, the mrmax is {} m/s and the MUR is {} km\".format(PRF,mrmax,MUR))"
     ],
     "language": "python",
     "metadata": {},
     "outputs": [],
     "prompt_number": ""
    },
    {
     "cell_type": "code",
     "collapsed": false,
     "input": [
      "PRF=1100\n",
      "mrmax=the_lambda*PRF/4.\n",
      "MUR=c/(2.*PRF)*1.e-3\n",
      "print(\"At a PRF of {} Hz, the mrmax is {} m/s and the MUR is {} km\".format(PRF,mrmax,MUR))"
     ],
     "language": "python",
     "metadata": {},
     "outputs": [],
     "prompt_number": ""
    },
    {
     "cell_type": "markdown",
     "metadata": {},
     "source": [
      "So there will be aliasing once the wind speed exceeds 27.5 m/s.  The maxium wind speed of 30 m/s is to produce a phase angle of:"
     ]
    },
    {
     "cell_type": "code",
     "collapsed": false,
     "input": [
      "delta_phi=30/27.5*180.\n",
      "print(\"phase angle for 30 m/s is {} degrees\".format(delta_phi))\n",
      "print(\"radar will display this as {} degrees in opposite direction\".format((360. - delta_phi)))\n",
      "print(\"the magnitude of the aliased velocity will be {} m/s\".format((360. - delta_phi)/180.*mrmax))"
     ],
     "language": "python",
     "metadata": {},
     "outputs": [],
     "prompt_number": ""
    },
    {
     "cell_type": "markdown",
     "metadata": {},
     "source": [
      "So the diagram will change color from blue to red or from red to blue at the 27.5 m/s isoline with the displayed windspeed decreasing from 27.5 to 25 m/s as it actually increases from 27.5 to 30 m/s"
     ]
    },
    {
     "cell_type": "markdown",
     "metadata": {},
     "source": [
      "c)  Find the smallest phase angle (magnitude and direction) between two pulses when the radial \n",
      "    wind speed is 30 m/s and the    PRF is at  i) 1100 Hz and ii) 2200 Hz"
     ]
    },
    {
     "cell_type": "code",
     "collapsed": false,
     "input": [
      "text=\"\"\"At 2200 Hz, the mrmax is 55 m/s and the smallest phase angle for 30 ms is: {:5.2f} degrees\n",
      "        At 1110 Hz, the mrmax is 27.5 m/s and the smallest phase angle for 30 m/s is {:5.2f} degrees\n",
      "     \"\"\"\n",
      "print(text.format((30/55.*180.),(360. - (30./27.5*180.))))"
     ],
     "language": "python",
     "metadata": {},
     "outputs": [],
     "prompt_number": ""
    },
    {
     "cell_type": "markdown",
     "metadata": {},
     "source": [
      "d) Find the maximum unambiguous range for this radar when the\n",
      "   PRF is at i) 1100 Hz and ii) 2200 Hz."
     ]
    },
    {
     "cell_type": "markdown",
     "metadata": {},
     "source": [
      "As calculated above,  at 2200 Hz the MUR is 68.1 km and at 1100 Hz the MUR is 136.6 km"
     ]
    }
   ],
   "metadata": {}
  }
 ]
}